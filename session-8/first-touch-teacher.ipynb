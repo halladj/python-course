{
 "cells": [
  {
   "cell_type": "markdown",
   "id": "00558d1e-aef2-46b6-ab07-48ce16751363",
   "metadata": {},
   "source": [
    "# Pandas and Numpy"
   ]
  },
  {
   "cell_type": "code",
   "execution_count": 32,
   "id": "62050a36-6617-4e03-ab96-ef3732edffea",
   "metadata": {},
   "outputs": [],
   "source": [
    "import pandas as pd\n",
    "import numpy  as np "
   ]
  },
  {
   "cell_type": "markdown",
   "id": "72c67b35-4a8a-49b0-a49a-5b4e5509e96e",
   "metadata": {},
   "source": [
    "### Why do we need them??\n",
    "\n",
    "* NumPy aims to provide an array object that is up to 50x faster than traditional Python lists.\n",
    "* Arrays are very frequently used in data science, where speed and resources are very important.\n"
   ]
  },
  {
   "cell_type": "markdown",
   "id": "f8933c02-8e2a-44a5-9c61-3c9e47a19529",
   "metadata": {},
   "source": [
    "## Numpy"
   ]
  },
  {
   "cell_type": "code",
   "execution_count": 33,
   "id": "b879030c-9fe0-43f1-adbe-8805fb6fdd48",
   "metadata": {},
   "outputs": [
    {
     "name": "stdout",
     "output_type": "stream",
     "text": [
      "[1 2 3 4 5]\n"
     ]
    }
   ],
   "source": [
    "arr = np.array( [1, 2, 3, 4, 5] )\n",
    "\n",
    "print(arr)"
   ]
  },
  {
   "cell_type": "code",
   "execution_count": 34,
   "id": "08493df0-8b6a-407e-b54e-006a6bb70d98",
   "metadata": {},
   "outputs": [
    {
     "data": {
      "text/plain": [
       "(5,)"
      ]
     },
     "execution_count": 34,
     "metadata": {},
     "output_type": "execute_result"
    }
   ],
   "source": [
    "arr.shape"
   ]
  },
  {
   "cell_type": "code",
   "execution_count": 35,
   "id": "3db1e666-d5ad-43f9-ba2c-061530ef91c3",
   "metadata": {},
   "outputs": [
    {
     "data": {
      "text/plain": [
       "5"
      ]
     },
     "execution_count": 35,
     "metadata": {},
     "output_type": "execute_result"
    }
   ],
   "source": [
    "arr.size"
   ]
  },
  {
   "cell_type": "code",
   "execution_count": 36,
   "id": "3eaee7fc-110a-4a12-9622-8ad849289838",
   "metadata": {},
   "outputs": [
    {
     "name": "stdout",
     "output_type": "stream",
     "text": [
      "[1 2 3 4 5]\n"
     ]
    }
   ],
   "source": [
    "import numpy as np\n",
    "\n",
    "# Create a NumPy array\n",
    "arr = np.array([1, 2, 3, 4, 5])\n",
    "print(arr)"
   ]
  },
  {
   "cell_type": "markdown",
   "id": "6dcb1055-0950-45e8-b67e-4ffbec5ef400",
   "metadata": {},
   "source": [
    "### 2-D Arrays"
   ]
  },
  {
   "cell_type": "code",
   "execution_count": 37,
   "id": "bd7e7c29-2bfa-4590-88f1-2e467f67af96",
   "metadata": {},
   "outputs": [
    {
     "data": {
      "text/plain": [
       "array([[1, 2, 3],\n",
       "       [4, 5, 6]])"
      ]
     },
     "execution_count": 37,
     "metadata": {},
     "output_type": "execute_result"
    }
   ],
   "source": [
    "import numpy as np\n",
    "\n",
    "arr = np.array(\n",
    "    [\n",
    "        [1, 2, 3], \n",
    "        [4, 5, 6]\n",
    "    ])\n",
    "\n",
    "arr"
   ]
  },
  {
   "cell_type": "code",
   "execution_count": 38,
   "id": "b2310d9d-3987-451d-9523-a674dc061219",
   "metadata": {},
   "outputs": [
    {
     "data": {
      "text/plain": [
       "(2, 3)"
      ]
     },
     "execution_count": 38,
     "metadata": {},
     "output_type": "execute_result"
    }
   ],
   "source": [
    "arr.shape"
   ]
  },
  {
   "cell_type": "code",
   "execution_count": 39,
   "id": "ebad99e7-bdba-4bee-899d-8e18b700d947",
   "metadata": {},
   "outputs": [
    {
     "data": {
      "text/plain": [
       "6"
      ]
     },
     "execution_count": 39,
     "metadata": {},
     "output_type": "execute_result"
    }
   ],
   "source": [
    "arr.size"
   ]
  },
  {
   "cell_type": "code",
   "execution_count": 40,
   "id": "69700b40-faf6-4c72-ab04-717e39caf9c2",
   "metadata": {},
   "outputs": [
    {
     "data": {
      "text/plain": [
       "array([[1., 1., 1., 1.]])"
      ]
     },
     "execution_count": 40,
     "metadata": {},
     "output_type": "execute_result"
    }
   ],
   "source": [
    "arr =  np.ones((1,4))\n",
    "arr"
   ]
  },
  {
   "cell_type": "code",
   "execution_count": 41,
   "id": "be749bba-0484-4b49-b5d8-78fb27e01808",
   "metadata": {},
   "outputs": [
    {
     "data": {
      "text/plain": [
       "array([1, 1, 1, 1, 1])"
      ]
     },
     "execution_count": 41,
     "metadata": {},
     "output_type": "execute_result"
    }
   ],
   "source": [
    "arr2 = np.array([1,1,1,1,1])\n",
    "arr2"
   ]
  },
  {
   "cell_type": "code",
   "execution_count": null,
   "id": "78388fc1-8c01-45ef-96e9-ffa109eac003",
   "metadata": {},
   "outputs": [],
   "source": []
  },
  {
   "cell_type": "code",
   "execution_count": 42,
   "id": "f4984fa6-d197-4e44-97b5-1b0a32237a26",
   "metadata": {},
   "outputs": [],
   "source": [
    "# arr = [1,1,1,1]\n",
    "# arr2= [1,1,1,1, 0]"
   ]
  },
  {
   "cell_type": "code",
   "execution_count": 43,
   "id": "a704f53c-2ae5-4f98-bb1d-d0cddd5da266",
   "metadata": {},
   "outputs": [],
   "source": [
    "new_arr = np.array(arr)"
   ]
  },
  {
   "cell_type": "markdown",
   "id": "a63ac8f8-623b-41dd-a782-230641d48a8e",
   "metadata": {},
   "source": [
    "### Array Dimentions"
   ]
  },
  {
   "cell_type": "code",
   "execution_count": 44,
   "id": "299a5742-0cd7-4c14-8a92-5904842a841c",
   "metadata": {},
   "outputs": [
    {
     "data": {
      "text/plain": [
       "array([[1., 1., 1., 1.]])"
      ]
     },
     "execution_count": 44,
     "metadata": {},
     "output_type": "execute_result"
    }
   ],
   "source": [
    "arr"
   ]
  },
  {
   "cell_type": "markdown",
   "id": "6da29756-8adc-4425-baed-3b8a2349e438",
   "metadata": {},
   "source": [
    "### 3-D Arrays"
   ]
  },
  {
   "cell_type": "code",
   "execution_count": 45,
   "id": "0381639a-9031-44d1-898e-2540a614f08a",
   "metadata": {},
   "outputs": [
    {
     "data": {
      "text/plain": [
       "array(1)"
      ]
     },
     "execution_count": 45,
     "metadata": {},
     "output_type": "execute_result"
    }
   ],
   "source": [
    "## TODO: create a 3-D array\n",
    "\n",
    "arr = np.array(1);\n",
    "\n",
    "arr"
   ]
  },
  {
   "cell_type": "markdown",
   "id": "cccb1925-5d03-43e9-bbaa-bcbe439f359b",
   "metadata": {},
   "source": [
    "### Slices (sub-lists)"
   ]
  },
  {
   "cell_type": "code",
   "execution_count": 46,
   "id": "3a0b2aa6-6233-4fa0-bdf7-e03f05dbc6d1",
   "metadata": {},
   "outputs": [
    {
     "data": {
      "text/plain": [
       "array([ 1,  2,  4,  4,  7,  7,  9, 10, 24])"
      ]
     },
     "execution_count": 46,
     "metadata": {},
     "output_type": "execute_result"
    }
   ],
   "source": [
    "arr = np.array([7,4,2,4,7,9,1,10,24])\n",
    "\n",
    "arr.sort(axis=0)\n",
    "arr\n",
    "\n",
    "# arr[2:3]"
   ]
  },
  {
   "cell_type": "code",
   "execution_count": 47,
   "id": "cd914842-5674-4408-8b3d-7b053d2414d3",
   "metadata": {},
   "outputs": [
    {
     "data": {
      "text/plain": [
       "array([[ 1,  2,  3,  4,  5],\n",
       "       [ 6,  7,  8,  9, 10]])"
      ]
     },
     "execution_count": 47,
     "metadata": {},
     "output_type": "execute_result"
    }
   ],
   "source": [
    "arr = np.array(\n",
    "    [\n",
    "        [1,2,3,4,5],\n",
    "        [6,7,8,9,10],\n",
    "        [11,12,13,14,15]\n",
    "    ])\n",
    "\n",
    "arr[0: 3-1]\n",
    "arr[0: -1]\n",
    "\n"
   ]
  },
  {
   "cell_type": "markdown",
   "id": "5973a6a6-1488-4b0d-ac2c-725f5e059b00",
   "metadata": {},
   "source": [
    "### Concatenation"
   ]
  },
  {
   "cell_type": "code",
   "execution_count": 48,
   "id": "a95f1e0a-a28b-40f2-9011-4a8cf7143447",
   "metadata": {},
   "outputs": [
    {
     "name": "stdout",
     "output_type": "stream",
     "text": [
      "[[1 2]\n",
      " [3 4]]\n"
     ]
    }
   ],
   "source": [
    "arr1 = np.array([[1, 2], [3, 4]])\n",
    "print(arr1)"
   ]
  },
  {
   "cell_type": "code",
   "execution_count": 49,
   "id": "8c54d372-db77-4c14-b1bb-62dd9700fae6",
   "metadata": {},
   "outputs": [
    {
     "name": "stdout",
     "output_type": "stream",
     "text": [
      "[[5 6]\n",
      " [7 8]]\n"
     ]
    }
   ],
   "source": [
    "arr2 = np.array([[5, 6], [7, 8]])\n",
    "print(arr2)"
   ]
  },
  {
   "cell_type": "code",
   "execution_count": 50,
   "id": "19c8bf47-7a3c-4f7f-9595-1ed10a87480e",
   "metadata": {},
   "outputs": [
    {
     "name": "stdout",
     "output_type": "stream",
     "text": [
      "[[1 2 5 6]\n",
      " [3 4 7 8]]\n"
     ]
    }
   ],
   "source": [
    "arr = np.concatenate((arr1, arr2), axis=1)\n",
    "\n",
    "print(arr) "
   ]
  },
  {
   "cell_type": "markdown",
   "id": "df7bf399-e5db-463c-8d1e-0c777da5b11f",
   "metadata": {},
   "source": [
    "# Pandas\n",
    "\n",
    "*  Efficient Data Handling\n",
    "*  Easy Data Exploration and Analysis\n",
    "* Integration with Other Libraries\n",
    "* Simplified and Intuitive Syntax\n",
    "\n"
   ]
  },
  {
   "cell_type": "markdown",
   "id": "c99e502f-276b-4bde-9f22-bf9867bfc6fd",
   "metadata": {},
   "source": [
    "### What is pandas ?\n",
    "\n",
    "*  Python library used for working with data sets.\n",
    "   It has functions for analyzing, cleaning, exploring, and manipulating data"
   ]
  },
  {
   "cell_type": "markdown",
   "id": "3d92359e-d8b5-46aa-a0d0-2785fb9a1792",
   "metadata": {},
   "source": [
    "## How to Create a DataFrame"
   ]
  },
  {
   "cell_type": "markdown",
   "id": "4d8e80c5-40c5-4cbe-9967-33414714613a",
   "metadata": {},
   "source": [
    "### 1. Create DataFrame from lists of lists"
   ]
  },
  {
   "cell_type": "code",
   "execution_count": 51,
   "id": "d8457b63-985f-4f9e-8b7d-2f0a820e5f62",
   "metadata": {},
   "outputs": [
    {
     "data": {
      "text/html": [
       "<div>\n",
       "<style scoped>\n",
       "    .dataframe tbody tr th:only-of-type {\n",
       "        vertical-align: middle;\n",
       "    }\n",
       "\n",
       "    .dataframe tbody tr th {\n",
       "        vertical-align: top;\n",
       "    }\n",
       "\n",
       "    .dataframe thead th {\n",
       "        text-align: right;\n",
       "    }\n",
       "</style>\n",
       "<table border=\"1\" class=\"dataframe\">\n",
       "  <thead>\n",
       "    <tr style=\"text-align: right;\">\n",
       "      <th></th>\n",
       "      <th>Name</th>\n",
       "      <th>Age</th>\n",
       "    </tr>\n",
       "  </thead>\n",
       "  <tbody>\n",
       "    <tr>\n",
       "      <th>0</th>\n",
       "      <td>tom</td>\n",
       "      <td>10</td>\n",
       "    </tr>\n",
       "    <tr>\n",
       "      <th>1</th>\n",
       "      <td>nick</td>\n",
       "      <td>15</td>\n",
       "    </tr>\n",
       "    <tr>\n",
       "      <th>2</th>\n",
       "      <td>juli</td>\n",
       "      <td>14</td>\n",
       "    </tr>\n",
       "  </tbody>\n",
       "</table>\n",
       "</div>"
      ],
      "text/plain": [
       "   Name  Age\n",
       "0   tom   10\n",
       "1  nick   15\n",
       "2  juli   14"
      ]
     },
     "execution_count": 51,
     "metadata": {},
     "output_type": "execute_result"
    }
   ],
   "source": [
    "# initialize list of lists\n",
    "data = [\n",
    "            ['tom',  10], \n",
    "            ['nick', 15], \n",
    "            ['juli', 14]\n",
    "        ]\n",
    "\n",
    "# Create the pandas DataFrame\n",
    "df = pd.DataFrame(data, columns=['Name', 'Age'])\n",
    "df"
   ]
  },
  {
   "cell_type": "code",
   "execution_count": 52,
   "id": "8f0befbc-8ffa-49b9-8a29-454f14045e6d",
   "metadata": {},
   "outputs": [
    {
     "data": {
      "text/html": [
       "<div>\n",
       "<style scoped>\n",
       "    .dataframe tbody tr th:only-of-type {\n",
       "        vertical-align: middle;\n",
       "    }\n",
       "\n",
       "    .dataframe tbody tr th {\n",
       "        vertical-align: top;\n",
       "    }\n",
       "\n",
       "    .dataframe thead th {\n",
       "        text-align: right;\n",
       "    }\n",
       "</style>\n",
       "<table border=\"1\" class=\"dataframe\">\n",
       "  <thead>\n",
       "    <tr style=\"text-align: right;\">\n",
       "      <th></th>\n",
       "      <th>Name</th>\n",
       "      <th>Age</th>\n",
       "    </tr>\n",
       "  </thead>\n",
       "  <tbody>\n",
       "    <tr>\n",
       "      <th>0</th>\n",
       "      <td>tom</td>\n",
       "      <td>10</td>\n",
       "    </tr>\n",
       "    <tr>\n",
       "      <th>1</th>\n",
       "      <td>nick</td>\n",
       "      <td>15</td>\n",
       "    </tr>\n",
       "  </tbody>\n",
       "</table>\n",
       "</div>"
      ],
      "text/plain": [
       "   Name  Age\n",
       "0   tom   10\n",
       "1  nick   15"
      ]
     },
     "execution_count": 52,
     "metadata": {},
     "output_type": "execute_result"
    }
   ],
   "source": [
    "df[ df.Age != 14 ] "
   ]
  },
  {
   "cell_type": "code",
   "execution_count": 53,
   "id": "14a8b6ba-09d0-4625-bd5e-97081b1c4dac",
   "metadata": {},
   "outputs": [
    {
     "data": {
      "text/plain": [
       "0     tom\n",
       "1    nick\n",
       "2    juli\n",
       "Name: Name, dtype: object"
      ]
     },
     "execution_count": 53,
     "metadata": {},
     "output_type": "execute_result"
    }
   ],
   "source": [
    "df.Name"
   ]
  },
  {
   "cell_type": "markdown",
   "id": "dadbfb7b-ca2a-46ea-8d7b-e751f61a6502",
   "metadata": {},
   "source": [
    "### 2.Create DataFrame from Dictionary of ndArray/Lists"
   ]
  },
  {
   "cell_type": "code",
   "execution_count": 54,
   "id": "9663710b-4bdd-4005-8c12-bf5899094331",
   "metadata": {},
   "outputs": [
    {
     "data": {
      "text/html": [
       "<div>\n",
       "<style scoped>\n",
       "    .dataframe tbody tr th:only-of-type {\n",
       "        vertical-align: middle;\n",
       "    }\n",
       "\n",
       "    .dataframe tbody tr th {\n",
       "        vertical-align: top;\n",
       "    }\n",
       "\n",
       "    .dataframe thead th {\n",
       "        text-align: right;\n",
       "    }\n",
       "</style>\n",
       "<table border=\"1\" class=\"dataframe\">\n",
       "  <thead>\n",
       "    <tr style=\"text-align: right;\">\n",
       "      <th></th>\n",
       "      <th>Name</th>\n",
       "      <th>Age</th>\n",
       "    </tr>\n",
       "  </thead>\n",
       "  <tbody>\n",
       "    <tr>\n",
       "      <th>0</th>\n",
       "      <td>Tom</td>\n",
       "      <td>20</td>\n",
       "    </tr>\n",
       "    <tr>\n",
       "      <th>1</th>\n",
       "      <td>nick</td>\n",
       "      <td>21</td>\n",
       "    </tr>\n",
       "    <tr>\n",
       "      <th>2</th>\n",
       "      <td>krish</td>\n",
       "      <td>19</td>\n",
       "    </tr>\n",
       "    <tr>\n",
       "      <th>3</th>\n",
       "      <td>jack</td>\n",
       "      <td>18</td>\n",
       "    </tr>\n",
       "  </tbody>\n",
       "</table>\n",
       "</div>"
      ],
      "text/plain": [
       "    Name  Age\n",
       "0    Tom   20\n",
       "1   nick   21\n",
       "2  krish   19\n",
       "3   jack   18"
      ]
     },
     "execution_count": 54,
     "metadata": {},
     "output_type": "execute_result"
    }
   ],
   "source": [
    "# initialize data of lists.\n",
    "data = {\n",
    "    'Name': ['Tom', 'nick', 'krish', 'jack'],\n",
    "    'Age' : [ 20  , 21    , 19     , 18]\n",
    "}\n",
    "\n",
    "# Create DataFrame\n",
    "df = pd.DataFrame(data)\n",
    "df"
   ]
  },
  {
   "cell_type": "markdown",
   "id": "5c464366-81bc-4b05-9260-d1b4be164c0d",
   "metadata": {},
   "source": [
    "### 3. Create DataFrame from List of Dictionaries"
   ]
  },
  {
   "cell_type": "code",
   "execution_count": 55,
   "id": "6e29cccb-f9d8-43f3-830f-7868a0a9c750",
   "metadata": {},
   "outputs": [
    {
     "data": {
      "text/html": [
       "<div>\n",
       "<style scoped>\n",
       "    .dataframe tbody tr th:only-of-type {\n",
       "        vertical-align: middle;\n",
       "    }\n",
       "\n",
       "    .dataframe tbody tr th {\n",
       "        vertical-align: top;\n",
       "    }\n",
       "\n",
       "    .dataframe thead th {\n",
       "        text-align: right;\n",
       "    }\n",
       "</style>\n",
       "<table border=\"1\" class=\"dataframe\">\n",
       "  <thead>\n",
       "    <tr style=\"text-align: right;\">\n",
       "      <th></th>\n",
       "      <th>Name</th>\n",
       "      <th>Age</th>\n",
       "    </tr>\n",
       "  </thead>\n",
       "  <tbody>\n",
       "    <tr>\n",
       "      <th>0</th>\n",
       "      <td>Tom</td>\n",
       "      <td>20</td>\n",
       "    </tr>\n",
       "    <tr>\n",
       "      <th>1</th>\n",
       "      <td>nick</td>\n",
       "      <td>21</td>\n",
       "    </tr>\n",
       "    <tr>\n",
       "      <th>2</th>\n",
       "      <td>krish</td>\n",
       "      <td>19</td>\n",
       "    </tr>\n",
       "    <tr>\n",
       "      <th>3</th>\n",
       "      <td>jack</td>\n",
       "      <td>18</td>\n",
       "    </tr>\n",
       "  </tbody>\n",
       "</table>\n",
       "</div>"
      ],
      "text/plain": [
       "    Name  Age\n",
       "0    Tom   20\n",
       "1   nick   21\n",
       "2  krish   19\n",
       "3   jack   18"
      ]
     },
     "execution_count": 55,
     "metadata": {},
     "output_type": "execute_result"
    }
   ],
   "source": [
    "data = [\n",
    "    {'a': 1, 'b': 2, 'c': 3},\n",
    "    {'a': 10, 'b': 20, 'c': 30}\n",
    "]\n",
    "\n",
    "data = {\n",
    "    'Name': ['Tom', 'nick', 'krish', 'jack'],\n",
    "    'Age' : [ 20  , 21    , 19     , 18]\n",
    "}\n",
    "\n",
    "# Creates DataFrame.\n",
    "df = pd.DataFrame(data)\n",
    "df"
   ]
  },
  {
   "cell_type": "code",
   "execution_count": 56,
   "id": "d3830e83-cb6c-404e-98d2-e25ffbb72325",
   "metadata": {},
   "outputs": [],
   "source": [
    "x = 10\n",
    "x = 5"
   ]
  },
  {
   "cell_type": "markdown",
   "id": "cb295d19-d08f-4e53-aff3-7aacdfccda78",
   "metadata": {},
   "source": [
    "#### another example"
   ]
  },
  {
   "cell_type": "code",
   "execution_count": 57,
   "id": "c93423c7-e190-4c9b-920d-e8bae1b7eb3f",
   "metadata": {},
   "outputs": [
    {
     "data": {
      "text/html": [
       "<div>\n",
       "<style scoped>\n",
       "    .dataframe tbody tr th:only-of-type {\n",
       "        vertical-align: middle;\n",
       "    }\n",
       "\n",
       "    .dataframe tbody tr th {\n",
       "        vertical-align: top;\n",
       "    }\n",
       "\n",
       "    .dataframe thead th {\n",
       "        text-align: right;\n",
       "    }\n",
       "</style>\n",
       "<table border=\"1\" class=\"dataframe\">\n",
       "  <thead>\n",
       "    <tr style=\"text-align: right;\">\n",
       "      <th></th>\n",
       "      <th>a</th>\n",
       "      <th>b</th>\n",
       "      <th>c</th>\n",
       "    </tr>\n",
       "  </thead>\n",
       "  <tbody>\n",
       "    <tr>\n",
       "      <th>first</th>\n",
       "      <td>1</td>\n",
       "      <td>2</td>\n",
       "      <td>3</td>\n",
       "    </tr>\n",
       "    <tr>\n",
       "      <th>second</th>\n",
       "      <td>10</td>\n",
       "      <td>20</td>\n",
       "      <td>30</td>\n",
       "    </tr>\n",
       "  </tbody>\n",
       "</table>\n",
       "</div>"
      ],
      "text/plain": [
       "         a   b   c\n",
       "first    1   2   3\n",
       "second  10  20  30"
      ]
     },
     "execution_count": 57,
     "metadata": {},
     "output_type": "execute_result"
    }
   ],
   "source": [
    "data = [{'a':1 ,'b': 2, 'c': 3}, {'a': 10, 'b': 20, 'c': 30}]\n",
    "\n",
    "# Creates pandas DataFrame by passing\n",
    "# Lists of dictionaries and row index.\n",
    "df = pd.DataFrame(data, index=['first', 'second'])\n",
    "df"
   ]
  },
  {
   "cell_type": "markdown",
   "id": "96912be0-291b-41bb-8172-558b1ea668ab",
   "metadata": {},
   "source": [
    "### 4. from csv or excel"
   ]
  },
  {
   "cell_type": "code",
   "execution_count": 58,
   "id": "a67ae132-7f6f-4653-8d77-b60b780b25a5",
   "metadata": {},
   "outputs": [
    {
     "data": {
      "text/html": [
       "<div>\n",
       "<style scoped>\n",
       "    .dataframe tbody tr th:only-of-type {\n",
       "        vertical-align: middle;\n",
       "    }\n",
       "\n",
       "    .dataframe tbody tr th {\n",
       "        vertical-align: top;\n",
       "    }\n",
       "\n",
       "    .dataframe thead th {\n",
       "        text-align: right;\n",
       "    }\n",
       "</style>\n",
       "<table border=\"1\" class=\"dataframe\">\n",
       "  <thead>\n",
       "    <tr style=\"text-align: right;\">\n",
       "      <th></th>\n",
       "      <th>Name</th>\n",
       "      <th>Age</th>\n",
       "      <th>Class</th>\n",
       "      <th>Grade</th>\n",
       "    </tr>\n",
       "  </thead>\n",
       "  <tbody>\n",
       "    <tr>\n",
       "      <th>0</th>\n",
       "      <td>Alice</td>\n",
       "      <td>24</td>\n",
       "      <td>A</td>\n",
       "      <td>98.0</td>\n",
       "    </tr>\n",
       "    <tr>\n",
       "      <th>1</th>\n",
       "      <td>Bob</td>\n",
       "      <td>27</td>\n",
       "      <td>B</td>\n",
       "      <td>85.0</td>\n",
       "    </tr>\n",
       "    <tr>\n",
       "      <th>2</th>\n",
       "      <td>Charlie</td>\n",
       "      <td>22</td>\n",
       "      <td>A</td>\n",
       "      <td>90.0</td>\n",
       "    </tr>\n",
       "    <tr>\n",
       "      <th>3</th>\n",
       "      <td>David</td>\n",
       "      <td>23</td>\n",
       "      <td>B</td>\n",
       "      <td>82.0</td>\n",
       "    </tr>\n",
       "    <tr>\n",
       "      <th>4</th>\n",
       "      <td>Eva</td>\n",
       "      <td>21</td>\n",
       "      <td>A</td>\n",
       "      <td>92.0</td>\n",
       "    </tr>\n",
       "    <tr>\n",
       "      <th>...</th>\n",
       "      <td>...</td>\n",
       "      <td>...</td>\n",
       "      <td>...</td>\n",
       "      <td>...</td>\n",
       "    </tr>\n",
       "    <tr>\n",
       "      <th>107</th>\n",
       "      <td>Jack</td>\n",
       "      <td>22</td>\n",
       "      <td>B</td>\n",
       "      <td>86.0</td>\n",
       "    </tr>\n",
       "    <tr>\n",
       "      <th>108</th>\n",
       "      <td>Jane</td>\n",
       "      <td>18</td>\n",
       "      <td>B</td>\n",
       "      <td>82.0</td>\n",
       "    </tr>\n",
       "    <tr>\n",
       "      <th>109</th>\n",
       "      <td>Charlie</td>\n",
       "      <td>20</td>\n",
       "      <td>C</td>\n",
       "      <td>79.0</td>\n",
       "    </tr>\n",
       "    <tr>\n",
       "      <th>110</th>\n",
       "      <td>Nina</td>\n",
       "      <td>27</td>\n",
       "      <td>F</td>\n",
       "      <td>NaN</td>\n",
       "    </tr>\n",
       "    <tr>\n",
       "      <th>111</th>\n",
       "      <td>Bob</td>\n",
       "      <td>26</td>\n",
       "      <td>F</td>\n",
       "      <td>34.0</td>\n",
       "    </tr>\n",
       "  </tbody>\n",
       "</table>\n",
       "<p>112 rows × 4 columns</p>\n",
       "</div>"
      ],
      "text/plain": [
       "        Name  Age Class  Grade\n",
       "0      Alice   24     A   98.0\n",
       "1        Bob   27     B   85.0\n",
       "2    Charlie   22     A   90.0\n",
       "3      David   23     B   82.0\n",
       "4        Eva   21     A   92.0\n",
       "..       ...  ...   ...    ...\n",
       "107     Jack   22     B   86.0\n",
       "108     Jane   18     B   82.0\n",
       "109  Charlie   20     C   79.0\n",
       "110     Nina   27     F    NaN\n",
       "111      Bob   26     F   34.0\n",
       "\n",
       "[112 rows x 4 columns]"
      ]
     },
     "execution_count": 58,
     "metadata": {},
     "output_type": "execute_result"
    }
   ],
   "source": [
    "df = pd.read_csv(\"./students.csv\");\n",
    "df"
   ]
  },
  {
   "cell_type": "code",
   "execution_count": 59,
   "id": "d8809f01-100b-4fad-9beb-b7ec8fca1bf5",
   "metadata": {},
   "outputs": [
    {
     "data": {
      "text/html": [
       "<div>\n",
       "<style scoped>\n",
       "    .dataframe tbody tr th:only-of-type {\n",
       "        vertical-align: middle;\n",
       "    }\n",
       "\n",
       "    .dataframe tbody tr th {\n",
       "        vertical-align: top;\n",
       "    }\n",
       "\n",
       "    .dataframe thead th {\n",
       "        text-align: right;\n",
       "    }\n",
       "</style>\n",
       "<table border=\"1\" class=\"dataframe\">\n",
       "  <thead>\n",
       "    <tr style=\"text-align: right;\">\n",
       "      <th></th>\n",
       "      <th>Name</th>\n",
       "      <th>Age</th>\n",
       "      <th>Class</th>\n",
       "      <th>Grade</th>\n",
       "    </tr>\n",
       "  </thead>\n",
       "  <tbody>\n",
       "    <tr>\n",
       "      <th>0</th>\n",
       "      <td>Alice</td>\n",
       "      <td>24</td>\n",
       "      <td>A</td>\n",
       "      <td>98.0</td>\n",
       "    </tr>\n",
       "    <tr>\n",
       "      <th>1</th>\n",
       "      <td>Bob</td>\n",
       "      <td>27</td>\n",
       "      <td>B</td>\n",
       "      <td>85.0</td>\n",
       "    </tr>\n",
       "    <tr>\n",
       "      <th>2</th>\n",
       "      <td>Charlie</td>\n",
       "      <td>22</td>\n",
       "      <td>A</td>\n",
       "      <td>90.0</td>\n",
       "    </tr>\n",
       "    <tr>\n",
       "      <th>3</th>\n",
       "      <td>David</td>\n",
       "      <td>23</td>\n",
       "      <td>B</td>\n",
       "      <td>82.0</td>\n",
       "    </tr>\n",
       "    <tr>\n",
       "      <th>4</th>\n",
       "      <td>Eva</td>\n",
       "      <td>21</td>\n",
       "      <td>A</td>\n",
       "      <td>92.0</td>\n",
       "    </tr>\n",
       "    <tr>\n",
       "      <th>...</th>\n",
       "      <td>...</td>\n",
       "      <td>...</td>\n",
       "      <td>...</td>\n",
       "      <td>...</td>\n",
       "    </tr>\n",
       "    <tr>\n",
       "      <th>106</th>\n",
       "      <td>Oscar</td>\n",
       "      <td>21</td>\n",
       "      <td>A</td>\n",
       "      <td>95.0</td>\n",
       "    </tr>\n",
       "    <tr>\n",
       "      <th>107</th>\n",
       "      <td>Jack</td>\n",
       "      <td>22</td>\n",
       "      <td>B</td>\n",
       "      <td>86.0</td>\n",
       "    </tr>\n",
       "    <tr>\n",
       "      <th>109</th>\n",
       "      <td>Charlie</td>\n",
       "      <td>20</td>\n",
       "      <td>C</td>\n",
       "      <td>79.0</td>\n",
       "    </tr>\n",
       "    <tr>\n",
       "      <th>110</th>\n",
       "      <td>Nina</td>\n",
       "      <td>27</td>\n",
       "      <td>F</td>\n",
       "      <td>NaN</td>\n",
       "    </tr>\n",
       "    <tr>\n",
       "      <th>111</th>\n",
       "      <td>Bob</td>\n",
       "      <td>26</td>\n",
       "      <td>F</td>\n",
       "      <td>34.0</td>\n",
       "    </tr>\n",
       "  </tbody>\n",
       "</table>\n",
       "<p>90 rows × 4 columns</p>\n",
       "</div>"
      ],
      "text/plain": [
       "        Name  Age Class  Grade\n",
       "0      Alice   24     A   98.0\n",
       "1        Bob   27     B   85.0\n",
       "2    Charlie   22     A   90.0\n",
       "3      David   23     B   82.0\n",
       "4        Eva   21     A   92.0\n",
       "..       ...  ...   ...    ...\n",
       "106    Oscar   21     A   95.0\n",
       "107     Jack   22     B   86.0\n",
       "109  Charlie   20     C   79.0\n",
       "110     Nina   27     F    NaN\n",
       "111      Bob   26     F   34.0\n",
       "\n",
       "[90 rows x 4 columns]"
      ]
     },
     "execution_count": 59,
     "metadata": {},
     "output_type": "execute_result"
    }
   ],
   "source": [
    "df [ df.Age >= 20 ] "
   ]
  },
  {
   "cell_type": "code",
   "execution_count": 60,
   "id": "e8d26bf3-990a-48d7-85bd-fca2be7b7d39",
   "metadata": {},
   "outputs": [
    {
     "data": {
      "text/plain": [
       "0        Alice\n",
       "1          Bob\n",
       "2      Charlie\n",
       "3        David\n",
       "4          Eva\n",
       "        ...   \n",
       "107       Jack\n",
       "108       Jane\n",
       "109    Charlie\n",
       "110       Nina\n",
       "111        Bob\n",
       "Name: Name, Length: 112, dtype: object"
      ]
     },
     "execution_count": 60,
     "metadata": {},
     "output_type": "execute_result"
    }
   ],
   "source": [
    "df.Name"
   ]
  },
  {
   "cell_type": "markdown",
   "id": "87159478-1ab4-4b63-a96c-1b8ab11baef2",
   "metadata": {},
   "source": [
    "# Pandas Basics and Operations"
   ]
  },
  {
   "cell_type": "markdown",
   "id": "823a3433-6f71-4b23-ae2a-0cf3ee4544dc",
   "metadata": {},
   "source": [
    "### Informations about dataset"
   ]
  },
  {
   "cell_type": "code",
   "execution_count": 61,
   "id": "cd0416a4-71bf-4167-bd28-4b45853aff7e",
   "metadata": {},
   "outputs": [
    {
     "name": "stdout",
     "output_type": "stream",
     "text": [
      "<class 'pandas.core.frame.DataFrame'>\n",
      "RangeIndex: 112 entries, 0 to 111\n",
      "Data columns (total 4 columns):\n",
      " #   Column  Non-Null Count  Dtype  \n",
      "---  ------  --------------  -----  \n",
      " 0   Name    112 non-null    object \n",
      " 1   Age     112 non-null    int64  \n",
      " 2   Class   104 non-null    object \n",
      " 3   Grade   107 non-null    float64\n",
      "dtypes: float64(1), int64(1), object(2)\n",
      "memory usage: 3.6+ KB\n"
     ]
    }
   ],
   "source": [
    "df.info()"
   ]
  },
  {
   "cell_type": "markdown",
   "id": "ac6d8c26-8019-4e4d-acf2-80d4e4d7e1e4",
   "metadata": {},
   "source": [
    "### Check how the data looks"
   ]
  },
  {
   "cell_type": "code",
   "execution_count": 62,
   "id": "ad466ed0-17bf-4c62-939d-328cefce027f",
   "metadata": {},
   "outputs": [
    {
     "data": {
      "text/html": [
       "<div>\n",
       "<style scoped>\n",
       "    .dataframe tbody tr th:only-of-type {\n",
       "        vertical-align: middle;\n",
       "    }\n",
       "\n",
       "    .dataframe tbody tr th {\n",
       "        vertical-align: top;\n",
       "    }\n",
       "\n",
       "    .dataframe thead th {\n",
       "        text-align: right;\n",
       "    }\n",
       "</style>\n",
       "<table border=\"1\" class=\"dataframe\">\n",
       "  <thead>\n",
       "    <tr style=\"text-align: right;\">\n",
       "      <th></th>\n",
       "      <th>Name</th>\n",
       "      <th>Age</th>\n",
       "      <th>Class</th>\n",
       "      <th>Grade</th>\n",
       "    </tr>\n",
       "  </thead>\n",
       "  <tbody>\n",
       "    <tr>\n",
       "      <th>0</th>\n",
       "      <td>Alice</td>\n",
       "      <td>24</td>\n",
       "      <td>A</td>\n",
       "      <td>98.0</td>\n",
       "    </tr>\n",
       "    <tr>\n",
       "      <th>1</th>\n",
       "      <td>Bob</td>\n",
       "      <td>27</td>\n",
       "      <td>B</td>\n",
       "      <td>85.0</td>\n",
       "    </tr>\n",
       "    <tr>\n",
       "      <th>2</th>\n",
       "      <td>Charlie</td>\n",
       "      <td>22</td>\n",
       "      <td>A</td>\n",
       "      <td>90.0</td>\n",
       "    </tr>\n",
       "    <tr>\n",
       "      <th>3</th>\n",
       "      <td>David</td>\n",
       "      <td>23</td>\n",
       "      <td>B</td>\n",
       "      <td>82.0</td>\n",
       "    </tr>\n",
       "    <tr>\n",
       "      <th>4</th>\n",
       "      <td>Eva</td>\n",
       "      <td>21</td>\n",
       "      <td>A</td>\n",
       "      <td>92.0</td>\n",
       "    </tr>\n",
       "  </tbody>\n",
       "</table>\n",
       "</div>"
      ],
      "text/plain": [
       "      Name  Age Class  Grade\n",
       "0    Alice   24     A   98.0\n",
       "1      Bob   27     B   85.0\n",
       "2  Charlie   22     A   90.0\n",
       "3    David   23     B   82.0\n",
       "4      Eva   21     A   92.0"
      ]
     },
     "execution_count": 62,
     "metadata": {},
     "output_type": "execute_result"
    }
   ],
   "source": [
    "df.head()"
   ]
  },
  {
   "cell_type": "code",
   "execution_count": 63,
   "id": "cc5f67bb-7115-40cf-9b85-13795ecfb7b7",
   "metadata": {},
   "outputs": [
    {
     "data": {
      "text/html": [
       "<div>\n",
       "<style scoped>\n",
       "    .dataframe tbody tr th:only-of-type {\n",
       "        vertical-align: middle;\n",
       "    }\n",
       "\n",
       "    .dataframe tbody tr th {\n",
       "        vertical-align: top;\n",
       "    }\n",
       "\n",
       "    .dataframe thead th {\n",
       "        text-align: right;\n",
       "    }\n",
       "</style>\n",
       "<table border=\"1\" class=\"dataframe\">\n",
       "  <thead>\n",
       "    <tr style=\"text-align: right;\">\n",
       "      <th></th>\n",
       "      <th>Name</th>\n",
       "      <th>Age</th>\n",
       "      <th>Class</th>\n",
       "      <th>Grade</th>\n",
       "    </tr>\n",
       "  </thead>\n",
       "  <tbody>\n",
       "    <tr>\n",
       "      <th>107</th>\n",
       "      <td>Jack</td>\n",
       "      <td>22</td>\n",
       "      <td>B</td>\n",
       "      <td>86.0</td>\n",
       "    </tr>\n",
       "    <tr>\n",
       "      <th>108</th>\n",
       "      <td>Jane</td>\n",
       "      <td>18</td>\n",
       "      <td>B</td>\n",
       "      <td>82.0</td>\n",
       "    </tr>\n",
       "    <tr>\n",
       "      <th>109</th>\n",
       "      <td>Charlie</td>\n",
       "      <td>20</td>\n",
       "      <td>C</td>\n",
       "      <td>79.0</td>\n",
       "    </tr>\n",
       "    <tr>\n",
       "      <th>110</th>\n",
       "      <td>Nina</td>\n",
       "      <td>27</td>\n",
       "      <td>F</td>\n",
       "      <td>NaN</td>\n",
       "    </tr>\n",
       "    <tr>\n",
       "      <th>111</th>\n",
       "      <td>Bob</td>\n",
       "      <td>26</td>\n",
       "      <td>F</td>\n",
       "      <td>34.0</td>\n",
       "    </tr>\n",
       "  </tbody>\n",
       "</table>\n",
       "</div>"
      ],
      "text/plain": [
       "        Name  Age Class  Grade\n",
       "107     Jack   22     B   86.0\n",
       "108     Jane   18     B   82.0\n",
       "109  Charlie   20     C   79.0\n",
       "110     Nina   27     F    NaN\n",
       "111      Bob   26     F   34.0"
      ]
     },
     "execution_count": 63,
     "metadata": {},
     "output_type": "execute_result"
    }
   ],
   "source": [
    "df.tail()"
   ]
  },
  {
   "cell_type": "markdown",
   "id": "fca9fee2-c889-4718-926c-8a4764e4985a",
   "metadata": {},
   "source": [
    "### Shape of DataSet"
   ]
  },
  {
   "cell_type": "code",
   "execution_count": 64,
   "id": "a58a4177-f3e4-42dc-bfce-3e478269a0e6",
   "metadata": {},
   "outputs": [
    {
     "data": {
      "text/plain": [
       "(112, 4)"
      ]
     },
     "execution_count": 64,
     "metadata": {},
     "output_type": "execute_result"
    }
   ],
   "source": [
    "df.shape"
   ]
  },
  {
   "cell_type": "markdown",
   "id": "64356f5a-ce1e-4bf8-a58f-7f3d90f918f8",
   "metadata": {},
   "source": [
    "### Types of features"
   ]
  },
  {
   "cell_type": "code",
   "execution_count": 65,
   "id": "8db5786b-00b5-44e4-a9a3-03a3985d2442",
   "metadata": {},
   "outputs": [
    {
     "data": {
      "text/plain": [
       "Name      object\n",
       "Age        int64\n",
       "Class     object\n",
       "Grade    float64\n",
       "dtype: object"
      ]
     },
     "execution_count": 65,
     "metadata": {},
     "output_type": "execute_result"
    }
   ],
   "source": [
    "df.dtypes"
   ]
  },
  {
   "cell_type": "markdown",
   "id": "09b4cf9b-25cb-45a2-9e96-0cdf91b127b7",
   "metadata": {},
   "source": [
    "### Change Object into Category type"
   ]
  },
  {
   "cell_type": "code",
   "execution_count": 66,
   "id": "e223da47-cd28-4454-a241-7eea0eaedeb8",
   "metadata": {},
   "outputs": [],
   "source": [
    "df[\"Name\"] = df[\"Name\"].astype(\"category\")\n",
    "df[\"Class\"] = df[\"Class\"].astype(\"category\")"
   ]
  },
  {
   "cell_type": "code",
   "execution_count": 67,
   "id": "0392490e-5175-4c7e-9aac-8613bcf588d7",
   "metadata": {},
   "outputs": [
    {
     "data": {
      "text/plain": [
       "Name     category\n",
       "Age         int64\n",
       "Class    category\n",
       "Grade     float64\n",
       "dtype: object"
      ]
     },
     "execution_count": 67,
     "metadata": {},
     "output_type": "execute_result"
    }
   ],
   "source": [
    "df.dtypes"
   ]
  },
  {
   "cell_type": "markdown",
   "id": "5cf9ebe3-f11a-431e-93f5-97c2dae7bcb5",
   "metadata": {},
   "source": [
    "### Informations about dataset"
   ]
  },
  {
   "cell_type": "code",
   "execution_count": 68,
   "id": "cb3c7a34-808d-4094-9413-60830da87b09",
   "metadata": {},
   "outputs": [
    {
     "name": "stdout",
     "output_type": "stream",
     "text": [
      "<class 'pandas.core.frame.DataFrame'>\n",
      "RangeIndex: 112 entries, 0 to 111\n",
      "Data columns (total 4 columns):\n",
      " #   Column  Non-Null Count  Dtype   \n",
      "---  ------  --------------  -----   \n",
      " 0   Name    112 non-null    category\n",
      " 1   Age     112 non-null    int64   \n",
      " 2   Class   104 non-null    category\n",
      " 3   Grade   107 non-null    float64 \n",
      "dtypes: category(2), float64(1), int64(1)\n",
      "memory usage: 3.6 KB\n"
     ]
    }
   ],
   "source": [
    "df.info()"
   ]
  },
  {
   "cell_type": "markdown",
   "id": "4039c618-f3c4-4484-a18d-9ffb1f4d76b4",
   "metadata": {},
   "source": [
    "### Statistics about numerical data"
   ]
  },
  {
   "cell_type": "code",
   "execution_count": 69,
   "id": "02ec6f30-4605-47e9-9909-02e234ded7e4",
   "metadata": {},
   "outputs": [
    {
     "data": {
      "text/html": [
       "<div>\n",
       "<style scoped>\n",
       "    .dataframe tbody tr th:only-of-type {\n",
       "        vertical-align: middle;\n",
       "    }\n",
       "\n",
       "    .dataframe tbody tr th {\n",
       "        vertical-align: top;\n",
       "    }\n",
       "\n",
       "    .dataframe thead th {\n",
       "        text-align: right;\n",
       "    }\n",
       "</style>\n",
       "<table border=\"1\" class=\"dataframe\">\n",
       "  <thead>\n",
       "    <tr style=\"text-align: right;\">\n",
       "      <th></th>\n",
       "      <th>Age</th>\n",
       "      <th>Grade</th>\n",
       "    </tr>\n",
       "  </thead>\n",
       "  <tbody>\n",
       "    <tr>\n",
       "      <th>count</th>\n",
       "      <td>112.000000</td>\n",
       "      <td>107.000000</td>\n",
       "    </tr>\n",
       "    <tr>\n",
       "      <th>mean</th>\n",
       "      <td>23.410714</td>\n",
       "      <td>75.616822</td>\n",
       "    </tr>\n",
       "    <tr>\n",
       "      <th>std</th>\n",
       "      <td>3.600685</td>\n",
       "      <td>18.911235</td>\n",
       "    </tr>\n",
       "    <tr>\n",
       "      <th>min</th>\n",
       "      <td>18.000000</td>\n",
       "      <td>15.000000</td>\n",
       "    </tr>\n",
       "    <tr>\n",
       "      <th>25%</th>\n",
       "      <td>20.000000</td>\n",
       "      <td>66.500000</td>\n",
       "    </tr>\n",
       "    <tr>\n",
       "      <th>50%</th>\n",
       "      <td>23.000000</td>\n",
       "      <td>76.000000</td>\n",
       "    </tr>\n",
       "    <tr>\n",
       "      <th>75%</th>\n",
       "      <td>27.000000</td>\n",
       "      <td>90.000000</td>\n",
       "    </tr>\n",
       "    <tr>\n",
       "      <th>max</th>\n",
       "      <td>29.000000</td>\n",
       "      <td>99.000000</td>\n",
       "    </tr>\n",
       "  </tbody>\n",
       "</table>\n",
       "</div>"
      ],
      "text/plain": [
       "              Age       Grade\n",
       "count  112.000000  107.000000\n",
       "mean    23.410714   75.616822\n",
       "std      3.600685   18.911235\n",
       "min     18.000000   15.000000\n",
       "25%     20.000000   66.500000\n",
       "50%     23.000000   76.000000\n",
       "75%     27.000000   90.000000\n",
       "max     29.000000   99.000000"
      ]
     },
     "execution_count": 69,
     "metadata": {},
     "output_type": "execute_result"
    }
   ],
   "source": [
    "df.describe()"
   ]
  },
  {
   "cell_type": "markdown",
   "id": "aa6bc0dc-8faf-4a07-a89e-0636f108fef0",
   "metadata": {},
   "source": [
    "### count of categorical data"
   ]
  },
  {
   "cell_type": "code",
   "execution_count": 70,
   "id": "2d2dba6d-c1fa-44f8-ab39-8c308ec3061d",
   "metadata": {},
   "outputs": [
    {
     "data": {
      "text/plain": [
       "Class\n",
       "A    28\n",
       "D    25\n",
       "B    19\n",
       "C    18\n",
       "F    14\n",
       "Name: count, dtype: int64"
      ]
     },
     "execution_count": 70,
     "metadata": {},
     "output_type": "execute_result"
    }
   ],
   "source": [
    "df[\"Class\"].value_counts()"
   ]
  },
  {
   "cell_type": "markdown",
   "id": "0f016992-0862-4aa7-b817-4ed7f5788f27",
   "metadata": {},
   "source": [
    "### check for null data"
   ]
  },
  {
   "cell_type": "code",
   "execution_count": 71,
   "id": "21a66147-6403-4105-ad1f-9477451304d9",
   "metadata": {},
   "outputs": [
    {
     "data": {
      "text/plain": [
       "Name     0\n",
       "Age      0\n",
       "Class    8\n",
       "Grade    5\n",
       "dtype: int64"
      ]
     },
     "execution_count": 71,
     "metadata": {},
     "output_type": "execute_result"
    }
   ],
   "source": [
    "df.isna().sum()"
   ]
  },
  {
   "cell_type": "markdown",
   "id": "55a405f4-c054-4381-8f6e-e1af887783b8",
   "metadata": {},
   "source": [
    "### Add new students using .concat()"
   ]
  },
  {
   "cell_type": "code",
   "execution_count": 72,
   "id": "18a92bf5-0509-439e-81c9-c774ad0e0b50",
   "metadata": {},
   "outputs": [
    {
     "data": {
      "text/html": [
       "<div>\n",
       "<style scoped>\n",
       "    .dataframe tbody tr th:only-of-type {\n",
       "        vertical-align: middle;\n",
       "    }\n",
       "\n",
       "    .dataframe tbody tr th {\n",
       "        vertical-align: top;\n",
       "    }\n",
       "\n",
       "    .dataframe thead th {\n",
       "        text-align: right;\n",
       "    }\n",
       "</style>\n",
       "<table border=\"1\" class=\"dataframe\">\n",
       "  <thead>\n",
       "    <tr style=\"text-align: right;\">\n",
       "      <th></th>\n",
       "      <th>Name</th>\n",
       "      <th>Age</th>\n",
       "      <th>Class</th>\n",
       "      <th>Grade</th>\n",
       "    </tr>\n",
       "  </thead>\n",
       "  <tbody>\n",
       "    <tr>\n",
       "      <th>0</th>\n",
       "      <td>Hamza</td>\n",
       "      <td>21</td>\n",
       "      <td>A</td>\n",
       "      <td>99</td>\n",
       "    </tr>\n",
       "    <tr>\n",
       "      <th>1</th>\n",
       "      <td>Jane</td>\n",
       "      <td>26</td>\n",
       "      <td>B</td>\n",
       "      <td>87</td>\n",
       "    </tr>\n",
       "  </tbody>\n",
       "</table>\n",
       "</div>"
      ],
      "text/plain": [
       "    Name  Age Class  Grade\n",
       "0  Hamza   21     A     99\n",
       "1   Jane   26     B     87"
      ]
     },
     "execution_count": 72,
     "metadata": {},
     "output_type": "execute_result"
    }
   ],
   "source": [
    "data = [{'Name': \"Hamza\", 'Age': 21, 'Class': 'A', \"Grade\":99},\n",
    "        {'Name': \"Jane\",  'Age': 26, 'Class': 'B', \"Grade\":87}]\n",
    "\n",
    "# Creates DataFrame.\n",
    "df2 = pd.DataFrame(data)\n",
    "df2"
   ]
  },
  {
   "cell_type": "code",
   "execution_count": 73,
   "id": "2e226daf-99ce-4d31-a6d2-03214b76430b",
   "metadata": {},
   "outputs": [],
   "source": [
    "# df = pd.concat([df, df2])\n"
   ]
  },
  {
   "cell_type": "code",
   "execution_count": 74,
   "id": "dd4c5812-f425-4432-932b-1fe3febd467c",
   "metadata": {},
   "outputs": [
    {
     "data": {
      "text/plain": [
       "Name\n",
       "Grace      9\n",
       "David      8\n",
       "Ivy        7\n",
       "Oscar      7\n",
       "Hannah     6\n",
       "Ian        6\n",
       "Mike       6\n",
       "Xander     6\n",
       "Eva        6\n",
       "Bob        5\n",
       "Wendy      5\n",
       "Yasmin     4\n",
       "Jane       4\n",
       "Vera       4\n",
       "Charlie    3\n",
       "Frank      3\n",
       "Alice      3\n",
       "Lara       3\n",
       "Paul       3\n",
       "Quinn      3\n",
       "Ursula     2\n",
       "Jack       2\n",
       "Steve      2\n",
       "Tina       2\n",
       "Zane       2\n",
       "Nina       1\n",
       "Name: count, dtype: int64"
      ]
     },
     "execution_count": 74,
     "metadata": {},
     "output_type": "execute_result"
    }
   ],
   "source": [
    "df[\"Name\"].value_counts()"
   ]
  },
  {
   "cell_type": "markdown",
   "id": "8945500c-172b-48f5-838b-3420a4fdeaf0",
   "metadata": {},
   "source": [
    "### Filter"
   ]
  },
  {
   "cell_type": "code",
   "execution_count": 75,
   "id": "b09f34af-b3f9-4005-80bb-7714b84a6f46",
   "metadata": {},
   "outputs": [
    {
     "data": {
      "text/html": [
       "<div>\n",
       "<style scoped>\n",
       "    .dataframe tbody tr th:only-of-type {\n",
       "        vertical-align: middle;\n",
       "    }\n",
       "\n",
       "    .dataframe tbody tr th {\n",
       "        vertical-align: top;\n",
       "    }\n",
       "\n",
       "    .dataframe thead th {\n",
       "        text-align: right;\n",
       "    }\n",
       "</style>\n",
       "<table border=\"1\" class=\"dataframe\">\n",
       "  <thead>\n",
       "    <tr style=\"text-align: right;\">\n",
       "      <th></th>\n",
       "      <th>Name</th>\n",
       "      <th>Age</th>\n",
       "      <th>Class</th>\n",
       "      <th>Grade</th>\n",
       "    </tr>\n",
       "  </thead>\n",
       "  <tbody>\n",
       "    <tr>\n",
       "      <th>0</th>\n",
       "      <td>Alice</td>\n",
       "      <td>24</td>\n",
       "      <td>A</td>\n",
       "      <td>98.0</td>\n",
       "    </tr>\n",
       "    <tr>\n",
       "      <th>4</th>\n",
       "      <td>Eva</td>\n",
       "      <td>21</td>\n",
       "      <td>A</td>\n",
       "      <td>92.0</td>\n",
       "    </tr>\n",
       "    <tr>\n",
       "      <th>6</th>\n",
       "      <td>Grace</td>\n",
       "      <td>23</td>\n",
       "      <td>A</td>\n",
       "      <td>95.0</td>\n",
       "    </tr>\n",
       "    <tr>\n",
       "      <th>8</th>\n",
       "      <td>Ian</td>\n",
       "      <td>22</td>\n",
       "      <td>A</td>\n",
       "      <td>91.0</td>\n",
       "    </tr>\n",
       "    <tr>\n",
       "      <th>12</th>\n",
       "      <td>Yasmin</td>\n",
       "      <td>28</td>\n",
       "      <td>NaN</td>\n",
       "      <td>96.0</td>\n",
       "    </tr>\n",
       "    <tr>\n",
       "      <th>14</th>\n",
       "      <td>Wendy</td>\n",
       "      <td>24</td>\n",
       "      <td>A</td>\n",
       "      <td>99.0</td>\n",
       "    </tr>\n",
       "    <tr>\n",
       "      <th>19</th>\n",
       "      <td>David</td>\n",
       "      <td>27</td>\n",
       "      <td>A</td>\n",
       "      <td>93.0</td>\n",
       "    </tr>\n",
       "    <tr>\n",
       "      <th>24</th>\n",
       "      <td>Tina</td>\n",
       "      <td>20</td>\n",
       "      <td>A</td>\n",
       "      <td>96.0</td>\n",
       "    </tr>\n",
       "    <tr>\n",
       "      <th>34</th>\n",
       "      <td>Ivy</td>\n",
       "      <td>18</td>\n",
       "      <td>A</td>\n",
       "      <td>96.0</td>\n",
       "    </tr>\n",
       "    <tr>\n",
       "      <th>38</th>\n",
       "      <td>Xander</td>\n",
       "      <td>18</td>\n",
       "      <td>A</td>\n",
       "      <td>96.0</td>\n",
       "    </tr>\n",
       "    <tr>\n",
       "      <th>40</th>\n",
       "      <td>Wendy</td>\n",
       "      <td>21</td>\n",
       "      <td>A</td>\n",
       "      <td>95.0</td>\n",
       "    </tr>\n",
       "    <tr>\n",
       "      <th>52</th>\n",
       "      <td>Quinn</td>\n",
       "      <td>27</td>\n",
       "      <td>A</td>\n",
       "      <td>99.0</td>\n",
       "    </tr>\n",
       "    <tr>\n",
       "      <th>56</th>\n",
       "      <td>Steve</td>\n",
       "      <td>21</td>\n",
       "      <td>A</td>\n",
       "      <td>94.0</td>\n",
       "    </tr>\n",
       "    <tr>\n",
       "      <th>59</th>\n",
       "      <td>Jane</td>\n",
       "      <td>26</td>\n",
       "      <td>A</td>\n",
       "      <td>98.0</td>\n",
       "    </tr>\n",
       "    <tr>\n",
       "      <th>63</th>\n",
       "      <td>David</td>\n",
       "      <td>24</td>\n",
       "      <td>A</td>\n",
       "      <td>91.0</td>\n",
       "    </tr>\n",
       "    <tr>\n",
       "      <th>69</th>\n",
       "      <td>Wendy</td>\n",
       "      <td>19</td>\n",
       "      <td>A</td>\n",
       "      <td>93.0</td>\n",
       "    </tr>\n",
       "    <tr>\n",
       "      <th>78</th>\n",
       "      <td>Bob</td>\n",
       "      <td>25</td>\n",
       "      <td>A</td>\n",
       "      <td>92.0</td>\n",
       "    </tr>\n",
       "    <tr>\n",
       "      <th>80</th>\n",
       "      <td>Hannah</td>\n",
       "      <td>27</td>\n",
       "      <td>A</td>\n",
       "      <td>97.0</td>\n",
       "    </tr>\n",
       "    <tr>\n",
       "      <th>86</th>\n",
       "      <td>Hannah</td>\n",
       "      <td>27</td>\n",
       "      <td>A</td>\n",
       "      <td>97.0</td>\n",
       "    </tr>\n",
       "    <tr>\n",
       "      <th>87</th>\n",
       "      <td>Grace</td>\n",
       "      <td>25</td>\n",
       "      <td>A</td>\n",
       "      <td>96.0</td>\n",
       "    </tr>\n",
       "    <tr>\n",
       "      <th>88</th>\n",
       "      <td>Ivy</td>\n",
       "      <td>28</td>\n",
       "      <td>A</td>\n",
       "      <td>98.0</td>\n",
       "    </tr>\n",
       "    <tr>\n",
       "      <th>89</th>\n",
       "      <td>Wendy</td>\n",
       "      <td>20</td>\n",
       "      <td>A</td>\n",
       "      <td>91.0</td>\n",
       "    </tr>\n",
       "    <tr>\n",
       "      <th>95</th>\n",
       "      <td>Hannah</td>\n",
       "      <td>27</td>\n",
       "      <td>A</td>\n",
       "      <td>97.0</td>\n",
       "    </tr>\n",
       "    <tr>\n",
       "      <th>96</th>\n",
       "      <td>Hannah</td>\n",
       "      <td>27</td>\n",
       "      <td>A</td>\n",
       "      <td>97.0</td>\n",
       "    </tr>\n",
       "    <tr>\n",
       "      <th>105</th>\n",
       "      <td>Wendy</td>\n",
       "      <td>24</td>\n",
       "      <td>A</td>\n",
       "      <td>91.0</td>\n",
       "    </tr>\n",
       "    <tr>\n",
       "      <th>106</th>\n",
       "      <td>Oscar</td>\n",
       "      <td>21</td>\n",
       "      <td>A</td>\n",
       "      <td>95.0</td>\n",
       "    </tr>\n",
       "  </tbody>\n",
       "</table>\n",
       "</div>"
      ],
      "text/plain": [
       "       Name  Age Class  Grade\n",
       "0     Alice   24     A   98.0\n",
       "4       Eva   21     A   92.0\n",
       "6     Grace   23     A   95.0\n",
       "8       Ian   22     A   91.0\n",
       "12   Yasmin   28   NaN   96.0\n",
       "14    Wendy   24     A   99.0\n",
       "19    David   27     A   93.0\n",
       "24     Tina   20     A   96.0\n",
       "34      Ivy   18     A   96.0\n",
       "38   Xander   18     A   96.0\n",
       "40    Wendy   21     A   95.0\n",
       "52    Quinn   27     A   99.0\n",
       "56    Steve   21     A   94.0\n",
       "59     Jane   26     A   98.0\n",
       "63    David   24     A   91.0\n",
       "69    Wendy   19     A   93.0\n",
       "78      Bob   25     A   92.0\n",
       "80   Hannah   27     A   97.0\n",
       "86   Hannah   27     A   97.0\n",
       "87    Grace   25     A   96.0\n",
       "88      Ivy   28     A   98.0\n",
       "89    Wendy   20     A   91.0\n",
       "95   Hannah   27     A   97.0\n",
       "96   Hannah   27     A   97.0\n",
       "105   Wendy   24     A   91.0\n",
       "106   Oscar   21     A   95.0"
      ]
     },
     "execution_count": 75,
     "metadata": {},
     "output_type": "execute_result"
    }
   ],
   "source": [
    "df[df.Grade > 90]"
   ]
  },
  {
   "cell_type": "markdown",
   "id": "2bd82863-003e-4d38-b506-cfc9b147bc60",
   "metadata": {},
   "source": [
    "### Students who are 20 or older"
   ]
  },
  {
   "cell_type": "code",
   "execution_count": null,
   "id": "9fd5a1b8-2cbd-43f4-8b4a-b3aa2d847c94",
   "metadata": {},
   "outputs": [],
   "source": []
  },
  {
   "cell_type": "markdown",
   "id": "b183cfdb-9ce6-44c0-a753-8e208b3c3ccb",
   "metadata": {},
   "source": [
    "### Only Students who got B"
   ]
  },
  {
   "cell_type": "code",
   "execution_count": null,
   "id": "685d4913-00c8-4af7-8e55-7be5fe5e65a0",
   "metadata": {},
   "outputs": [],
   "source": []
  },
  {
   "cell_type": "markdown",
   "id": "18e7746a-8ef8-4ffc-a438-7e6d40b0638a",
   "metadata": {},
   "source": [
    "### Multiply Grade by TWO for everyone"
   ]
  },
  {
   "cell_type": "code",
   "execution_count": null,
   "id": "da25aa87-a2fb-4fb2-8202-edc328bb9d92",
   "metadata": {},
   "outputs": [],
   "source": []
  },
  {
   "cell_type": "markdown",
   "id": "887d827c-3463-4fc3-9e5b-1b2aa78431d6",
   "metadata": {},
   "source": [
    "# Plot"
   ]
  },
  {
   "cell_type": "markdown",
   "id": "02c97f20-aa20-40ad-bd84-2ee31d9627f6",
   "metadata": {},
   "source": [
    "### Import Matplot lib"
   ]
  },
  {
   "cell_type": "code",
   "execution_count": 76,
   "id": "60ffe6f8-7bef-46ff-861d-5fbf40fe41c2",
   "metadata": {},
   "outputs": [],
   "source": [
    "import matplotlib.pyplot as plt"
   ]
  },
  {
   "cell_type": "markdown",
   "id": "292173d9-b581-451a-89d8-9dcc8cf0f39e",
   "metadata": {},
   "source": [
    "### Simple line Graph"
   ]
  },
  {
   "cell_type": "code",
   "execution_count": 77,
   "id": "c0c06339-01fe-4a73-a9e5-9f59350a9944",
   "metadata": {},
   "outputs": [
    {
     "data": {
      "image/png": "[encoded data removed]",
      "text/plain": [
       "<Figure size 640x480 with 1 Axes>"
      ]
     },
     "metadata": {},
     "output_type": "display_data"
    }
   ],
   "source": [
    "plt.plot([1, 2, 3], [4, 5, 6], color='red', linestyle='--')\n",
    "plt.title('Sample Plot')\n",
    "plt.xlabel('X-axis')\n",
    "plt.ylabel('Y-axis')\n",
    "plt.show()"
   ]
  },
  {
   "cell_type": "markdown",
   "id": "1cc81562-51d4-43e3-b2ec-9bcba441a30e",
   "metadata": {},
   "source": [
    "### Bar Graph"
   ]
  },
  {
   "cell_type": "code",
   "execution_count": 78,
   "id": "c09b293d-41ca-49fe-946d-88707019068c",
   "metadata": {},
   "outputs": [
    {
     "data": {
      "text/plain": [
       "<BarContainer object of 3 artists>"
      ]
     },
     "execution_count": 78,
     "metadata": {},
     "output_type": "execute_result"
    },
    {
     "data": {
      "image/png": "[encoded data removed]",
      "text/plain": [
       "<Figure size 640x480 with 1 Axes>"
      ]
     },
     "metadata": {},
     "output_type": "display_data"
    }
   ],
   "source": [
    "plt.bar([1, 2, 3], [4, 5, 6])"
   ]
  },
  {
   "cell_type": "markdown",
   "id": "47203cb4-7da8-4ac3-93e4-2dda760a26e8",
   "metadata": {},
   "source": [
    "### Histograph"
   ]
  },
  {
   "cell_type": "code",
   "execution_count": 79,
   "id": "9757d75f-4851-42e2-96a8-825006e972a8",
   "metadata": {},
   "outputs": [
    {
     "data": {
      "text/plain": [
       "(array([1., 2., 3., 4.]),\n",
       " array([1.  , 1.75, 2.5 , 3.25, 4.  ]),\n",
       " <BarContainer object of 4 artists>)"
      ]
     },
     "execution_count": 79,
     "metadata": {},
     "output_type": "execute_result"
    },
    {
     "data": {
      "image/png": "[encoded data removed]",
      "text/plain": [
       "<Figure size 640x480 with 1 Axes>"
      ]
     },
     "metadata": {},
     "output_type": "display_data"
    }
   ],
   "source": [
    "data = [1, 2, 2, 3, 3, 3, 4, 4, 4, 4]\n",
    "plt.hist(data, bins=4)"
   ]
  },
  {
   "cell_type": "markdown",
   "id": "a86271a2-5d80-425a-b55a-7ee533f075b7",
   "metadata": {},
   "source": [
    "### Scatter Plot"
   ]
  },
  {
   "cell_type": "code",
   "execution_count": 80,
   "id": "b83f7f8c-4422-47a7-9017-1c8e9146b0a0",
   "metadata": {},
   "outputs": [
    {
     "data": {
      "image/png": "[encoded data removed]",
      "text/plain": [
       "<Figure size 640x480 with 1 Axes>"
      ]
     },
     "metadata": {},
     "output_type": "display_data"
    }
   ],
   "source": [
    "plt.scatter([1, 2, 3], [4, 5, 6])\n",
    "plt.title('Sample Plot')\n",
    "plt.xlabel('X-axis')\n",
    "plt.ylabel('Y-axis')\n",
    "plt.show()"
   ]
  },
  {
   "cell_type": "markdown",
   "id": "ec86f83a-120d-478b-9faa-0ba6ad87eae9",
   "metadata": {},
   "source": [
    "# Go to other file"
   ]
  },
  {
   "cell_type": "markdown",
   "id": "5e05fac5-3199-4cdc-b975-7e30026f1b40",
   "metadata": {},
   "source": [
    "## Analyse Exploratoire des Données"
   ]
  },
  {
   "cell_type": "markdown",
   "id": "1438baed-c5a1-41c7-8ea4-e643cd0675c2",
   "metadata": {},
   "source": [
    "### Age Histogram"
   ]
  },
  {
   "cell_type": "code",
   "execution_count": 81,
   "id": "16f277f6-0e57-427d-af0e-d822da4ebbf6",
   "metadata": {
    "scrolled": true
   },
   "outputs": [
    {
     "data": {
      "image/png": "[encoded data removed]",
      "text/plain": [
       "<Figure size 1000x500 with 1 Axes>"
      ]
     },
     "metadata": {},
     "output_type": "display_data"
    }
   ],
   "source": [
    "plt.figure(figsize=(10, 5))\n",
    "plt.subplot(1, 2, 1)\n",
    "plt.hist(df['Age'], bins=5, color='skyblue', edgecolor='black')\n",
    "plt.title('Histogram of Age')\n",
    "plt.xlabel('Age')\n",
    "plt.ylabel('Frequency')\n",
    "plt.grid(True)\n"
   ]
  },
  {
   "cell_type": "markdown",
   "id": "3dd968dd-99cd-46c2-a5be-b31d2144099e",
   "metadata": {},
   "source": [
    "### Box Plot of Grade by Class"
   ]
  },
  {
   "cell_type": "code",
   "execution_count": 82,
   "id": "45f72d0d-465d-4ce3-aa3f-380e61ba0adb",
   "metadata": {},
   "outputs": [
    {
     "name": "stderr",
     "output_type": "stream",
     "text": [
      "/tmp/ipykernel_15036/2415976927.py:3: FutureWarning: \n",
      "\n",
      "Passing `palette` without assigning `hue` is deprecated and will be removed in v0.14.0. Assign the `x` variable to `hue` and set `legend=False` for the same effect.\n",
      "\n",
      "  sns.boxplot(x='Class', y='Grade', data=df, palette='Set2')\n"
     ]
    },
    {
     "data": {
      "image/png": "[encoded data removed]",
      "text/plain": [
       "<Figure size 640x480 with 1 Axes>"
      ]
     },
     "metadata": {},
     "output_type": "display_data"
    }
   ],
   "source": [
    "import seaborn as sns\n",
    "plt.subplot(1, 2, 2)\n",
    "sns.boxplot(x='Class', y='Grade', data=df, palette='Set2')\n",
    "plt.title('Box Plot of Grade by Class')\n",
    "plt.xlabel('Class')\n",
    "plt.ylabel('Grade')\n",
    "plt.grid(True)\n",
    "plt.tight_layout()\n",
    "plt.show()\n"
   ]
  },
  {
   "cell_type": "markdown",
   "id": "d9b93dea-c8bf-4a3a-a20a-9d10d4efe620",
   "metadata": {},
   "source": [
    "### Scatter Plot of Age vs. Grade"
   ]
  },
  {
   "cell_type": "code",
   "execution_count": 83,
   "id": "0db2257c-50e5-477c-a507-542cf6944dfb",
   "metadata": {},
   "outputs": [
    {
     "data": {
      "image/png": "[encoded data removed]",
      "text/plain": [
       "<Figure size 800x600 with 1 Axes>"
      ]
     },
     "metadata": {},
     "output_type": "display_data"
    }
   ],
   "source": [
    "plt.figure(figsize=(8, 6))\n",
    "sns.scatterplot(x='Age', y='Grade', hue='Class', data=df, palette='Set1', s=100)\n",
    "plt.title('Scatter Plot of Age vs. Grade')\n",
    "plt.xlabel('Age')\n",
    "plt.ylabel('Grade')\n",
    "plt.grid(True)\n",
    "plt.show()\n"
   ]
  },
  {
   "cell_type": "markdown",
   "id": "0770149f-03af-4d84-ac9a-3cedc89253b5",
   "metadata": {},
   "source": [
    "### Feature Selection"
   ]
  },
  {
   "cell_type": "markdown",
   "id": "7c62dfe8-cdc9-4550-bf0d-ea5ee148481a",
   "metadata": {},
   "source": [
    "##### Drop name since it is not relevent ( understand the domain of your dataset)"
   ]
  },
  {
   "cell_type": "code",
   "execution_count": 84,
   "id": "2773b304-4e63-459b-a42a-29012faf5031",
   "metadata": {},
   "outputs": [],
   "source": [
    "df = df.drop(columns='Name')"
   ]
  },
  {
   "cell_type": "markdown",
   "id": "f5826b53-2c64-498a-994a-4de5b1a7104c",
   "metadata": {},
   "source": [
    "### One Hot Encoder"
   ]
  },
  {
   "cell_type": "code",
   "execution_count": 85,
   "id": "f8ecb4f6-c13f-4f16-89fd-75c9021dc83a",
   "metadata": {},
   "outputs": [
    {
     "data": {
      "text/plain": [
       "array([[1., 0., 0., 0., 0., 0.],\n",
       "       [0., 1., 0., 0., 0., 0.],\n",
       "       [1., 0., 0., 0., 0., 0.],\n",
       "       [0., 1., 0., 0., 0., 0.],\n",
       "       [1., 0., 0., 0., 0., 0.]])"
      ]
     },
     "execution_count": 85,
     "metadata": {},
     "output_type": "execute_result"
    }
   ],
   "source": [
    "from sklearn.preprocessing import OneHotEncoder\n",
    "\n",
    "encoder = OneHotEncoder(sparse_output=False)  \n",
    "encoded_classes = encoder.fit_transform(df[['Class']])\n",
    "\n",
    "encoded_classes[:5]"
   ]
  },
  {
   "cell_type": "code",
   "execution_count": 86,
   "id": "1ed688ef-57ad-4f5e-a3ac-17b42c0c7d5a",
   "metadata": {},
   "outputs": [
    {
     "data": {
      "text/html": [
       "<div>\n",
       "<style scoped>\n",
       "    .dataframe tbody tr th:only-of-type {\n",
       "        vertical-align: middle;\n",
       "    }\n",
       "\n",
       "    .dataframe tbody tr th {\n",
       "        vertical-align: top;\n",
       "    }\n",
       "\n",
       "    .dataframe thead th {\n",
       "        text-align: right;\n",
       "    }\n",
       "</style>\n",
       "<table border=\"1\" class=\"dataframe\">\n",
       "  <thead>\n",
       "    <tr style=\"text-align: right;\">\n",
       "      <th></th>\n",
       "      <th>Age</th>\n",
       "      <th>Grade</th>\n",
       "      <th>Class_A</th>\n",
       "      <th>Class_B</th>\n",
       "      <th>Class_C</th>\n",
       "      <th>Class_D</th>\n",
       "      <th>Class_F</th>\n",
       "      <th>Class_nan</th>\n",
       "    </tr>\n",
       "  </thead>\n",
       "  <tbody>\n",
       "    <tr>\n",
       "      <th>0</th>\n",
       "      <td>24</td>\n",
       "      <td>98.0</td>\n",
       "      <td>1.0</td>\n",
       "      <td>0.0</td>\n",
       "      <td>0.0</td>\n",
       "      <td>0.0</td>\n",
       "      <td>0.0</td>\n",
       "      <td>0.0</td>\n",
       "    </tr>\n",
       "    <tr>\n",
       "      <th>1</th>\n",
       "      <td>27</td>\n",
       "      <td>85.0</td>\n",
       "      <td>0.0</td>\n",
       "      <td>1.0</td>\n",
       "      <td>0.0</td>\n",
       "      <td>0.0</td>\n",
       "      <td>0.0</td>\n",
       "      <td>0.0</td>\n",
       "    </tr>\n",
       "    <tr>\n",
       "      <th>2</th>\n",
       "      <td>22</td>\n",
       "      <td>90.0</td>\n",
       "      <td>1.0</td>\n",
       "      <td>0.0</td>\n",
       "      <td>0.0</td>\n",
       "      <td>0.0</td>\n",
       "      <td>0.0</td>\n",
       "      <td>0.0</td>\n",
       "    </tr>\n",
       "    <tr>\n",
       "      <th>3</th>\n",
       "      <td>23</td>\n",
       "      <td>82.0</td>\n",
       "      <td>0.0</td>\n",
       "      <td>1.0</td>\n",
       "      <td>0.0</td>\n",
       "      <td>0.0</td>\n",
       "      <td>0.0</td>\n",
       "      <td>0.0</td>\n",
       "    </tr>\n",
       "    <tr>\n",
       "      <th>4</th>\n",
       "      <td>21</td>\n",
       "      <td>92.0</td>\n",
       "      <td>1.0</td>\n",
       "      <td>0.0</td>\n",
       "      <td>0.0</td>\n",
       "      <td>0.0</td>\n",
       "      <td>0.0</td>\n",
       "      <td>0.0</td>\n",
       "    </tr>\n",
       "    <tr>\n",
       "      <th>...</th>\n",
       "      <td>...</td>\n",
       "      <td>...</td>\n",
       "      <td>...</td>\n",
       "      <td>...</td>\n",
       "      <td>...</td>\n",
       "      <td>...</td>\n",
       "      <td>...</td>\n",
       "      <td>...</td>\n",
       "    </tr>\n",
       "    <tr>\n",
       "      <th>107</th>\n",
       "      <td>22</td>\n",
       "      <td>86.0</td>\n",
       "      <td>0.0</td>\n",
       "      <td>1.0</td>\n",
       "      <td>0.0</td>\n",
       "      <td>0.0</td>\n",
       "      <td>0.0</td>\n",
       "      <td>0.0</td>\n",
       "    </tr>\n",
       "    <tr>\n",
       "      <th>108</th>\n",
       "      <td>18</td>\n",
       "      <td>82.0</td>\n",
       "      <td>0.0</td>\n",
       "      <td>1.0</td>\n",
       "      <td>0.0</td>\n",
       "      <td>0.0</td>\n",
       "      <td>0.0</td>\n",
       "      <td>0.0</td>\n",
       "    </tr>\n",
       "    <tr>\n",
       "      <th>109</th>\n",
       "      <td>20</td>\n",
       "      <td>79.0</td>\n",
       "      <td>0.0</td>\n",
       "      <td>0.0</td>\n",
       "      <td>1.0</td>\n",
       "      <td>0.0</td>\n",
       "      <td>0.0</td>\n",
       "      <td>0.0</td>\n",
       "    </tr>\n",
       "    <tr>\n",
       "      <th>110</th>\n",
       "      <td>27</td>\n",
       "      <td>NaN</td>\n",
       "      <td>0.0</td>\n",
       "      <td>0.0</td>\n",
       "      <td>0.0</td>\n",
       "      <td>0.0</td>\n",
       "      <td>1.0</td>\n",
       "      <td>0.0</td>\n",
       "    </tr>\n",
       "    <tr>\n",
       "      <th>111</th>\n",
       "      <td>26</td>\n",
       "      <td>34.0</td>\n",
       "      <td>0.0</td>\n",
       "      <td>0.0</td>\n",
       "      <td>0.0</td>\n",
       "      <td>0.0</td>\n",
       "      <td>1.0</td>\n",
       "      <td>0.0</td>\n",
       "    </tr>\n",
       "  </tbody>\n",
       "</table>\n",
       "<p>112 rows × 8 columns</p>\n",
       "</div>"
      ],
      "text/plain": [
       "     Age  Grade  Class_A  Class_B  Class_C  Class_D  Class_F  Class_nan\n",
       "0     24   98.0      1.0      0.0      0.0      0.0      0.0        0.0\n",
       "1     27   85.0      0.0      1.0      0.0      0.0      0.0        0.0\n",
       "2     22   90.0      1.0      0.0      0.0      0.0      0.0        0.0\n",
       "3     23   82.0      0.0      1.0      0.0      0.0      0.0        0.0\n",
       "4     21   92.0      1.0      0.0      0.0      0.0      0.0        0.0\n",
       "..   ...    ...      ...      ...      ...      ...      ...        ...\n",
       "107   22   86.0      0.0      1.0      0.0      0.0      0.0        0.0\n",
       "108   18   82.0      0.0      1.0      0.0      0.0      0.0        0.0\n",
       "109   20   79.0      0.0      0.0      1.0      0.0      0.0        0.0\n",
       "110   27    NaN      0.0      0.0      0.0      0.0      1.0        0.0\n",
       "111   26   34.0      0.0      0.0      0.0      0.0      1.0        0.0\n",
       "\n",
       "[112 rows x 8 columns]"
      ]
     },
     "execution_count": 86,
     "metadata": {},
     "output_type": "execute_result"
    }
   ],
   "source": [
    "encoded_df = pd.DataFrame(encoded_classes, columns=encoder.get_feature_names_out(['Class']))\n",
    "\n",
    "df_encoded = pd.concat([df.drop(columns=[\"Class\"]), encoded_df], axis=1)\n",
    "df_encoded"
   ]
  },
  {
   "cell_type": "markdown",
   "id": "139f9c78-4d2a-4899-ba7d-81b918d636be",
   "metadata": {},
   "source": [
    "### Numerical data numralization"
   ]
  },
  {
   "cell_type": "markdown",
   "id": "600a1c7b-f699-470a-8280-f35f82b83f85",
   "metadata": {},
   "source": [
    "#### Normalization (MinMax Scaling)"
   ]
  },
  {
   "cell_type": "code",
   "execution_count": 87,
   "id": "170db27f-0173-494e-bb06-a5fe5f33050e",
   "metadata": {},
   "outputs": [
    {
     "data": {
      "text/plain": [
       "array([[0.54545455, 0.98809524],\n",
       "       [0.81818182, 0.83333333],\n",
       "       [0.36363636, 0.89285714],\n",
       "       [0.45454545, 0.79761905],\n",
       "       [0.27272727, 0.91666667]])"
      ]
     },
     "execution_count": 87,
     "metadata": {},
     "output_type": "execute_result"
    }
   ],
   "source": [
    "from sklearn.preprocessing import MinMaxScaler\n",
    "\n",
    "scaler = MinMaxScaler()\n",
    "scaled_features = scaler.fit_transform(df_encoded[['Age', 'Grade']])\n",
    "\n",
    "scaled_features[:5]"
   ]
  },
  {
   "cell_type": "code",
   "execution_count": 88,
   "id": "f27d949a-0095-49c8-a51d-a9f60cfeef98",
   "metadata": {},
   "outputs": [
    {
     "data": {
      "text/html": [
       "<div>\n",
       "<style scoped>\n",
       "    .dataframe tbody tr th:only-of-type {\n",
       "        vertical-align: middle;\n",
       "    }\n",
       "\n",
       "    .dataframe tbody tr th {\n",
       "        vertical-align: top;\n",
       "    }\n",
       "\n",
       "    .dataframe thead th {\n",
       "        text-align: right;\n",
       "    }\n",
       "</style>\n",
       "<table border=\"1\" class=\"dataframe\">\n",
       "  <thead>\n",
       "    <tr style=\"text-align: right;\">\n",
       "      <th></th>\n",
       "      <th>Class_A</th>\n",
       "      <th>Class_B</th>\n",
       "      <th>Class_C</th>\n",
       "      <th>Class_D</th>\n",
       "      <th>Class_F</th>\n",
       "      <th>Class_nan</th>\n",
       "      <th>Age_scaled</th>\n",
       "      <th>Grade_scaled</th>\n",
       "    </tr>\n",
       "  </thead>\n",
       "  <tbody>\n",
       "    <tr>\n",
       "      <th>0</th>\n",
       "      <td>1.0</td>\n",
       "      <td>0.0</td>\n",
       "      <td>0.0</td>\n",
       "      <td>0.0</td>\n",
       "      <td>0.0</td>\n",
       "      <td>0.0</td>\n",
       "      <td>0.545455</td>\n",
       "      <td>0.988095</td>\n",
       "    </tr>\n",
       "    <tr>\n",
       "      <th>1</th>\n",
       "      <td>0.0</td>\n",
       "      <td>1.0</td>\n",
       "      <td>0.0</td>\n",
       "      <td>0.0</td>\n",
       "      <td>0.0</td>\n",
       "      <td>0.0</td>\n",
       "      <td>0.818182</td>\n",
       "      <td>0.833333</td>\n",
       "    </tr>\n",
       "    <tr>\n",
       "      <th>2</th>\n",
       "      <td>1.0</td>\n",
       "      <td>0.0</td>\n",
       "      <td>0.0</td>\n",
       "      <td>0.0</td>\n",
       "      <td>0.0</td>\n",
       "      <td>0.0</td>\n",
       "      <td>0.363636</td>\n",
       "      <td>0.892857</td>\n",
       "    </tr>\n",
       "    <tr>\n",
       "      <th>3</th>\n",
       "      <td>0.0</td>\n",
       "      <td>1.0</td>\n",
       "      <td>0.0</td>\n",
       "      <td>0.0</td>\n",
       "      <td>0.0</td>\n",
       "      <td>0.0</td>\n",
       "      <td>0.454545</td>\n",
       "      <td>0.797619</td>\n",
       "    </tr>\n",
       "    <tr>\n",
       "      <th>4</th>\n",
       "      <td>1.0</td>\n",
       "      <td>0.0</td>\n",
       "      <td>0.0</td>\n",
       "      <td>0.0</td>\n",
       "      <td>0.0</td>\n",
       "      <td>0.0</td>\n",
       "      <td>0.272727</td>\n",
       "      <td>0.916667</td>\n",
       "    </tr>\n",
       "    <tr>\n",
       "      <th>...</th>\n",
       "      <td>...</td>\n",
       "      <td>...</td>\n",
       "      <td>...</td>\n",
       "      <td>...</td>\n",
       "      <td>...</td>\n",
       "      <td>...</td>\n",
       "      <td>...</td>\n",
       "      <td>...</td>\n",
       "    </tr>\n",
       "    <tr>\n",
       "      <th>107</th>\n",
       "      <td>0.0</td>\n",
       "      <td>1.0</td>\n",
       "      <td>0.0</td>\n",
       "      <td>0.0</td>\n",
       "      <td>0.0</td>\n",
       "      <td>0.0</td>\n",
       "      <td>0.363636</td>\n",
       "      <td>0.845238</td>\n",
       "    </tr>\n",
       "    <tr>\n",
       "      <th>108</th>\n",
       "      <td>0.0</td>\n",
       "      <td>1.0</td>\n",
       "      <td>0.0</td>\n",
       "      <td>0.0</td>\n",
       "      <td>0.0</td>\n",
       "      <td>0.0</td>\n",
       "      <td>0.000000</td>\n",
       "      <td>0.797619</td>\n",
       "    </tr>\n",
       "    <tr>\n",
       "      <th>109</th>\n",
       "      <td>0.0</td>\n",
       "      <td>0.0</td>\n",
       "      <td>1.0</td>\n",
       "      <td>0.0</td>\n",
       "      <td>0.0</td>\n",
       "      <td>0.0</td>\n",
       "      <td>0.181818</td>\n",
       "      <td>0.761905</td>\n",
       "    </tr>\n",
       "    <tr>\n",
       "      <th>110</th>\n",
       "      <td>0.0</td>\n",
       "      <td>0.0</td>\n",
       "      <td>0.0</td>\n",
       "      <td>0.0</td>\n",
       "      <td>1.0</td>\n",
       "      <td>0.0</td>\n",
       "      <td>0.818182</td>\n",
       "      <td>NaN</td>\n",
       "    </tr>\n",
       "    <tr>\n",
       "      <th>111</th>\n",
       "      <td>0.0</td>\n",
       "      <td>0.0</td>\n",
       "      <td>0.0</td>\n",
       "      <td>0.0</td>\n",
       "      <td>1.0</td>\n",
       "      <td>0.0</td>\n",
       "      <td>0.727273</td>\n",
       "      <td>0.226190</td>\n",
       "    </tr>\n",
       "  </tbody>\n",
       "</table>\n",
       "<p>112 rows × 8 columns</p>\n",
       "</div>"
      ],
      "text/plain": [
       "     Class_A  Class_B  Class_C  Class_D  Class_F  Class_nan  Age_scaled  \\\n",
       "0        1.0      0.0      0.0      0.0      0.0        0.0    0.545455   \n",
       "1        0.0      1.0      0.0      0.0      0.0        0.0    0.818182   \n",
       "2        1.0      0.0      0.0      0.0      0.0        0.0    0.363636   \n",
       "3        0.0      1.0      0.0      0.0      0.0        0.0    0.454545   \n",
       "4        1.0      0.0      0.0      0.0      0.0        0.0    0.272727   \n",
       "..       ...      ...      ...      ...      ...        ...         ...   \n",
       "107      0.0      1.0      0.0      0.0      0.0        0.0    0.363636   \n",
       "108      0.0      1.0      0.0      0.0      0.0        0.0    0.000000   \n",
       "109      0.0      0.0      1.0      0.0      0.0        0.0    0.181818   \n",
       "110      0.0      0.0      0.0      0.0      1.0        0.0    0.818182   \n",
       "111      0.0      0.0      0.0      0.0      1.0        0.0    0.727273   \n",
       "\n",
       "     Grade_scaled  \n",
       "0        0.988095  \n",
       "1        0.833333  \n",
       "2        0.892857  \n",
       "3        0.797619  \n",
       "4        0.916667  \n",
       "..            ...  \n",
       "107      0.845238  \n",
       "108      0.797619  \n",
       "109      0.761905  \n",
       "110           NaN  \n",
       "111      0.226190  \n",
       "\n",
       "[112 rows x 8 columns]"
      ]
     },
     "execution_count": 88,
     "metadata": {},
     "output_type": "execute_result"
    }
   ],
   "source": [
    "scaled_df = pd.DataFrame(scaled_features, columns=['Age_scaled', 'Grade_scaled'])\n",
    "\n",
    "df_scaled = pd.concat([df_encoded.drop(columns=[\"Age\", \"Grade\"]), scaled_df], axis=1)\n",
    "df_scaled"
   ]
  },
  {
   "cell_type": "markdown",
   "id": "9eaac7a7-b32f-4a3a-b9aa-58503882a556",
   "metadata": {},
   "source": [
    "#### Standardization"
   ]
  },
  {
   "cell_type": "code",
   "execution_count": 89,
   "id": "e6359b12-dc51-4ad5-94ce-5813bb07ce8e",
   "metadata": {},
   "outputs": [
    {
     "data": {
      "text/plain": [
       "array([[ 0.16439491,  1.1891614 ],\n",
       "       [ 1.00131444,  0.4985044 ],\n",
       "       [-0.39355144,  0.76414171],\n",
       "       [-0.11457827,  0.33912202],\n",
       "       [-0.67252462,  0.87039664]])"
      ]
     },
     "execution_count": 89,
     "metadata": {},
     "output_type": "execute_result"
    }
   ],
   "source": [
    "from sklearn.preprocessing import StandardScaler\n",
    "\n",
    "scaler = StandardScaler()\n",
    "scaled_features = scaler.fit_transform(df_encoded[['Age', 'Grade']])\n",
    "\n",
    "scaled_features[:5]"
   ]
  },
  {
   "cell_type": "code",
   "execution_count": 90,
   "id": "3719f416-b815-49c8-bbc1-ae643e5dd098",
   "metadata": {},
   "outputs": [
    {
     "data": {
      "text/html": [
       "<div>\n",
       "<style scoped>\n",
       "    .dataframe tbody tr th:only-of-type {\n",
       "        vertical-align: middle;\n",
       "    }\n",
       "\n",
       "    .dataframe tbody tr th {\n",
       "        vertical-align: top;\n",
       "    }\n",
       "\n",
       "    .dataframe thead th {\n",
       "        text-align: right;\n",
       "    }\n",
       "</style>\n",
       "<table border=\"1\" class=\"dataframe\">\n",
       "  <thead>\n",
       "    <tr style=\"text-align: right;\">\n",
       "      <th></th>\n",
       "      <th>Class_A</th>\n",
       "      <th>Class_B</th>\n",
       "      <th>Class_C</th>\n",
       "      <th>Class_D</th>\n",
       "      <th>Class_F</th>\n",
       "      <th>Class_nan</th>\n",
       "      <th>Age_scaled</th>\n",
       "      <th>Grade_scaled</th>\n",
       "    </tr>\n",
       "  </thead>\n",
       "  <tbody>\n",
       "    <tr>\n",
       "      <th>0</th>\n",
       "      <td>1.0</td>\n",
       "      <td>0.0</td>\n",
       "      <td>0.0</td>\n",
       "      <td>0.0</td>\n",
       "      <td>0.0</td>\n",
       "      <td>0.0</td>\n",
       "      <td>0.164395</td>\n",
       "      <td>1.189161</td>\n",
       "    </tr>\n",
       "    <tr>\n",
       "      <th>1</th>\n",
       "      <td>0.0</td>\n",
       "      <td>1.0</td>\n",
       "      <td>0.0</td>\n",
       "      <td>0.0</td>\n",
       "      <td>0.0</td>\n",
       "      <td>0.0</td>\n",
       "      <td>1.001314</td>\n",
       "      <td>0.498504</td>\n",
       "    </tr>\n",
       "    <tr>\n",
       "      <th>2</th>\n",
       "      <td>1.0</td>\n",
       "      <td>0.0</td>\n",
       "      <td>0.0</td>\n",
       "      <td>0.0</td>\n",
       "      <td>0.0</td>\n",
       "      <td>0.0</td>\n",
       "      <td>-0.393551</td>\n",
       "      <td>0.764142</td>\n",
       "    </tr>\n",
       "    <tr>\n",
       "      <th>3</th>\n",
       "      <td>0.0</td>\n",
       "      <td>1.0</td>\n",
       "      <td>0.0</td>\n",
       "      <td>0.0</td>\n",
       "      <td>0.0</td>\n",
       "      <td>0.0</td>\n",
       "      <td>-0.114578</td>\n",
       "      <td>0.339122</td>\n",
       "    </tr>\n",
       "    <tr>\n",
       "      <th>4</th>\n",
       "      <td>1.0</td>\n",
       "      <td>0.0</td>\n",
       "      <td>0.0</td>\n",
       "      <td>0.0</td>\n",
       "      <td>0.0</td>\n",
       "      <td>0.0</td>\n",
       "      <td>-0.672525</td>\n",
       "      <td>0.870397</td>\n",
       "    </tr>\n",
       "    <tr>\n",
       "      <th>...</th>\n",
       "      <td>...</td>\n",
       "      <td>...</td>\n",
       "      <td>...</td>\n",
       "      <td>...</td>\n",
       "      <td>...</td>\n",
       "      <td>...</td>\n",
       "      <td>...</td>\n",
       "      <td>...</td>\n",
       "    </tr>\n",
       "    <tr>\n",
       "      <th>107</th>\n",
       "      <td>0.0</td>\n",
       "      <td>1.0</td>\n",
       "      <td>0.0</td>\n",
       "      <td>0.0</td>\n",
       "      <td>0.0</td>\n",
       "      <td>0.0</td>\n",
       "      <td>-0.393551</td>\n",
       "      <td>0.551632</td>\n",
       "    </tr>\n",
       "    <tr>\n",
       "      <th>108</th>\n",
       "      <td>0.0</td>\n",
       "      <td>1.0</td>\n",
       "      <td>0.0</td>\n",
       "      <td>0.0</td>\n",
       "      <td>0.0</td>\n",
       "      <td>0.0</td>\n",
       "      <td>-1.509444</td>\n",
       "      <td>0.339122</td>\n",
       "    </tr>\n",
       "    <tr>\n",
       "      <th>109</th>\n",
       "      <td>0.0</td>\n",
       "      <td>0.0</td>\n",
       "      <td>1.0</td>\n",
       "      <td>0.0</td>\n",
       "      <td>0.0</td>\n",
       "      <td>0.0</td>\n",
       "      <td>-0.951498</td>\n",
       "      <td>0.179740</td>\n",
       "    </tr>\n",
       "    <tr>\n",
       "      <th>110</th>\n",
       "      <td>0.0</td>\n",
       "      <td>0.0</td>\n",
       "      <td>0.0</td>\n",
       "      <td>0.0</td>\n",
       "      <td>1.0</td>\n",
       "      <td>0.0</td>\n",
       "      <td>1.001314</td>\n",
       "      <td>NaN</td>\n",
       "    </tr>\n",
       "    <tr>\n",
       "      <th>111</th>\n",
       "      <td>0.0</td>\n",
       "      <td>0.0</td>\n",
       "      <td>0.0</td>\n",
       "      <td>0.0</td>\n",
       "      <td>1.0</td>\n",
       "      <td>0.0</td>\n",
       "      <td>0.722341</td>\n",
       "      <td>-2.210996</td>\n",
       "    </tr>\n",
       "  </tbody>\n",
       "</table>\n",
       "<p>112 rows × 8 columns</p>\n",
       "</div>"
      ],
      "text/plain": [
       "     Class_A  Class_B  Class_C  Class_D  Class_F  Class_nan  Age_scaled  \\\n",
       "0        1.0      0.0      0.0      0.0      0.0        0.0    0.164395   \n",
       "1        0.0      1.0      0.0      0.0      0.0        0.0    1.001314   \n",
       "2        1.0      0.0      0.0      0.0      0.0        0.0   -0.393551   \n",
       "3        0.0      1.0      0.0      0.0      0.0        0.0   -0.114578   \n",
       "4        1.0      0.0      0.0      0.0      0.0        0.0   -0.672525   \n",
       "..       ...      ...      ...      ...      ...        ...         ...   \n",
       "107      0.0      1.0      0.0      0.0      0.0        0.0   -0.393551   \n",
       "108      0.0      1.0      0.0      0.0      0.0        0.0   -1.509444   \n",
       "109      0.0      0.0      1.0      0.0      0.0        0.0   -0.951498   \n",
       "110      0.0      0.0      0.0      0.0      1.0        0.0    1.001314   \n",
       "111      0.0      0.0      0.0      0.0      1.0        0.0    0.722341   \n",
       "\n",
       "     Grade_scaled  \n",
       "0        1.189161  \n",
       "1        0.498504  \n",
       "2        0.764142  \n",
       "3        0.339122  \n",
       "4        0.870397  \n",
       "..            ...  \n",
       "107      0.551632  \n",
       "108      0.339122  \n",
       "109      0.179740  \n",
       "110           NaN  \n",
       "111     -2.210996  \n",
       "\n",
       "[112 rows x 8 columns]"
      ]
     },
     "execution_count": 90,
     "metadata": {},
     "output_type": "execute_result"
    }
   ],
   "source": [
    "scaled_df = pd.DataFrame(scaled_features, columns=['Age_scaled', 'Grade_scaled'])\n",
    "\n",
    "df_scaled = pd.concat([df_encoded.drop(columns=[\"Age\", \"Grade\"]), scaled_df], axis=1)\n",
    "df_scaled"
   ]
  },
  {
   "cell_type": "markdown",
   "id": "7bbb7a25-7e39-4743-b191-bf5bab25b992",
   "metadata": {},
   "source": [
    "### Split data into features and tager"
   ]
  },
  {
   "cell_type": "code",
   "execution_count": 91,
   "id": "b1dacde6-82fd-466a-983b-37432f2e06f4",
   "metadata": {},
   "outputs": [],
   "source": [
    "X = df_scaled.drop(columns='Grade_scaled')\n",
    "y = df_scaled['Grade_scaled']\n"
   ]
  },
  {
   "cell_type": "markdown",
   "id": "2d012649-daae-4d16-ab59-5cffe58c422c",
   "metadata": {},
   "source": [
    "### Train Test split"
   ]
  },
  {
   "cell_type": "code",
   "execution_count": 92,
   "id": "ba5a8109-afb6-4212-a8ba-cc0c3d184b8d",
   "metadata": {},
   "outputs": [],
   "source": [
    "from sklearn.model_selection import train_test_split\n",
    "X_train, X_test, y_train, y_test = train_test_split(X, y, test_size=0.2, random_state=42)\n"
   ]
  }
 ],
 "metadata": {
  "kernelspec": {
   "display_name": "Python 3 (ipykernel)",
   "language": "python",
   "name": "python3"
  },
  "language_info": {
   "codemirror_mode": {
    "name": "ipython",
    "version": 3
   },
   "file_extension": ".py",
   "mimetype": "text/x-python",
   "name": "python",
   "nbconvert_exporter": "python",
   "pygments_lexer": "ipython3",
   "version": "3.11.2"
  }
 },
 "nbformat": 4,
 "nbformat_minor": 5
}
