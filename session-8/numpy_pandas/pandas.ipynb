{
 "cells": [
  {
   "cell_type": "code",
   "execution_count": 1,
   "id": "61156b1e-243f-4498-bb7b-d1feb20199da",
   "metadata": {},
   "outputs": [],
   "source": [
    "import pandas as pd"
   ]
  },
  {
   "cell_type": "code",
   "execution_count": 2,
   "id": "5f5bbfbf-3927-4c18-9c17-85aaa2959f4e",
   "metadata": {},
   "outputs": [
    {
     "name": "stdout",
     "output_type": "stream",
     "text": [
      "    name grade\n",
      "0  hamza    A+\n",
      "1   zaki    A+\n",
      "2  amina    A+\n",
      "3   abdo    A+\n"
     ]
    }
   ],
   "source": [
    "df = pd.DataFrame({\n",
    "    \"name\"  : [\"hamza\", \"zaki\", \"amina\", \"abdo\"],\n",
    "    \"grade\" : [\"A+\"   , \"A+\"  , \"A+\"   , \"A+\"  ],\n",
    "})\n",
    "\n",
    "print(df)"
   ]
  },
  {
   "cell_type": "code",
   "execution_count": 4,
   "id": "579402e9-5017-4c2b-bc32-58ba31192c65",
   "metadata": {},
   "outputs": [
    {
     "name": "stdout",
     "output_type": "stream",
     "text": [
      "    name grade\n",
      "0  hamza    A+\n",
      "1   zaki    A+\n",
      "2  amina    A+\n",
      "3   abdo    A+\n"
     ]
    }
   ],
   "source": [
    "df = pd.DataFrame([\n",
    "    [\"hamza\", \"A+\"],\n",
    "    [\"zaki\", \"A+\"],\n",
    "    [\"amina\", \"A+\"],\n",
    "    [\"abdo\", \"A+\"],\n",
    "], columns=[\"name\", \"grade\"])\n",
    "print(df)"
   ]
  },
  {
   "cell_type": "code",
   "execution_count": 5,
   "id": "2f5f9696-7e90-4d89-8b9f-e1b23e06af16",
   "metadata": {},
   "outputs": [],
   "source": [
    "df = pd.read_csv(\"students.csv\")"
   ]
  },
  {
   "cell_type": "code",
   "execution_count": 9,
   "id": "f24ea9c5-7f6b-498a-afc8-49f133ca0357",
   "metadata": {},
   "outputs": [
    {
     "data": {
      "text/html": [
       "<div>\n",
       "<style scoped>\n",
       "    .dataframe tbody tr th:only-of-type {\n",
       "        vertical-align: middle;\n",
       "    }\n",
       "\n",
       "    .dataframe tbody tr th {\n",
       "        vertical-align: top;\n",
       "    }\n",
       "\n",
       "    .dataframe thead th {\n",
       "        text-align: right;\n",
       "    }\n",
       "</style>\n",
       "<table border=\"1\" class=\"dataframe\">\n",
       "  <thead>\n",
       "    <tr style=\"text-align: right;\">\n",
       "      <th></th>\n",
       "      <th>Name</th>\n",
       "      <th>Age</th>\n",
       "      <th>Class</th>\n",
       "      <th>Grade</th>\n",
       "    </tr>\n",
       "  </thead>\n",
       "  <tbody>\n",
       "    <tr>\n",
       "      <th>0</th>\n",
       "      <td>Alice</td>\n",
       "      <td>24</td>\n",
       "      <td>A</td>\n",
       "      <td>88</td>\n",
       "    </tr>\n",
       "    <tr>\n",
       "      <th>1</th>\n",
       "      <td>Bob</td>\n",
       "      <td>27</td>\n",
       "      <td>B</td>\n",
       "      <td>95</td>\n",
       "    </tr>\n",
       "    <tr>\n",
       "      <th>2</th>\n",
       "      <td>Charlie</td>\n",
       "      <td>22</td>\n",
       "      <td>A</td>\n",
       "      <td>70</td>\n",
       "    </tr>\n",
       "  </tbody>\n",
       "</table>\n",
       "</div>"
      ],
      "text/plain": [
       "      Name  Age Class  Grade\n",
       "0    Alice   24     A     88\n",
       "1      Bob   27     B     95\n",
       "2  Charlie   22     A     70"
      ]
     },
     "execution_count": 9,
     "metadata": {},
     "output_type": "execute_result"
    }
   ],
   "source": [
    "df.head(3)"
   ]
  },
  {
   "cell_type": "code",
   "execution_count": 11,
   "id": "8b771f28-0e88-43d7-a8d5-17dbc6113cd1",
   "metadata": {},
   "outputs": [
    {
     "data": {
      "text/html": [
       "<div>\n",
       "<style scoped>\n",
       "    .dataframe tbody tr th:only-of-type {\n",
       "        vertical-align: middle;\n",
       "    }\n",
       "\n",
       "    .dataframe tbody tr th {\n",
       "        vertical-align: top;\n",
       "    }\n",
       "\n",
       "    .dataframe thead th {\n",
       "        text-align: right;\n",
       "    }\n",
       "</style>\n",
       "<table border=\"1\" class=\"dataframe\">\n",
       "  <thead>\n",
       "    <tr style=\"text-align: right;\">\n",
       "      <th></th>\n",
       "      <th>Name</th>\n",
       "      <th>Age</th>\n",
       "      <th>Class</th>\n",
       "      <th>Grade</th>\n",
       "    </tr>\n",
       "  </thead>\n",
       "  <tbody>\n",
       "    <tr>\n",
       "      <th>8</th>\n",
       "      <td>Ian</td>\n",
       "      <td>22</td>\n",
       "      <td>A</td>\n",
       "      <td>91</td>\n",
       "    </tr>\n",
       "    <tr>\n",
       "      <th>9</th>\n",
       "      <td>Jane</td>\n",
       "      <td>26</td>\n",
       "      <td>B</td>\n",
       "      <td>87</td>\n",
       "    </tr>\n",
       "  </tbody>\n",
       "</table>\n",
       "</div>"
      ],
      "text/plain": [
       "   Name  Age Class  Grade\n",
       "8   Ian   22     A     91\n",
       "9  Jane   26     B     87"
      ]
     },
     "execution_count": 11,
     "metadata": {},
     "output_type": "execute_result"
    }
   ],
   "source": [
    "df.tail(2)"
   ]
  },
  {
   "cell_type": "code",
   "execution_count": 14,
   "id": "4173bb80-0d5a-43ea-ad59-215630b36598",
   "metadata": {},
   "outputs": [
    {
     "name": "stdout",
     "output_type": "stream",
     "text": [
      "             Age      Grade\n",
      "count  10.000000  10.000000\n",
      "mean   23.700000  84.500000\n",
      "std     1.888562   7.792446\n",
      "min    21.000000  70.000000\n",
      "25%    22.250000  79.750000\n",
      "50%    23.500000  86.000000\n",
      "75%    24.750000  90.250000\n",
      "max    27.000000  95.000000\n"
     ]
    }
   ],
   "source": [
    "print(df.describe())"
   ]
  },
  {
   "cell_type": "code",
   "execution_count": 18,
   "id": "ecc3759b-3c21-43f8-9de6-e1e6d79da1be",
   "metadata": {},
   "outputs": [
    {
     "name": "stdout",
     "output_type": "stream",
     "text": [
      "   Name  Age Class  Grade\n",
      "1   Bob   27     B     95\n",
      "9  Jane   26     B     87\n"
     ]
    }
   ],
   "source": [
    "print(df[df.Age > 25])"
   ]
  }
 ],
 "metadata": {
  "kernelspec": {
   "display_name": "Python 3 (ipykernel)",
   "language": "python",
   "name": "python3"
  },
  "language_info": {
   "codemirror_mode": {
    "name": "ipython",
    "version": 3
   },
   "file_extension": ".py",
   "mimetype": "text/x-python",
   "name": "python",
   "nbconvert_exporter": "python",
   "pygments_lexer": "ipython3",
   "version": "3.11.2"
  }
 },
 "nbformat": 4,
 "nbformat_minor": 5
}
