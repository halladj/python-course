{
 "cells": [
  {
   "cell_type": "markdown",
   "id": "57f7991d-8760-4c34-aa50-2bb971de71a3",
   "metadata": {},
   "source": [
    "# Homework:\n",
    "\n",
    "#### In this hw, we will be building a class that will work as an interface for a file, handeling creating, a file, printing content of a file, adding content to a file, deleting content from a file."
   ]
  },
  {
   "cell_type": "markdown",
   "id": "9a16533f-2007-4a8a-a40c-32eb3eaa5033",
   "metadata": {},
   "source": [
    "### Part-1\n",
    "\n",
    "* **create a class named p_class, that has a file_name, as attribute(in the constructor, __init__) and opens that file if it exists, if not creates it**"
   ]
  },
  {
   "cell_type": "markdown",
   "id": "eb314689-0fca-44c2-82c1-47704b7b1b97",
   "metadata": {},
   "source": [
    "### Part-2\n",
    "\n",
    "* **add a method to print the content of the file**"
   ]
  },
  {
   "cell_type": "markdown",
   "id": "392203b6-6c7f-41f2-97ae-c5a36d89a3b3",
   "metadata": {},
   "source": [
    "### Part-3\n",
    "\n",
    "* **add a method to add content to the file**"
   ]
  },
  {
   "cell_type": "markdown",
   "id": "b83b5415-043a-4f76-8775-b245634865fc",
   "metadata": {},
   "source": [
    "### Part-4\n",
    "\n",
    "* **add a method to add delete everting from the file**"
   ]
  },
  {
   "cell_type": "markdown",
   "id": "a3bef6fe-77c2-46d4-bff5-52340cadf63b",
   "metadata": {},
   "source": [
    "### Part-5\n",
    "\n",
    "* **add a method to close the file**"
   ]
  }
 ],
 "metadata": {
  "kernelspec": {
   "display_name": "Python 3 (ipykernel)",
   "language": "python",
   "name": "python3"
  },
  "language_info": {
   "codemirror_mode": {
    "name": "ipython",
    "version": 3
   },
   "file_extension": ".py",
   "mimetype": "text/x-python",
   "name": "python",
   "nbconvert_exporter": "python",
   "pygments_lexer": "ipython3",
   "version": "3.11.2"
  }
 },
 "nbformat": 4,
 "nbformat_minor": 5
}
