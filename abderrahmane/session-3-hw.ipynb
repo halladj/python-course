{
 "cells": [
  {
   "cell_type": "markdown",
   "id": "a433ccca-d3ab-4cc5-9769-6fe23bc349c8",
   "metadata": {},
   "source": [
    "# 1. Exercise-1: \n",
    "\n",
    " * **Write a Python program that takes a list of numbers as input and prints the sum of all the numbers in the list.**\n",
    "\n"
   ]
  },
  {
   "cell_type": "code",
   "execution_count": 43,
   "id": "088e2798-cfe7-4958-be66-2ae93a444b32",
   "metadata": {},
   "outputs": [],
   "source": [
    "numlist =[2,10,1,3]\n",
    "mul = 1"
   ]
  },
  {
   "cell_type": "code",
   "execution_count": 44,
   "id": "ffcf5cda-ed4f-4064-a122-5914efdf2e39",
   "metadata": {},
   "outputs": [
    {
     "ename": "NameError",
     "evalue": "name 'sumation' is not defined",
     "output_type": "error",
     "traceback": [
      "\u001b[1;31m---------------------------------------------------------------------------\u001b[0m",
      "\u001b[1;31mNameError\u001b[0m                                 Traceback (most recent call last)",
      "Cell \u001b[1;32mIn[44], line 2\u001b[0m\n\u001b[0;32m      1\u001b[0m \u001b[38;5;28;01mfor\u001b[39;00m i \u001b[38;5;129;01min\u001b[39;00m \u001b[38;5;28mrange\u001b[39m(\u001b[38;5;28mlen\u001b[39m(numlist)):\n\u001b[1;32m----> 2\u001b[0m     sumation \u001b[38;5;241m=\u001b[39m \u001b[43msumation\u001b[49m \u001b[38;5;241m+\u001b[39m numlist[i]\n\u001b[0;32m      3\u001b[0m     \u001b[38;5;28mprint\u001b[39m(sumation,numlist[i])\n",
      "\u001b[1;31mNameError\u001b[0m: name 'sumation' is not defined"
     ]
    }
   ],
   "source": [
    "for i in range(len(numlist)):\n",
    "    sumation = sumation + numlist[i]\n",
    "    print(sumation,numlist[i])\n",
    "\n"
   ]
  },
  {
   "cell_type": "code",
   "execution_count": 47,
   "id": "eda0e97c-1857-4280-a6a3-58c9be50f023",
   "metadata": {},
   "outputs": [
    {
     "name": "stdout",
     "output_type": "stream",
     "text": [
      "my multiplication= 2 2\n",
      "my multiplication= 20 10\n",
      "my multiplication= 20 1\n",
      "my multiplication= 60 3\n"
     ]
    }
   ],
   "source": [
    "for i in range(len(numlist)):\n",
    "    mul= mul * numlist[i]\n",
    "    print(\"my multiplication=\",mul,numlist[i])\n",
    "\n"
   ]
  },
  {
   "cell_type": "markdown",
   "id": "199f27d9-5e1d-4a75-aef3-79410540d474",
   "metadata": {},
   "source": [
    "# 2. Exercise-2: \n",
    "\n",
    " * **Write a Python program that takes a list of numbers and prints only the even numbers from the list.**\n",
    "\n"
   ]
  },
  {
   "cell_type": "code",
   "execution_count": 62,
   "id": "ebe3c2dc-e6ef-490e-98dd-4841a67b1a7e",
   "metadata": {},
   "outputs": [
    {
     "name": "stdout",
     "output_type": "stream",
     "text": [
      "2\n",
      "4\n",
      "6\n",
      "8\n"
     ]
    }
   ],
   "source": [
    "numlist=[1,2,3,4,5,6,7,8,9]\n",
    "for i in range(len(numlist)):\n",
    "    if numlist[i] %2 == 0:\n",
    "        print(numlist[i])"
   ]
  },
  {
   "cell_type": "code",
   "execution_count": 63,
   "id": "4dfa6287-8160-42b8-9ba5-44928158e76b",
   "metadata": {},
   "outputs": [],
   "source": [
    "l=[1,2,3,4,5,6,7,8,9]\n",
    "def even_numbers(l):\n",
    "    for i in range(len(l)): \n",
    "        if l[i] %2 == 0:\n",
    "            print(l[i])\n",
    "    "
   ]
  },
  {
   "cell_type": "code",
   "execution_count": 64,
   "id": "eebc8a05-47f1-495f-aeb8-7974c3d60d5c",
   "metadata": {},
   "outputs": [
    {
     "name": "stdout",
     "output_type": "stream",
     "text": [
      "2\n",
      "4\n",
      "6\n",
      "8\n"
     ]
    }
   ],
   "source": [
    "even_numbers(l)"
   ]
  },
  {
   "cell_type": "code",
   "execution_count": null,
   "id": "2ef480f0-3d94-4d82-b23e-3a8f365bb4a1",
   "metadata": {},
   "outputs": [],
   "source": []
  },
  {
   "cell_type": "markdown",
   "id": "af24cb84-6037-45f4-85b6-3cb9475685da",
   "metadata": {},
   "source": [
    "# 3. Exercise-3: \n",
    "\n",
    " * **Write a programe that takes a list of numbers and creates a dictionary where the keys are the numbers and the values are the squares of those numbers**\n",
    "\n"
   ]
  },
  {
   "cell_type": "code",
   "execution_count": 45,
   "id": "e260362d-14c4-4623-916b-55baa80f0889",
   "metadata": {},
   "outputs": [],
   "source": [
    "l = [3,4,1,12,10,5]\n",
    "d ={}\n",
    "for i in range(len(l)):\n",
    "     d[l[i]] = l[i] ** 2"
   ]
  },
  {
   "cell_type": "code",
   "execution_count": 46,
   "id": "977a8ce0",
   "metadata": {},
   "outputs": [
    {
     "name": "stdout",
     "output_type": "stream",
     "text": [
      "{3: 9, 4: 16, 1: 1, 12: 144, 10: 100, 5: 25}\n"
     ]
    }
   ],
   "source": [
    "print(d)"
   ]
  },
  {
   "cell_type": "markdown",
   "id": "96f0b7b8-0d6a-4147-9917-1dda174fcfc0",
   "metadata": {},
   "source": [
    "# 4. Exercise-4: \n",
    "\n",
    " * **Write a programe that takes a list and creates a dictionary where the keys are the elements from the list and the values are the number of times each element appears in the list.**\n",
    "\n"
   ]
  },
  {
   "cell_type": "code",
   "execution_count": 53,
   "id": "65ab4ef8-4ff6-4301-abf1-d173c69ae180",
   "metadata": {},
   "outputs": [],
   "source": [
    "l = [3,4,10,12,16]\n",
    "s={}\n",
    "for i in range(len(l)):\n",
    "    s[l[i]] = l[i] % 2\n",
    "    if s[l[i]] == l[i] % 2 == 0:\n",
    "        s[l[i]] = \"even\"\n",
    "    else:\n",
    "        s[l[i]] = \"odd\"\n"
   ]
  },
  {
   "cell_type": "code",
   "execution_count": 54,
   "id": "a26e61a3-8a14-4e98-b855-7cf5c8685ae2",
   "metadata": {},
   "outputs": [
    {
     "name": "stdout",
     "output_type": "stream",
     "text": [
      "{3: 'odd', 4: 'even', 10: 'even', 12: 'even', 16: 'even'}\n"
     ]
    }
   ],
   "source": [
    "print(s)"
   ]
  },
  {
   "cell_type": "code",
   "execution_count": 56,
   "id": "7b8d9830",
   "metadata": {},
   "outputs": [],
   "source": [
    "def exercise4(solution):\n",
    "    s={}\n",
    "    for i in range(len(l)):\n",
    "       s[l[i]] = l[i] % 2\n",
    "    if s[l[i]] == l[i] % 2 == 0:\n",
    "       s[l[i]] = \"even\"\n",
    "    else:\n",
    "       s[l[i]] = \"odd\"\n",
    "    return s    \n"
   ]
  },
  {
   "cell_type": "code",
   "execution_count": 59,
   "id": "91618070",
   "metadata": {},
   "outputs": [
    {
     "data": {
      "text/plain": [
       "{3: 1, 4: 0, 10: 0, 12: 0, 16: 'even'}"
      ]
     },
     "execution_count": 59,
     "metadata": {},
     "output_type": "execute_result"
    }
   ],
   "source": [
    "exercise4(l)"
   ]
  },
  {
   "cell_type": "markdown",
   "id": "6b61846f-2a41-4c72-8ad5-d3310bf75826",
   "metadata": {},
   "source": [
    "# 5. Exercise-5: \n",
    "\n",
    " * **Write a program that takes a list of numbers and prints the maximum value from that list without using Python’s built-in max() function. Use a for loop and if statements to compare the elements.**\n",
    "\n"
   ]
  },
  {
   "cell_type": "code",
   "execution_count": null,
   "id": "69c0f0fe-00c5-4260-bc17-4eb7397d836d",
   "metadata": {},
   "outputs": [],
   "source": []
  },
  {
   "cell_type": "code",
   "execution_count": null,
   "id": "7643088d-c3ba-4f04-88b3-3891ab96bed7",
   "metadata": {},
   "outputs": [],
   "source": []
  },
  {
   "cell_type": "code",
   "execution_count": null,
   "id": "89ba2d9a-c404-434a-868e-db4fc67f3361",
   "metadata": {},
   "outputs": [],
   "source": []
  },
  {
   "cell_type": "markdown",
   "id": "d94030a6-d60a-442a-b8e8-678f3a4fe3eb",
   "metadata": {},
   "source": [
    "# 6. Exercise-6: \n",
    "\n",
    " * **Write a program that takes two lists and creates a list of elements that are present in both lists (i.e., the intersection of two lists).**\n",
    "\n"
   ]
  },
  {
   "cell_type": "code",
   "execution_count": null,
   "id": "8712b88e-9721-46cb-86f5-d83510ad0878",
   "metadata": {},
   "outputs": [],
   "source": []
  },
  {
   "cell_type": "markdown",
   "id": "fe5fe892-fe4e-4ab8-8bc0-cbf6419d16e3",
   "metadata": {},
   "source": [
    "# 7. Exercise-7: \n",
    "\n",
    " * **Write a program that takes two dictionaries and creates a new dictionary that combines both. If a key appears in both dictionaries, the values should be added together.**\n",
    "\n"
   ]
  },
  {
   "cell_type": "code",
   "execution_count": null,
   "id": "2a1f9375-c4fc-4847-937d-815896ce8ec3",
   "metadata": {},
   "outputs": [],
   "source": []
  },
  {
   "cell_type": "markdown",
   "id": "63a2730d-fe6f-4493-ba29-b575f678968d",
   "metadata": {},
   "source": [
    "# While Loop"
   ]
  },
  {
   "cell_type": "code",
   "execution_count": null,
   "id": "566d6518-9bb2-47cf-85c8-91e9f8e2cc18",
   "metadata": {},
   "outputs": [],
   "source": []
  },
  {
   "cell_type": "code",
   "execution_count": null,
   "id": "fb949252-8fad-4e46-93e6-09b148ee99fe",
   "metadata": {},
   "outputs": [],
   "source": []
  },
  {
   "cell_type": "code",
   "execution_count": null,
   "id": "9a0154fb-8dba-4a5c-9f71-1406409af975",
   "metadata": {},
   "outputs": [],
   "source": []
  }
 ],
 "metadata": {
  "kernelspec": {
   "display_name": "Python 3",
   "language": "python",
   "name": "python3"
  },
  "language_info": {
   "codemirror_mode": {
    "name": "ipython",
    "version": 3
   },
   "file_extension": ".py",
   "mimetype": "text/x-python",
   "name": "python",
   "nbconvert_exporter": "python",
   "pygments_lexer": "ipython3",
   "version": "3.13.0"
  }
 },
 "nbformat": 4,
 "nbformat_minor": 5
}
