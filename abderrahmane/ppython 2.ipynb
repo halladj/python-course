{
 "cells": [
  {
   "cell_type": "code",
   "execution_count": 14,
   "id": "5cb698c5-5475-44d6-902d-1da35dec611d",
   "metadata": {},
   "outputs": [
    {
     "name": "stdin",
     "output_type": "stream",
     "text": [
      " 10\n",
      " 100\n"
     ]
    },
    {
     "name": "stdout",
     "output_type": "stream",
     "text": [
      "True\n"
     ]
    }
   ],
   "source": [
    "number1 = input()\n",
    "number1 = int(number1)\n",
    "number2 = input()\n",
    "number2 = int(number2)\n",
    "if(number1 > number2):\n",
    "    print('number1 is greater then number2')\n",
    "elif(10 < 100):\n",
    "    print(False)\n",
    "elif(10 > 0):\n",
    "    print(True)\n",
    "else:\n",
    "    print(\"false\")\n"
   ]
  },
  {
   "cell_type": "code",
   "execution_count": 54,
   "id": "f210c1c8-ffd6-4b23-ac67-4a3de3e70f9b",
   "metadata": {},
   "outputs": [
    {
     "ename": "SyntaxError",
     "evalue": "invalid syntax (634072666.py, line 4)",
     "output_type": "error",
     "traceback": [
      "\u001b[1;36m  Cell \u001b[1;32mIn[54], line 4\u001b[1;36m\u001b[0m\n\u001b[1;33m    counter = counter: + 1\u001b[0m\n\u001b[1;37m                     ^\u001b[0m\n\u001b[1;31mSyntaxError\u001b[0m\u001b[1;31m:\u001b[0m invalid syntax\n"
     ]
    }
   ],
   "source": [
    "counter = 0\n",
    "for i in range(0,70, 7):\n",
    "    print('7 x',\"i\",'==', i*7 )\n",
    "    counter = counter: + 1\n",
    "    "
   ]
  },
  {
   "cell_type": "code",
   "execution_count": 35,
   "id": "1d6659d4-fe2b-4167-a448-2dd4b0fc371d",
   "metadata": {},
   "outputs": [
    {
     "name": "stdout",
     "output_type": "stream",
     "text": [
      "7 x 1 == 63\n"
     ]
    }
   ],
   "source": [
    "print(\"7 x 1 ==\",i)"
   ]
  },
  {
   "cell_type": "code",
   "execution_count": 19,
   "id": "b8fe9129-6e78-48be-9e22-45d3c0454ac5",
   "metadata": {},
   "outputs": [],
   "source": [
    "def calculator(op,num1,num2):\n",
    "    operation=input()\n",
    "    num1=input()\n",
    "    num1=int(num1)\n",
    "    num2=input()\n",
    "    num2=int(num2)\n",
    "    if(operation == \"-\"):\n",
    "        print(num1,operation,num2, \"==\" ,num1 - num2)\n",
    "    elif(operation == \"+\"):\n",
    "        print(num1,operation,num2, \"==\",num1 + num2)\n",
    "    elif(operation == \"*\"):\n",
    "        print(num1,operation,num2, \"==\",num1 * num2)\n",
    "    else:\n",
    "        print(\"invalid operation\")\n",
    "\n"
   ]
  },
  {
   "cell_type": "code",
   "execution_count": 6,
   "id": "a1e2166b-9c6d-41b3-94b5-4ca86f6a5191",
   "metadata": {},
   "outputs": [
    {
     "data": {
      "text/plain": [
       "'onepiece'"
      ]
     },
     "execution_count": 6,
     "metadata": {},
     "output_type": "execute_result"
    }
   ],
   "source": [
    "shonenlist=[\"naruto\",\"db\",\"bleach\",\"onepiece\"]\n",
    "shonenlist[3]"
   ]
  },
  {
   "cell_type": "code",
   "execution_count": 7,
   "id": "e1134994-4e10-428a-838e-082fc8a0f718",
   "metadata": {},
   "outputs": [
    {
     "name": "stdout",
     "output_type": "stream",
     "text": [
      "['naruto', 'db', 'bleach', 'onepiece', 'jojo']\n"
     ]
    }
   ],
   "source": [
    "shonenlist.append(\"jojo\")\n",
    "print(shonenlist)"
   ]
  },
  {
   "cell_type": "code",
   "execution_count": 4,
   "id": "1917f7e5-1d54-48b7-a5e3-0e8ca37b41ee",
   "metadata": {},
   "outputs": [
    {
     "data": {
      "text/plain": [
       "5"
      ]
     },
     "execution_count": 4,
     "metadata": {},
     "output_type": "execute_result"
    }
   ],
   "source": [
    "len(shonenlist)"
   ]
  },
  {
   "cell_type": "code",
   "execution_count": 7,
   "id": "f46679f2-f430-4c05-a5ae-f9a61b5e630c",
   "metadata": {},
   "outputs": [],
   "source": [
    "shonenlist.insert(3, \"foodwars\")"
   ]
  },
  {
   "cell_type": "code",
   "execution_count": 8,
   "id": "46719c89-ffc6-4138-934e-b4c60ee25e47",
   "metadata": {},
   "outputs": [
    {
     "data": {
      "text/plain": [
       "'foodwars'"
      ]
     },
     "execution_count": 8,
     "metadata": {},
     "output_type": "execute_result"
    }
   ],
   "source": [
    "shonenlist[3]"
   ]
  },
  {
   "cell_type": "code",
   "execution_count": 21,
   "id": "e9ca3c32-266f-4d23-8341-4367fd241620",
   "metadata": {},
   "outputs": [
    {
     "data": {
      "text/plain": [
       "3"
      ]
     },
     "execution_count": 21,
     "metadata": {},
     "output_type": "execute_result"
    }
   ],
   "source": [
    "len(shonenlist)"
   ]
  },
  {
   "cell_type": "code",
   "execution_count": 8,
   "id": "2fbbc017-1a65-4675-b871-42e00851f055",
   "metadata": {},
   "outputs": [],
   "source": [
    "python_course_list=[\"abdou\",\"amina\",\"amir\",\"hamza\"]\n"
   ]
  },
  {
   "cell_type": "code",
   "execution_count": 9,
   "id": "2027d7b4-b746-4161-b2f0-6388e67a4a48",
   "metadata": {},
   "outputs": [
    {
     "name": "stdout",
     "output_type": "stream",
     "text": [
      "['abdou', 'amina', 'amir', 'hamza', 'ronaldo']\n"
     ]
    }
   ],
   "source": [
    "python_course_list.append(\"ronaldo\")\n",
    "print(python_course_list)"
   ]
  },
  {
   "cell_type": "code",
   "execution_count": 10,
   "id": "316f8b12-6558-4884-a6f3-3bb4331b9791",
   "metadata": {},
   "outputs": [
    {
     "name": "stdout",
     "output_type": "stream",
     "text": [
      "['abdou', 'amina', 'amir', 'ronaldo']\n"
     ]
    }
   ],
   "source": [
    "python_course_list.remove(\"hamza\")\n",
    "print(python_course_list)"
   ]
  },
  {
   "cell_type": "code",
   "execution_count": 11,
   "id": "14c5044f-7bde-4b54-ad68-8c31ad2bd24e",
   "metadata": {},
   "outputs": [
    {
     "name": "stdout",
     "output_type": "stream",
     "text": [
      "['abdou', 'amina', 'amir']\n"
     ]
    }
   ],
   "source": [
    "python_course_list.pop()\n",
    "print(python_course_list)"
   ]
  },
  {
   "cell_type": "markdown",
   "id": "393456bf-da9c-4005-b443-9e0d06d43a5e",
   "metadata": {},
   "source": [
    "-functions\n"
   ]
  },
  {
   "cell_type": "code",
   "execution_count": 31,
   "id": "5daf8dda-1d83-420e-860f-44fb69cf11fb",
   "metadata": {},
   "outputs": [],
   "source": [
    "def calculator(operation,num1,num2):\n",
    "    if(operation == \"-\"):\n",
    "        print(num1,operation,num2, \"==\" ,num1 - num2)\n",
    "    elif(operation == \"+\"):\n",
    "        print(num1,operation,num2, \"==\",num1 + num2)\n",
    "    elif(operation == \"*\"):\n",
    "        print(num1,operation,num2, \"==\",num1 * num2)\n",
    "    else:\n",
    "        print(\"invalid operation\")\n",
    "\n"
   ]
  },
  {
   "cell_type": "code",
   "execution_count": 32,
   "id": "f7202638-0f83-43c0-99ec-ce955323c370",
   "metadata": {},
   "outputs": [
    {
     "name": "stdout",
     "output_type": "stream",
     "text": [
      "10 * 5 == 50\n"
     ]
    }
   ],
   "source": [
    "calculator(\"*\", 10,5)"
   ]
  },
  {
   "cell_type": "code",
   "execution_count": null,
   "id": "1a9e8ea8-b9ce-4c3f-bda1-11e77f219e85",
   "metadata": {},
   "outputs": [],
   "source": []
  }
 ],
 "metadata": {
  "kernelspec": {
   "display_name": "Python 3 (ipykernel)",
   "language": "python",
   "name": "python3"
  },
  "language_info": {
   "codemirror_mode": {
    "name": "ipython",
    "version": 3
   },
   "file_extension": ".py",
   "mimetype": "text/x-python",
   "name": "python",
   "nbconvert_exporter": "python",
   "pygments_lexer": "ipython3",
   "version": "3.13.0"
  }
 },
 "nbformat": 4,
 "nbformat_minor": 5
}
