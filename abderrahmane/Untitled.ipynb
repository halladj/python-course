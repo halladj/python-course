{
 "cells": [
  {
   "cell_type": "code",
   "execution_count": 14,
   "id": "5cb698c5-5475-44d6-902d-1da35dec611d",
   "metadata": {},
   "outputs": [
    {
     "name": "stdin",
     "output_type": "stream",
     "text": [
      " 10\n",
      " 100\n"
     ]
    },
    {
     "name": "stdout",
     "output_type": "stream",
     "text": [
      "True\n"
     ]
    }
   ],
   "source": [
    "number1 = input()\n",
    "number1 = int(number1)\n",
    "number2 = input()\n",
    "number2 = int(number2)\n",
    "if(number1 > number2):\n",
    "    print('number1 is greater then number2')\n",
    "elif(10 < 100):\n",
    "    print(False)\n",
    "elif(10 > 0):\n",
    "    print(True)\n",
    "else:\n",
    "    print(\"false\")\n"
   ]
  },
  {
   "cell_type": "code",
   "execution_count": 54,
   "id": "f210c1c8-ffd6-4b23-ac67-4a3de3e70f9b",
   "metadata": {},
   "outputs": [
    {
     "ename": "SyntaxError",
     "evalue": "invalid syntax (634072666.py, line 4)",
     "output_type": "error",
     "traceback": [
      "\u001b[1;36m  Cell \u001b[1;32mIn[54], line 4\u001b[1;36m\u001b[0m\n\u001b[1;33m    counter = counter: + 1\u001b[0m\n\u001b[1;37m                     ^\u001b[0m\n\u001b[1;31mSyntaxError\u001b[0m\u001b[1;31m:\u001b[0m invalid syntax\n"
     ]
    }
   ],
   "source": [
    "counter = 0\n",
    "for i in range(0,70, 7):\n",
    "    print('7 x',\"i\",'==', i*7 )\n",
    "    counter = counter: + 1\n",
    "    "
   ]
  },
  {
   "cell_type": "code",
   "execution_count": 35,
   "id": "1d6659d4-fe2b-4167-a448-2dd4b0fc371d",
   "metadata": {},
   "outputs": [
    {
     "name": "stdout",
     "output_type": "stream",
     "text": [
      "7 x 1 == 63\n"
     ]
    }
   ],
   "source": [
    "print(\"7 x 1 ==\",i)"
   ]
  },
  {
   "cell_type": "code",
   "execution_count": 78,
   "id": "b8fe9129-6e78-48be-9e22-45d3c0454ac5",
   "metadata": {},
   "outputs": [
    {
     "name": "stdin",
     "output_type": "stream",
     "text": [
      " *\n",
      " 10\n",
      " 5\n"
     ]
    },
    {
     "name": "stdout",
     "output_type": "stream",
     "text": [
      "10 * 5 == 50\n"
     ]
    }
   ],
   "source": [
    "operation=input()\n",
    "num1=input()\n",
    "num1=int(num1)\n",
    "num2=input()\n",
    "num2=int(num2)\n",
    "if(operation == \"-\"):\n",
    "    print(num1,operation,num2, \"==\" ,num1 - num2)\n",
    "elif(operation == \"+\"):\n",
    "    print(num1,operation,num2, \"==\",num1 + num2)\n",
    "elif(operation == \"*\"):\n",
    "    print(num1,operation,num2, \"==\",num1 * num2)\n",
    "else:\n",
    "    print(\"invalid operation\")\n",
    "\n"
   ]
  },
  {
   "cell_type": "code",
   "execution_count": null,
   "id": "a1e2166b-9c6d-41b3-94b5-4ca86f6a5191",
   "metadata": {},
   "outputs": [],
   "source": []
  }
 ],
 "metadata": {
  "kernelspec": {
   "display_name": "Python 3 (ipykernel)",
   "language": "python",
   "name": "python3"
  },
  "language_info": {
   "codemirror_mode": {
    "name": "ipython",
    "version": 3
   },
   "file_extension": ".py",
   "mimetype": "text/x-python",
   "name": "python",
   "nbconvert_exporter": "python",
   "pygments_lexer": "ipython3",
   "version": "3.13.0"
  }
 },
 "nbformat": 4,
 "nbformat_minor": 5
}
