{
 "cells": [
  {
   "cell_type": "markdown",
   "id": "d46795a4-f928-4154-8102-b3fa3b559ca2",
   "metadata": {},
   "source": [
    "# Basic Syntax:"
   ]
  },
  {
   "cell_type": "code",
   "execution_count": 103,
   "id": "cd32ff86-5316-42b7-bddc-652ee95b5bc6",
   "metadata": {},
   "outputs": [],
   "source": [
    "class Session6:\n",
    "    pass"
   ]
  },
  {
   "cell_type": "code",
   "execution_count": 104,
   "id": "6c76a9bf-b814-4187-b5ed-36ddc5eb3012",
   "metadata": {},
   "outputs": [
    {
     "ename": "TypeError",
     "evalue": "type() takes 1 or 3 arguments",
     "output_type": "error",
     "traceback": [
      "\u001b[1;31m---------------------------------------------------------------------------\u001b[0m",
      "\u001b[1;31mTypeError\u001b[0m                                 Traceback (most recent call last)",
      "Cell \u001b[1;32mIn[104], line 2\u001b[0m\n\u001b[0;32m      1\u001b[0m o \u001b[38;5;241m=\u001b[39m Session6()\n\u001b[1;32m----> 2\u001b[0m \u001b[38;5;28mtype\u001b[39m()\n",
      "\u001b[1;31mTypeError\u001b[0m: type() takes 1 or 3 arguments"
     ]
    }
   ],
   "source": [
    "o = Session6()\n",
    "type()"
   ]
  },
  {
   "cell_type": "code",
   "execution_count": null,
   "id": "ce5e4395",
   "metadata": {},
   "outputs": [],
   "source": [
    "class Session6():\n",
    "   def __init__(self):\n",
    "      pass"
   ]
  },
  {
   "cell_type": "markdown",
   "id": "20970942-1bf9-470a-8f47-d1f5cc83f955",
   "metadata": {},
   "source": [
    "### attributes"
   ]
  },
  {
   "cell_type": "code",
   "execution_count": null,
   "id": "20f515df-8ba9-4df3-9e93-364e783ff37e",
   "metadata": {},
   "outputs": [
    {
     "name": "stdout",
     "output_type": "stream",
     "text": [
      "25\n"
     ]
    }
   ],
   "source": [
    "o.age=25\n",
    "print(o.age)"
   ]
  },
  {
   "cell_type": "code",
   "execution_count": null,
   "id": "16bd085f-dd96-4530-ab64-578222a2490c",
   "metadata": {},
   "outputs": [],
   "source": []
  },
  {
   "cell_type": "code",
   "execution_count": null,
   "id": "9dbd0a97-1cef-4b67-97b7-ab1a4159b944",
   "metadata": {},
   "outputs": [],
   "source": [
    "\n"
   ]
  },
  {
   "cell_type": "code",
   "execution_count": null,
   "id": "43c0df2c-41c5-4989-9b7d-422bd250b90d",
   "metadata": {},
   "outputs": [],
   "source": []
  },
  {
   "cell_type": "markdown",
   "id": "884b7ad0-17eb-4606-8705-3a963ea55320",
   "metadata": {},
   "source": [
    "### functions (methods):"
   ]
  },
  {
   "cell_type": "code",
   "execution_count": null,
   "id": "53bc4257-5ec8-46da-a52f-10d755f81783",
   "metadata": {},
   "outputs": [],
   "source": [
    "def print_nam(name):\n",
    "    print(name)\n"
   ]
  },
  {
   "cell_type": "code",
   "execution_count": null,
   "id": "dc991cd2-5daa-4729-9717-71b94dee0c4d",
   "metadata": {},
   "outputs": [
    {
     "name": "stdout",
     "output_type": "stream",
     "text": [
      "amir\n"
     ]
    }
   ],
   "source": [
    "o.print_name=print_nam\n",
    "print_nam(\"amir\")"
   ]
  },
  {
   "cell_type": "code",
   "execution_count": null,
   "id": "e120ef5b-de57-4d15-b994-3d267d367885",
   "metadata": {},
   "outputs": [],
   "source": [
    "\n"
   ]
  },
  {
   "cell_type": "code",
   "execution_count": null,
   "id": "4840aad4-bbe6-4648-a80b-39e0c04ace0c",
   "metadata": {},
   "outputs": [
    {
     "name": "stdout",
     "output_type": "stream",
     "text": [
      "22\n"
     ]
    }
   ],
   "source": [
    "p=Session6()\n",
    "\n",
    "p.age=22\n",
    "p.name=\"amir\"\n",
    "def print_name(age):\n",
    "    print(p.age)\n",
    "print_name(p.age)\n",
    "    "
   ]
  },
  {
   "cell_type": "markdown",
   "id": "a92e499e-99c2-47e4-993e-150748e7ac03",
   "metadata": {},
   "source": [
    "## Constructor:"
   ]
  },
  {
   "cell_type": "code",
   "execution_count": null,
   "id": "0345a5a0-e2f7-4d3c-b0df-ae361fbee9b2",
   "metadata": {},
   "outputs": [],
   "source": [
    "class Session6:\n",
    "    def __init__(self,age,name):\n",
    "        self.name=name\n",
    "        self.age=age\n",
    "        self.grade=\"C\"\n",
    "    def print_name(self):\n",
    "        print(self.name)\n",
    "    def years(self):\n",
    "        print(100-self.age+2024)\n",
    "    def ChangeGrade(self,grade):\n",
    "        self.grade=grade\n",
    "       \n",
    "\n",
    "\n",
    "            \n",
    "\n",
    "\n"
   ]
  },
  {
   "cell_type": "code",
   "execution_count": null,
   "id": "badd7bd3-b63f-441c-aed2-be01b40056ee",
   "metadata": {},
   "outputs": [
    {
     "name": "stdout",
     "output_type": "stream",
     "text": [
      "w\n"
     ]
    }
   ],
   "source": [
    "x=Session6(80,\"amir\")\n",
    "\n",
    "x.ChangeGrade(\"w\")\n",
    "print(x.grade)"
   ]
  },
  {
   "cell_type": "code",
   "execution_count": null,
   "id": "fd2ace0e-db1e-4e7a-8e9c-66eadaf97854",
   "metadata": {},
   "outputs": [
    {
     "name": "stdout",
     "output_type": "stream",
     "text": [
      "amir\n"
     ]
    }
   ],
   "source": [
    "\n",
    "\n",
    "z=Session6(99,\"amir\")\n",
    "z.print_name()"
   ]
  },
  {
   "cell_type": "code",
   "execution_count": null,
   "id": "0022592f-6b99-49d4-b254-1e0fafe71a12",
   "metadata": {},
   "outputs": [],
   "source": []
  },
  {
   "cell_type": "code",
   "execution_count": null,
   "id": "888caa3c-a757-4e02-9f78-c92b866bc375",
   "metadata": {},
   "outputs": [],
   "source": []
  },
  {
   "cell_type": "markdown",
   "id": "cce10152-a120-4ef1-ade9-589a1d41b04c",
   "metadata": {},
   "source": [
    "## Methods:"
   ]
  },
  {
   "cell_type": "code",
   "execution_count": null,
   "id": "b3be7226-eafb-41c5-91ec-90b05899e994",
   "metadata": {},
   "outputs": [],
   "source": []
  },
  {
   "cell_type": "code",
   "execution_count": null,
   "id": "5c20d848-aa4d-44da-8f3d-06b91b9ba3c3",
   "metadata": {},
   "outputs": [],
   "source": []
  },
  {
   "cell_type": "code",
   "execution_count": null,
   "id": "9f037682-9c30-4f50-b634-8d75a1b2e1e4",
   "metadata": {},
   "outputs": [],
   "source": []
  },
  {
   "cell_type": "code",
   "execution_count": null,
   "id": "92e5ecc8-988f-427f-9a44-a7f0a1f994bd",
   "metadata": {},
   "outputs": [],
   "source": []
  },
  {
   "cell_type": "markdown",
   "id": "06ba5942-8cf5-4cbb-b55d-32ab1bf2997a",
   "metadata": {},
   "source": [
    "## Exercice-1\n",
    "\n",
    "* Create a Dog class with attributes name and age, and a bark method that displays \"Woof!\". Create an object of this class and call its bark method.\n",
    "\n",
    "\n",
    "* Créez une classe Chien avec des attributs nom et âge, et une méthode aboyer qui affiche \"Woof!\". Créez un objet de cette classe et appelez sa méthode aboyer.\n"
   ]
  },
  {
   "cell_type": "code",
   "execution_count": null,
   "id": "9cf2da8b-0d1d-4eca-952c-1daae25e1812",
   "metadata": {},
   "outputs": [],
   "source": [
    "class dog:\n",
    "    def __init__(self,age,name):\n",
    "        self.age=age\n",
    "        self.name=name\n",
    "    def Bark(self):\n",
    "        print(\"Woof!\")\n",
    "doge=dog(10,\"haw\")"
   ]
  },
  {
   "cell_type": "code",
   "execution_count": null,
   "id": "aea0dd7f-17e7-4790-847e-ca2fc7f8ee3a",
   "metadata": {},
   "outputs": [
    {
     "name": "stdout",
     "output_type": "stream",
     "text": [
      "Woof!\n"
     ]
    }
   ],
   "source": [
    "doge.Bark()"
   ]
  },
  {
   "cell_type": "code",
   "execution_count": null,
   "id": "b1341c2b-a1cf-4060-80c4-56842fb88211",
   "metadata": {},
   "outputs": [],
   "source": []
  },
  {
   "cell_type": "markdown",
   "id": "c03a90cd-28c2-4ef6-81a0-4d669493f189",
   "metadata": {},
   "source": [
    "# Inheritance"
   ]
  },
  {
   "cell_type": "code",
   "execution_count": null,
   "id": "5350bb72-0c0c-47b3-a740-1f0f33f16153",
   "metadata": {},
   "outputs": [],
   "source": []
  },
  {
   "cell_type": "code",
   "execution_count": null,
   "id": "d8af71bd-e71e-4adf-b6ec-a36dd512f0f6",
   "metadata": {},
   "outputs": [],
   "source": []
  },
  {
   "cell_type": "code",
   "execution_count": null,
   "id": "00e13e25-b1f3-40c9-a7d9-138f13e2efc8",
   "metadata": {},
   "outputs": [],
   "source": []
  },
  {
   "cell_type": "markdown",
   "id": "f22d925d-eb91-48ad-8d9e-89f064b288ff",
   "metadata": {},
   "source": [
    "## Exercice-2"
   ]
  },
  {
   "cell_type": "markdown",
   "id": "110c92cd-4486-4ab9-ad22-1b5f35559a42",
   "metadata": {},
   "source": [
    "* Create an Animal class with a name attribute and a speak method. Create a Cat class that inherits from Animal and implements the speak method to display \"Meow\". Create an object of the Cat class and call its speak method.\n",
    "\n",
    "* Créez une classe Animal avec un attribut nom et une méthode parler. Créez une classe Chat qui hérite de Animal et implémente la méthode parler pour afficher \"Miaou\". Créez un objet de la classe Chat et appelez sa méthode parler.\n"
   ]
  },
  {
   "cell_type": "code",
   "execution_count": null,
   "id": "30089748-03d6-49f6-a6d6-39426bb6f366",
   "metadata": {},
   "outputs": [],
   "source": []
  },
  {
   "cell_type": "code",
   "execution_count": null,
   "id": "3d5aa008-c788-4e6b-a326-9f07ad72931e",
   "metadata": {},
   "outputs": [],
   "source": []
  },
  {
   "cell_type": "code",
   "execution_count": null,
   "id": "cd098cbc-dedd-4534-bc08-806fbb25f238",
   "metadata": {},
   "outputs": [],
   "source": []
  },
  {
   "cell_type": "code",
   "execution_count": null,
   "id": "4675df99-de07-45cb-9ab7-2c62aaa6ee8d",
   "metadata": {},
   "outputs": [],
   "source": []
  },
  {
   "cell_type": "code",
   "execution_count": null,
   "id": "92b535cb-ca06-4002-a372-461752723c66",
   "metadata": {},
   "outputs": [],
   "source": []
  },
  {
   "cell_type": "markdown",
   "id": "3a62ea5d-360f-44a9-81f2-02b93bb5a6ca",
   "metadata": {},
   "source": [
    "# Lets build:"
   ]
  },
  {
   "cell_type": "markdown",
   "id": "4426def1-67a5-4f0d-bea1-c4a0f4b789a5",
   "metadata": {},
   "source": [
    "### 1. create a class named, special_list"
   ]
  },
  {
   "cell_type": "code",
   "execution_count": null,
   "id": "24d88fd1-8238-429a-86eb-d46757c12804",
   "metadata": {},
   "outputs": [],
   "source": [
    "class special_list:\n",
    "    def __init__(self):\n",
    "        pass"
   ]
  },
  {
   "cell_type": "markdown",
   "id": "483202fb-8cf9-4174-b60d-b0edaef8f544",
   "metadata": {},
   "source": [
    "### 2. added a propriety named my_list "
   ]
  },
  {
   "cell_type": "code",
   "execution_count": null,
   "id": "66291bf3-bdf8-4c2d-abb2-a48191e2fc06",
   "metadata": {},
   "outputs": [],
   "source": [
    "class special_list:\n",
    "    def __init__(self):\n",
    "        self.list=[]\n"
   ]
  },
  {
   "cell_type": "markdown",
   "id": "1e9dfe22-019e-4ff8-81eb-bce9e2c8769f",
   "metadata": {},
   "source": [
    "### 3. create a method named max() "
   ]
  },
  {
   "cell_type": "code",
   "execution_count": 105,
   "id": "9a0e6af5-4d7b-4037-8c4f-350a0fef1151",
   "metadata": {},
   "outputs": [
    {
     "data": {
      "text/plain": [
       "5"
      ]
     },
     "execution_count": 105,
     "metadata": {},
     "output_type": "execute_result"
    }
   ],
   "source": [
    "class special_list:\n",
    "    def __init__(self):\n",
    "        self.list=[]\n",
    "    def max():\n",
    "        for i in range ():\n",
    "           if len(self.list) <= 0:\n",
    "               return None\n",
    "           max=self.list[0]\n",
    "           for i in range (1,len(self.list)):\n",
    "               if self.list[i]>max:\n",
    "                   max=self.list[i]  \n",
    "                   return max\n",
    "\n",
    "        \n",
    "max([1,2,3,4,5])          \n",
    "\n",
    "            "
   ]
  },
  {
   "cell_type": "markdown",
   "id": "31052f8b-8bf6-42cc-bad1-967a80637c04",
   "metadata": {},
   "source": [
    "### 4. create a method named append() "
   ]
  },
  {
   "cell_type": "code",
   "execution_count": 108,
   "id": "82eada04-c261-4639-8561-71bfab38cd10",
   "metadata": {},
   "outputs": [
    {
     "ename": "NameError",
     "evalue": "name 'append' is not defined",
     "output_type": "error",
     "traceback": [
      "\u001b[1;31m---------------------------------------------------------------------------\u001b[0m",
      "\u001b[1;31mNameError\u001b[0m                                 Traceback (most recent call last)",
      "Cell \u001b[1;32mIn[108], line 24\u001b[0m\n\u001b[0;32m     20\u001b[0m                    \u001b[38;5;28mmax\u001b[39m\u001b[38;5;241m=\u001b[39m\u001b[38;5;28mself\u001b[39m\u001b[38;5;241m.\u001b[39mlist[i]  \n\u001b[0;32m     21\u001b[0m                    \u001b[38;5;28;01mreturn\u001b[39;00m \u001b[38;5;28mmax\u001b[39m\u001b[38;5;241m+\u001b[39m\u001b[38;5;241m1\u001b[39m\n\u001b[1;32m---> 24\u001b[0m append(\u001b[38;5;28mself\u001b[39m,[\u001b[38;5;241m1\u001b[39m,\u001b[38;5;241m2\u001b[39m,\u001b[38;5;241m3\u001b[39m])\n",
      "\u001b[1;31mNameError\u001b[0m: name 'append' is not defined"
     ]
    }
   ],
   "source": [
    "class special_list:\n",
    "    def __init__(self):\n",
    "        self.list=[]\n",
    "    def max(self):\n",
    "        for i in range ():\n",
    "           if len(self.list) <= 0:\n",
    "               return None\n",
    "           max=self.list[0]\n",
    "           for i in range (1,len(self.list)):\n",
    "               if self.list[i]>max:\n",
    "                   max=self.list[i]  \n",
    "                   return max\n",
    "    def append(self):\n",
    "         for i in range ():\n",
    "           if len(self.list) <= 0:\n",
    "               return None\n",
    "           max=self.list[0]\n",
    "           for i in range (1,len(self.list)):\n",
    "               if self.list[i]>max:\n",
    "                   max=self.list[i]  \n",
    "                   return max+1\n",
    "             \n",
    "    \n",
    "append(self,[1,2,3])\n"
   ]
  },
  {
   "cell_type": "markdown",
   "id": "8e09ac37-a3f4-43c9-8bb4-fed384e541dd",
   "metadata": {},
   "source": [
    "### 4. create a method named min() "
   ]
  },
  {
   "cell_type": "code",
   "execution_count": null,
   "id": "7471d2c1-e37e-4cda-b34c-a14034f61498",
   "metadata": {},
   "outputs": [],
   "source": []
  },
  {
   "cell_type": "markdown",
   "id": "4703a14b-221f-41bc-9e15-92c2ef0071f2",
   "metadata": {},
   "source": [
    "### 5. create a method named reverse() "
   ]
  },
  {
   "cell_type": "code",
   "execution_count": null,
   "id": "a2ac75a3-8ecb-4350-a435-6239f38564e2",
   "metadata": {},
   "outputs": [],
   "source": []
  },
  {
   "cell_type": "markdown",
   "id": "45b4130f-f93e-48d7-8b66-389128e44d1e",
   "metadata": {},
   "source": [
    "### 6. create a method named sort_b() "
   ]
  },
  {
   "cell_type": "code",
   "execution_count": null,
   "id": "8033487d-7aca-4987-8a41-e30e64968bca",
   "metadata": {},
   "outputs": [],
   "source": []
  },
  {
   "cell_type": "markdown",
   "id": "7b265f26-31f4-4c9b-b81a-383bb5988dac",
   "metadata": {},
   "source": [
    "### 7. create a method named sort_s() "
   ]
  },
  {
   "cell_type": "code",
   "execution_count": null,
   "id": "cbbca1d7-9ceb-42b3-bd12-cb0c37e757b1",
   "metadata": {},
   "outputs": [],
   "source": []
  }
 ],
 "metadata": {
  "kernelspec": {
   "display_name": "Python 3",
   "language": "python",
   "name": "python3"
  },
  "language_info": {
   "codemirror_mode": {
    "name": "ipython",
    "version": 3
   },
   "file_extension": ".py",
   "mimetype": "text/x-python",
   "name": "python",
   "nbconvert_exporter": "python",
   "pygments_lexer": "ipython3",
   "version": "3.12.4"
  }
 },
 "nbformat": 4,
 "nbformat_minor": 5
}
