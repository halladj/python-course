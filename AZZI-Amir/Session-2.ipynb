{
 "cells": [
  {
   "cell_type": "code",
   "execution_count": 18,
   "id": "cff00022",
   "metadata": {},
   "outputs": [
    {
     "name": "stdout",
     "output_type": "stream",
     "text": [
      "enter first number\n",
      "5656565\n",
      "enter second number\n",
      "296262\n",
      "first number is greater than the second\n"
     ]
    }
   ],
   "source": [
    "print('enter first number')\n",
    "x=input()\n",
    "x=int(x)\n",
    "\n",
    "print('enter second number')\n",
    "y=input()\n",
    "y=int(y)\n",
    "\n",
    "\n",
    "if x > y :\n",
    "    \n",
    "        print('first number is greater than the second')\n",
    "\n",
    "elif x == y :\n",
    "    \n",
    "        print('first number is equal to the second number')\n",
    "    \n",
    "else :\n",
    "        print('second number is greater than the second')"
   ]
  },
  {
   "cell_type": "code",
   "execution_count": 33,
   "id": "2229d3a2",
   "metadata": {},
   "outputs": [
    {
     "name": "stdout",
     "output_type": "stream",
     "text": [
      "7 x 1 = 7\n",
      "7 x 2 = 14\n",
      "7 x 3 = 21\n",
      "7 x 4 = 28\n",
      "7 x 5 = 35\n",
      "7 x 6 = 42\n",
      "7 x 7 = 49\n",
      "7 x 8 = 56\n",
      "7 x 9 = 63\n",
      "7 x 10 = 70\n"
     ]
    }
   ],
   "source": [
    "count=1\n",
    "\n",
    "for i in range (7,77,7):\n",
    "    \n",
    "    print('7 x',count,'=',i)\n",
    "    count=count+1"
   ]
  },
  {
   "cell_type": "code",
   "execution_count": 35,
   "id": "46c7bb04",
   "metadata": {},
   "outputs": [
    {
     "name": "stdout",
     "output_type": "stream",
     "text": [
      "7 x 1 = 0\n",
      "7 x 2 = 7\n",
      "7 x 3 = 14\n",
      "7 x 4 = 21\n",
      "7 x 5 = 28\n",
      "7 x 6 = 35\n",
      "7 x 7 = 42\n",
      "7 x 8 = 49\n",
      "7 x 9 = 56\n",
      "7 x 10 = 63\n",
      "7 x 11 = 70\n"
     ]
    }
   ],
   "source": [
    "count=1\n",
    "for i in range(11):\n",
    "    print('7 x',count,'=',i*7)\n",
    "    count=count+1"
   ]
  },
  {
   "cell_type": "code",
   "execution_count": 45,
   "id": "e122433f",
   "metadata": {},
   "outputs": [
    {
     "name": "stdout",
     "output_type": "stream",
     "text": [
      "+\n",
      "this operation is the addition\n"
     ]
    }
   ],
   "source": [
    "operation=[\"+\",\"*\",\"-\",\"/\"]\n",
    "operation=input()\n",
    "if operation ==\"+\":\n",
    "    print('this operation is the addition')\n",
    "elif operation ==\"*\":\n",
    "    print ('this op is a multiplication')\n",
    "elif operation ==\"-\":\n",
    "    print('this op is a subtraction')\n",
    "elif operation ==\"/\":\n",
    "    print('this op is a division')\n",
    "else :\n",
    "    print('this is not an opeartion')"
   ]
  },
  {
   "cell_type": "code",
   "execution_count": 57,
   "id": "b4189e16",
   "metadata": {},
   "outputs": [
    {
     "name": "stdout",
     "output_type": "stream",
     "text": [
      "enter the operation\n",
      "/\n",
      "enter a\n",
      "5\n",
      "enter b\n",
      "2\n",
      "this op is a division and the result is 2.5\n"
     ]
    }
   ],
   "source": [
    "operation=[\"+\",\"*\",\"-\",\"/\"]\n",
    "print('enter the operation')\n",
    "operation=input()\n",
    "print('enter a')\n",
    "a=input()\n",
    "a=int(a)\n",
    "print('enter b')\n",
    "b=input()\n",
    "b=int(b)\n",
    "if operation ==\"+\":\n",
    "    print('this operation is the addition','and the result is',a+b)\n",
    "elif operation ==\"*\":\n",
    "    print ('this op is a multiplication','and the result is',a*b)\n",
    "elif operation ==\"-\":\n",
    "    print('this op is a subtraction','and the result is',a-b)\n",
    "elif operation ==\"/\":\n",
    "    print('this op is a division','and the result is',a/b)\n",
    "else :\n",
    "    print('this is not an opeartion')"
   ]
  },
  {
   "cell_type": "code",
   "execution_count": null,
   "id": "837ddeb5",
   "metadata": {},
   "outputs": [],
   "source": []
  }
 ],
 "metadata": {
  "kernelspec": {
   "display_name": "Python 3 (ipykernel)",
   "language": "python",
   "name": "python3"
  },
  "language_info": {
   "codemirror_mode": {
    "name": "ipython",
    "version": 3
   },
   "file_extension": ".py",
   "mimetype": "text/x-python",
   "name": "python",
   "nbconvert_exporter": "python",
   "pygments_lexer": "ipython3",
   "version": "3.9.13"
  }
 },
 "nbformat": 4,
 "nbformat_minor": 5
}
