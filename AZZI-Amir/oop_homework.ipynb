{
 "cells": [
  {
   "cell_type": "markdown",
   "id": "57f7991d-8760-4c34-aa50-2bb971de71a3",
   "metadata": {},
   "source": [
    "# Homework:\n",
    "\n",
    "#### In this hw, we will be building a class that will work as an interface for a file, handeling creating, a file, printing content of a file, adding content to a file, deleting content from a file."
   ]
  },
  {
   "cell_type": "markdown",
   "id": "9a16533f-2007-4a8a-a40c-32eb3eaa5033",
   "metadata": {},
   "source": [
    "### Part-1\n",
    "\n",
    "* **create a class named p_class, that has a file_name, as attribute(in the constructor, __init__) and opens that file if it exists, if not creates it**"
   ]
  },
  {
   "cell_type": "code",
   "execution_count": 2,
   "id": "44bd941e",
   "metadata": {},
   "outputs": [
    {
     "name": "stdout",
     "output_type": "stream",
     "text": [
      "created succesfully\n"
     ]
    }
   ],
   "source": [
    "import os \n",
    "from pathlib import Path\n",
    "\n",
    "\n",
    "\n",
    "class p_class():\n",
    "    def __init__(self,file_name):\n",
    "        self.file_name=file_name\n",
    "       \n",
    "\n",
    "    def file_handler(self):\n",
    "            if os.path.exists(self.file_name):\n",
    "                self.file=open(self.file_name,'r+')\n",
    "                print('exists')\n",
    "            else:\n",
    "                self.file=open(self.file_name,'x')\n",
    "                print('created succesfully')\n",
    "\n",
    "o=p_class('files-Copy-am.ipynb')\n",
    "o.file_handler()\n",
    "                "
   ]
  },
  {
   "cell_type": "code",
   "execution_count": null,
   "id": "c78fcff4",
   "metadata": {},
   "outputs": [],
   "source": []
  },
  {
   "cell_type": "markdown",
   "id": "eb314689-0fca-44c2-82c1-47704b7b1b97",
   "metadata": {},
   "source": [
    "### Part-2\n",
    "\n",
    "* **add a method to print the content of the file**"
   ]
  },
  {
   "cell_type": "code",
   "execution_count": null,
   "id": "9e93acd3",
   "metadata": {},
   "outputs": [
    {
     "name": "stdout",
     "output_type": "stream",
     "text": [
      "['122\\n']\n"
     ]
    }
   ],
   "source": [
    "import os \n",
    "from pathlib import Path\n",
    "\n",
    "\n",
    "\n",
    "class p_class():\n",
    "    def __init__(self,file_name):\n",
    "        self.file_name=file_name\n",
    "       \n",
    "\n",
    "    def file_handler(self):\n",
    "            if os.path.exists(self.file_name):\n",
    "                self.file=open(self.file_name,'r+')\n",
    "                \n",
    "                \n",
    "            else:\n",
    "                self.file=open(self.file_name,'w')\n",
    "                print('created succesfully')\n",
    "    def read(self):\n",
    "         print(self.file.readlines())\n",
    "\n",
    "o=p_class('fileTest.txt')\n",
    "o.file_handler()\n",
    "o.read()"
   ]
  },
  {
   "cell_type": "code",
   "execution_count": null,
   "id": "4dfd3e12",
   "metadata": {},
   "outputs": [
    {
     "data": {
      "text/plain": [
       "WindowsPath('c:/Users/DELL/remote-python-course/AZZI-Amir')"
      ]
     },
     "execution_count": 17,
     "metadata": {},
     "output_type": "execute_result"
    }
   ],
   "source": [
    "\n"
   ]
  },
  {
   "cell_type": "markdown",
   "id": "392203b6-6c7f-41f2-97ae-c5a36d89a3b3",
   "metadata": {},
   "source": [
    "### Part-3\n",
    "\n",
    "* **add a method to add content to the file**"
   ]
  },
  {
   "cell_type": "code",
   "execution_count": 5,
   "id": "73968c61",
   "metadata": {},
   "outputs": [
    {
     "name": "stdout",
     "output_type": "stream",
     "text": [
      "['122\\n', '5151\\n', '5454545\\n']\n"
     ]
    }
   ],
   "source": [
    "import os \n",
    "from pathlib import Path\n",
    "\n",
    "\n",
    "\n",
    "class p_class():\n",
    "    def __init__(self,file_name):\n",
    "        self.file_name=file_name\n",
    "       \n",
    "\n",
    "    def file_handler(self):\n",
    "            if os.path.exists(self.file_name):\n",
    "                self.file=open(self.file_name,'r+')\n",
    "               \n",
    "            else:\n",
    "                self.file=open(self.file_name,'w')\n",
    "                print('created succesfully')\n",
    "    def read(self):\n",
    "         print(self.file.readlines())\n",
    "    def add(self):\n",
    "        self.file=open(self.file_name,'a')\n",
    "        self.file.writelines(input('enter your text')+'\\n')\n",
    "\n",
    "o=p_class('fileTest.txt')\n",
    "o.add()\n",
    "o.file_handler()\n",
    "o.read()"
   ]
  },
  {
   "cell_type": "markdown",
   "id": "b83b5415-043a-4f76-8775-b245634865fc",
   "metadata": {},
   "source": [
    "### Part-4\n",
    "\n",
    "* **add a method to add delete everting from the file**"
   ]
  },
  {
   "cell_type": "code",
   "execution_count": 13,
   "id": "005f41dc",
   "metadata": {},
   "outputs": [
    {
     "name": "stdout",
     "output_type": "stream",
     "text": [
      "[]\n"
     ]
    }
   ],
   "source": [
    "import os \n",
    "from pathlib import Path\n",
    "\n",
    "\n",
    "\n",
    "class p_class():\n",
    "    def __init__(self,file_name):\n",
    "        self.file_name=file_name\n",
    "       \n",
    "\n",
    "    def file_handler(self):\n",
    "            if os.path.exists(self.file_name):\n",
    "                self.file=open(self.file_name,'r+')\n",
    "                \n",
    "                \n",
    "            else:\n",
    "                self.file=open(self.file_name,'w')\n",
    "                print('created succesfully')\n",
    "                \n",
    "    def read(self):\n",
    "         print(self.file.readlines())\n",
    "    def add(self):\n",
    "        self.file=open(self.file_name,'a')\n",
    "        self.file.writelines(input('enter your text')+'\\n')\n",
    "        self.file.close()\n",
    "    def delete(self):\n",
    "        self.file=open(self.file_name,'w')\n",
    "        self.file.close()\n",
    "        self.file_handler()\n",
    "\n",
    "o=p_class('fileTest.txt')\n",
    "o.file_handler()\n",
    "o.delete()\n",
    "o.read()\n"
   ]
  },
  {
   "cell_type": "markdown",
   "id": "a3bef6fe-77c2-46d4-bff5-52340cadf63b",
   "metadata": {},
   "source": [
    "### Part-5\n",
    "\n",
    "* **add a method to close the file**"
   ]
  },
  {
   "cell_type": "code",
   "execution_count": null,
   "id": "f6ebb270",
   "metadata": {},
   "outputs": [
    {
     "name": "stdout",
     "output_type": "stream",
     "text": [
      "['122\\n']\n",
      "closed\n"
     ]
    }
   ],
   "source": [
    "import os \n",
    "from pathlib import Path\n",
    "\n",
    "\n",
    "\n",
    "class p_class():\n",
    "    def __init__(self,file_name):\n",
    "        self.file_name=file_name\n",
    "       \n",
    "\n",
    "    def file_handler(self):\n",
    "            if os.path.exists(self.file_name):\n",
    "                self.file=open(self.file_name,'r+')\n",
    "                \n",
    "                self.file.close()\n",
    "            else:\n",
    "                self.file=open(self.file_name,'w')\n",
    "                print('created succesfully')\n",
    "                self.file.close()\n",
    "    def read(self):\n",
    "         print(self.file.readlines())\n",
    "    def add(self):\n",
    "        self.file=open(self.file_name,'a')\n",
    "        self.file.writelines(input('enter your text')+'\\n')\n",
    "        self.file.close()\n",
    "    def delete(self):\n",
    "        self.file=open(self.file_name,'w')\n",
    "        self.file.close()\n",
    "        self.file_handler()\n",
    "\n",
    "    def close(self):\n",
    "        self.file.close()\n",
    "        print('closed')\n",
    "\n",
    "o=p_class('fileTest.txt')\n",
    "\n",
    "\n",
    "o.close()"
   ]
  }
 ],
 "metadata": {
  "kernelspec": {
   "display_name": "Python 3",
   "language": "python",
   "name": "python3"
  },
  "language_info": {
   "codemirror_mode": {
    "name": "ipython",
    "version": 3
   },
   "file_extension": ".py",
   "mimetype": "text/x-python",
   "name": "python",
   "nbconvert_exporter": "python",
   "pygments_lexer": "ipython3",
   "version": "3.12.4"
  }
 },
 "nbformat": 4,
 "nbformat_minor": 5
}
