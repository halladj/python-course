{
 "cells": [
  {
   "cell_type": "code",
   "execution_count": 15,
   "id": "6709c4b7",
   "metadata": {},
   "outputs": [
    {
     "name": "stdout",
     "output_type": "stream",
     "text": [
      "enter the operation\n",
      "+\n",
      "enter a\n",
      "0\n",
      "enter b\n",
      "0\n",
      "this operation is the addition and the result is 0\n"
     ]
    }
   ],
   "source": [
    "operation_list=[\"+\",\"*\",\"-\",\"/\"]\n",
    "\n",
    "print('enter the operation')\n",
    "operation=input()\n",
    "\n",
    "print('enter a')\n",
    "a=input()\n",
    "a=int(a)\n",
    "print('enter b')\n",
    "b=input()\n",
    "b=int(b)\n",
    "if operation ==\"+\":\n",
    "    print('this operation is the addition','and the result is',a+b)\n",
    "elif operation ==\"*\":\n",
    "    print ('this op is a multiplication','and the result is',a*b)\n",
    "elif operation ==\"-\":\n",
    "    print('this op is a subtraction','and the result is',a-b)\n",
    "elif operation ==\"/\":\n",
    "    print('this op is a division','and the result is',a/b)\n",
    "else :\n",
    "    print('this is not an opeartion')"
   ]
  },
  {
   "cell_type": "code",
   "execution_count": null,
   "id": "a1934691",
   "metadata": {},
   "outputs": [],
   "source": []
  },
  {
   "cell_type": "code",
   "execution_count": null,
   "id": "d77b0530",
   "metadata": {},
   "outputs": [],
   "source": []
  }
 ],
 "metadata": {
  "kernelspec": {
   "display_name": "Python 3 (ipykernel)",
   "language": "python",
   "name": "python3"
  },
  "language_info": {
   "codemirror_mode": {
    "name": "ipython",
    "version": 3
   },
   "file_extension": ".py",
   "mimetype": "text/x-python",
   "name": "python",
   "nbconvert_exporter": "python",
   "pygments_lexer": "ipython3",
   "version": "3.9.13"
  }
 },
 "nbformat": 4,
 "nbformat_minor": 5
}
