{
 "cells": [
  {
   "cell_type": "markdown",
   "id": "9ed16459-4855-41e2-aa0f-7e6eb8ed2ba5",
   "metadata": {},
   "source": [
    "# Functions\n",
    "\n",
    "### **What is a function ?**\n",
    "\n",
    "* Functions are reusable blocks of code that perform a specific task. You can define your own functions and use them multiple times in your programs.\n",
    "\n",
    "### **How to define a function:**\n",
    "\n",
    "![title](./img/pic.png)"
   ]
  },
  {
   "cell_type": "code",
<<<<<<< HEAD:functions.ipynb
   "execution_count": 9,
   "id": "e64fad2f-9c06-42de-a596-bd9d02e29630",
   "metadata": {},
   "outputs": [
    {
     "name": "stdout",
     "output_type": "stream",
     "text": [
      "Hello World!\n",
      "Hello World!\n",
      "Hello World!\n",
      "Hello World!\n"
     ]
    }
   ],
   "source": [
    "## Type it here\n",
    "def greet():\n",
    "    print(\"hello world\")\n",
    "\n",
    "    greet()\n",
    "    \n"
=======
   "execution_count": 128,
   "id": "e64fad2f-9c06-42de-a596-bd9d02e29630",
   "metadata": {},
   "outputs": [],
   "source": [
    "## Type it here\n",
    "def greet():\n",
    "    print('hello world!')"
>>>>>>> c5189d2e5b53cda40519339e416deef0b064f0a1:AZZI-Amir/functions.ipynb
   ]
  },
  {
   "cell_type": "code",
   "execution_count": null,
   "id": "f72da6d1",
   "metadata": {},
   "outputs": [],
   "source": []
  },
  {
   "cell_type": "markdown",
   "id": "10e7584c-2f30-4068-8dcd-ce25ac0a7394",
   "metadata": {},
   "source": [
    "### **How to Call (execute) a function:**\n",
    "\n",
    "\n",
    "![title](./img/2.png)"
   ]
  },
  {
   "cell_type": "code",
   "execution_count": 129,
   "id": "539f8125-a7ce-4669-945f-46cbbf05c18a",
   "metadata": {},
   "outputs": [
    {
     "name": "stdout",
     "output_type": "stream",
     "text": [
      "hello world!\n"
     ]
    }
   ],
   "source": [
    "## Write it down\n",
    "greet()\n",
    "    "
   ]
  },
  {
   "cell_type": "markdown",
   "id": "1c43dfce-b62b-4332-b31e-72bf5c279647",
   "metadata": {},
   "source": [
    "### Parameters & Arguments:\n",
    "\n",
    "![title](./img/3.png)"
   ]
  },
  {
   "cell_type": "code",
<<<<<<< HEAD:functions.ipynb
   "execution_count": 2,
   "id": "ae89b4fc-b8f2-458f-a172-b3483531a939",
   "metadata": {},
   "outputs": [
    {
     "name": "stdout",
     "output_type": "stream",
     "text": [
      "6\n"
     ]
    }
   ],
   "source": [
    "## write the code\n",
    "def add_numbers(num1:int, num2:int):\n",
    "    print(num1+ num2)\n",
    "    \n",
    "add_numbers(2, 4)"
=======
   "execution_count": 130,
   "id": "ae89b4fc-b8f2-458f-a172-b3483531a939",
   "metadata": {},
   "outputs": [],
   "source": [
    "## write the code\n",
    "def add_numbers(num1:int, num2:int):\n",
    "   \n",
    "    print(num1+num2)"
>>>>>>> c5189d2e5b53cda40519339e416deef0b064f0a1:AZZI-Amir/functions.ipynb
   ]
  },
  {
   "cell_type": "code",
<<<<<<< HEAD:functions.ipynb
   "execution_count": null,
   "id": "e6dd4713",
   "metadata": {},
   "outputs": [],
   "source": []
  },
  {
   "cell_type": "code",
   "execution_count": 15,
=======
   "execution_count": 131,
>>>>>>> c5189d2e5b53cda40519339e416deef0b064f0a1:AZZI-Amir/functions.ipynb
   "id": "b48197a3-1aee-4b96-be58-aaebf99b1e33",
   "metadata": {},
   "outputs": [
    {
     "name": "stdout",
     "output_type": "stream",
     "text": [
      "15\n"
     ]
    }
   ],
   "source": [
    "add_numbers(5,10)"
   ]
  },
  {
   "cell_type": "markdown",
   "id": "668d4672-5ac2-47a6-af23-c8ad4a2036db",
   "metadata": {},
   "source": [
    "### **Return Keyword:**\n",
    "\n",
    "![](img/4.png)"
   ]
  },
  {
   "cell_type": "code",
<<<<<<< HEAD:functions.ipynb
   "execution_count": 3,
=======
   "execution_count": 132,
>>>>>>> c5189d2e5b53cda40519339e416deef0b064f0a1:AZZI-Amir/functions.ipynb
   "id": "69d0f946-fdc9-4118-9c80-1a978f7f0565",
   "metadata": {},
   "outputs": [],
   "source": [
    "## type code\n",
<<<<<<< HEAD:functions.ipynb
    "def squar(num:int)->int:\n",
    "    result = num ** 2\n",
    "    return result"
=======
    "def square_numbers(num:float)->int:\n",
    "    return num**2"
>>>>>>> c5189d2e5b53cda40519339e416deef0b064f0a1:AZZI-Amir/functions.ipynb
   ]
  },
  {
   "cell_type": "code",
<<<<<<< HEAD:functions.ipynb
   "execution_count": 4,
=======
   "execution_count": 133,
>>>>>>> c5189d2e5b53cda40519339e416deef0b064f0a1:AZZI-Amir/functions.ipynb
   "id": "49ada88d-e0e6-484e-b661-52197e84dec6",
   "metadata": {},
   "outputs": [],
   "source": [
    "x = squar(2)"
   ]
  },
  {
   "cell_type": "code",
   "execution_count": 5,
   "id": "f41e1aaa-0042-481e-b0c2-d04c86748c5d",
   "metadata": {},
   "outputs": [
    {
<<<<<<< HEAD:functions.ipynb
     "name": "stdout",
     "output_type": "stream",
     "text": [
      "4\n"
     ]
    }
   ],
   "source": [
    "print(x)"
=======
     "data": {
      "text/plain": [
       "16"
      ]
     },
     "execution_count": 133,
     "metadata": {},
     "output_type": "execute_result"
    }
   ],
   "source": [
    "square_numbers(4)"
>>>>>>> c5189d2e5b53cda40519339e416deef0b064f0a1:AZZI-Amir/functions.ipynb
   ]
  },
  {
   "cell_type": "markdown",
   "id": "71c1236b-c346-442c-a960-28f44d5893e0",
   "metadata": {},
   "source": [
    "## Create a function that does ^2"
   ]
  },
  {
   "cell_type": "code",
<<<<<<< HEAD:functions.ipynb
   "execution_count": 6,
=======
   "execution_count": 134,
>>>>>>> c5189d2e5b53cda40519339e416deef0b064f0a1:AZZI-Amir/functions.ipynb
   "id": "a9641514-891d-4f57-a401-9805966f227d",
   "metadata": {},
   "outputs": [
    {
<<<<<<< HEAD:functions.ipynb
     "name": "stdout",
     "output_type": "stream",
     "text": [
      "4\n"
     ]
    }
   ],
   "source": [
    "x = squar(2)\n",
    "print(x)"
=======
     "data": {
      "text/plain": [
       "30.25"
      ]
     },
     "execution_count": 134,
     "metadata": {},
     "output_type": "execute_result"
    }
   ],
   "source": [
    "def square(num:float)->int:\n",
    "    return num**2\n",
    "square(5.5)\n"
>>>>>>> c5189d2e5b53cda40519339e416deef0b064f0a1:AZZI-Amir/functions.ipynb
   ]
  },
  {
   "cell_type": "markdown",
   "id": "09ec78ae-4a39-4c76-8ada-17bb03f6994e",
   "metadata": {},
   "source": [
    "### Create a function that finds if a number function is even or not "
   ]
  },
  {
   "cell_type": "code",
<<<<<<< HEAD:functions.ipynb
   "execution_count": 11,
=======
   "execution_count": 135,
>>>>>>> c5189d2e5b53cda40519339e416deef0b064f0a1:AZZI-Amir/functions.ipynb
   "id": "38daf7b4-4a18-440f-83d6-3838bc7ed41c",
   "metadata": {},
   "outputs": [],
   "source": [
<<<<<<< HEAD:functions.ipynb
    "def is_even(num:float):\n",
    "    if num % 2 ==0:\n",
    "        return True\n",
    "    else:\n",
    "        return False"
=======
    "def even_or_odd(num:int)->str:\n",
    "    if num % 2 == 0:\n",
    "        return 'even'\n",
    "    else:\n",
    "        return 'odd'    "
>>>>>>> c5189d2e5b53cda40519339e416deef0b064f0a1:AZZI-Amir/functions.ipynb
   ]
  },
  {
   "cell_type": "code",
<<<<<<< HEAD:functions.ipynb
   "execution_count": 12,
=======
   "execution_count": 136,
>>>>>>> c5189d2e5b53cda40519339e416deef0b064f0a1:AZZI-Amir/functions.ipynb
   "id": "644039bd-d84d-424d-8b9d-2fceb2363e85",
   "metadata": {},
   "outputs": [
    {
     "data": {
      "text/plain": [
<<<<<<< HEAD:functions.ipynb
       "True"
      ]
     },
     "execution_count": 12,
     "metadata": {},
     "output_type": "execute_result"
    }
   ],
   "source": [
    "is_even(10)"
=======
       "'even'"
      ]
     },
     "execution_count": 136,
     "metadata": {},
     "output_type": "execute_result"
    }
   ],
   "source": [
    "even_or_odd(16)"
   ]
  },
  {
   "cell_type": "code",
   "execution_count": 137,
   "id": "5e6c27bf",
   "metadata": {},
   "outputs": [],
   "source": [
    "def is_even(num:int)->bool:\n",
    "    if num % 2 == 0:\n",
    "        return True\n",
    "    else: \n",
    "        return False"
   ]
  },
  {
   "cell_type": "code",
   "execution_count": 138,
   "id": "adbd90f6",
   "metadata": {},
   "outputs": [
    {
     "data": {
      "text/plain": [
       "True"
      ]
     },
     "execution_count": 138,
     "metadata": {},
     "output_type": "execute_result"
    }
   ],
   "source": [
    "is_even(16)"
   ]
  },
  {
   "cell_type": "code",
   "execution_count": 141,
   "id": "370ee557",
   "metadata": {},
   "outputs": [
    {
     "name": "stdout",
     "output_type": "stream",
     "text": [
      "number is even\n"
     ]
    }
   ],
   "source": [
    "num1=input(\"enter number\")\n",
    "if is_even(int(num1)):\n",
    "    print(\"number is even\")\n",
    "else:\n",
    "    print(\"number is odd\")"
>>>>>>> c5189d2e5b53cda40519339e416deef0b064f0a1:AZZI-Amir/functions.ipynb
   ]
  },
  {
   "cell_type": "markdown",
   "id": "dab9ad77-224e-4c66-8aa7-c98f0a0d464d",
   "metadata": {},
   "source": [
    "### **Make Home Work code into functions:**\n",
    "\n",
    "\n",
    "\n",
    "\n"
   ]
  },
  {
   "cell_type": "markdown",
   "id": "715fc87a-de40-41b8-bdcb-d7b40f33ad0b",
   "metadata": {},
   "source": [
    "### **Defualt Values Params:**"
   ]
  },
  {
   "cell_type": "code",
   "execution_count": 140,
   "id": "e63d065e-a39e-464c-a75e-3d6d1eec691a",
   "metadata": {},
   "outputs": [
    {
     "ename": "SyntaxError",
     "evalue": "incomplete input (1684371007.py, line 1)",
     "output_type": "error",
     "traceback": [
      "\u001b[1;36m  Cell \u001b[1;32mIn[140], line 1\u001b[1;36m\u001b[0m\n\u001b[1;33m    def my_function():\u001b[0m\n\u001b[1;37m                      ^\u001b[0m\n\u001b[1;31mSyntaxError\u001b[0m\u001b[1;31m:\u001b[0m incomplete input\n"
     ]
    }
   ],
   "source": [
    "def my_function():\n"
   ]
  },
  {
   "cell_type": "markdown",
   "id": "55d32418-81f9-4a86-9441-3db30f82a646",
   "metadata": {},
   "source": [
    "### **Keyword & Positional Arguments:**"
   ]
  },
  {
   "cell_type": "markdown",
   "id": "d20e538d-8923-4bc7-ac20-e716a1394944",
   "metadata": {},
   "source": [
    "* **Keyword-only**:\n",
    "    * add * , before the arguments:\n",
    "\n"
   ]
  },
  {
   "cell_type": "code",
   "execution_count": 7,
   "id": "711ba5d0-e73e-42a7-a5f1-6988c4d5a2cd",
   "metadata": {},
   "outputs": [
    {
     "name": "stdout",
     "output_type": "stream",
     "text": [
      "3\n"
     ]
    }
   ],
   "source": [
    "def my_function():\n",
    "  "
   ]
  },
  {
   "cell_type": "markdown",
   "id": "e56b7eef-dd9a-4695-a5f4-c9b037eeb37b",
   "metadata": {},
   "source": [
    "* **Positional-only**:\n",
    "    * add , / after the arguments:"
   ]
  },
  {
   "cell_type": "code",
   "execution_count": 9,
   "id": "aa1746f6-5e9f-403c-adc2-bfed326fbc97",
   "metadata": {},
   "outputs": [
    {
     "name": "stdout",
     "output_type": "stream",
     "text": [
      "3\n"
     ]
    }
   ],
   "source": [
    "def my_function():\n",
    "  "
   ]
  },
  {
   "cell_type": "markdown",
   "id": "2a720c6a-23f2-4774-95d1-b21c934ae9dd",
   "metadata": {},
   "source": [
    "* **Combine Positional-Only and Keyword-Only:**"
   ]
  },
  {
   "cell_type": "code",
   "execution_count": 10,
   "id": "849b5cd1-8d0d-43d6-aeb3-86a1cbed2537",
   "metadata": {},
   "outputs": [
    {
     "name": "stdout",
     "output_type": "stream",
     "text": [
      "26\n"
     ]
    }
   ],
   "source": [
    "def my_function():\n"
   ]
  }
 ],
 "metadata": {
  "kernelspec": {
   "display_name": "Python 3",
   "language": "python",
   "name": "python3"
  },
  "language_info": {
   "codemirror_mode": {
    "name": "ipython",
    "version": 3
   },
   "file_extension": ".py",
   "mimetype": "text/x-python",
   "name": "python",
   "nbconvert_exporter": "python",
   "pygments_lexer": "ipython3",
<<<<<<< HEAD:functions.ipynb
   "version": "undefined.undefined.undefined"
=======
   "version": "3.12.4"
>>>>>>> c5189d2e5b53cda40519339e416deef0b064f0a1:AZZI-Amir/functions.ipynb
  }
 },
 "nbformat": 4,
 "nbformat_minor": 5
}
