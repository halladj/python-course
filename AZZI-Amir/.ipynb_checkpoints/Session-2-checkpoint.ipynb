{
 "cells": [
  {
   "cell_type": "code",
   "execution_count": 18,
   "id": "cff00022",
   "metadata": {},
   "outputs": [
    {
     "name": "stdout",
     "output_type": "stream",
     "text": [
      "enter first number\n",
      "5656565\n",
      "enter second number\n",
      "296262\n",
      "first number is greater than the second\n"
     ]
    }
   ],
   "source": [
    "print('enter first number')\n",
    "x=input()\n",
    "x=int(x)\n",
    "\n",
    "print('enter second number')\n",
    "y=input()\n",
    "y=int(y)\n",
    "\n",
    "\n",
    "if x > y :\n",
    "    \n",
    "        print('first number is greater than the second')\n",
    "\n",
    "elif x == y :\n",
    "    \n",
    "        print('first number is equal to the second number')\n",
    "    \n",
    "else :\n",
    "        print('second number is greater than the second')"
   ]
  },
  {
   "cell_type": "code",
   "execution_count": 33,
   "id": "2229d3a2",
   "metadata": {},
   "outputs": [
    {
     "name": "stdout",
     "output_type": "stream",
     "text": [
      "7 x 1 = 7\n",
      "7 x 2 = 14\n",
      "7 x 3 = 21\n",
      "7 x 4 = 28\n",
      "7 x 5 = 35\n",
      "7 x 6 = 42\n",
      "7 x 7 = 49\n",
      "7 x 8 = 56\n",
      "7 x 9 = 63\n",
      "7 x 10 = 70\n"
     ]
    }
   ],
   "source": [
    "count=1\n",
    "\n",
    "for i in range (7,77,7):\n",
    "    \n",
    "    print('7 x',count,'=',i)\n",
    "    count=count+1"
   ]
  },
  {
   "cell_type": "code",
   "execution_count": 35,
   "id": "6683b130",
   "metadata": {},
   "outputs": [
    {
     "name": "stdout",
     "output_type": "stream",
     "text": [
      "7 x 1 = 0\n",
      "7 x 2 = 7\n",
      "7 x 3 = 14\n",
      "7 x 4 = 21\n",
      "7 x 5 = 28\n",
      "7 x 6 = 35\n",
      "7 x 7 = 42\n",
      "7 x 8 = 49\n",
      "7 x 9 = 56\n",
      "7 x 10 = 63\n",
      "7 x 11 = 70\n"
     ]
    }
   ],
   "source": [
    "count=1\n",
    "for i in range(11):\n",
    "    print('7 x',count,'=',i*7)\n",
    "    count=count+1"
   ]
  },
  {
   "cell_type": "code",
   "execution_count": 45,
   "id": "ac9b80f9",
   "metadata": {},
   "outputs": [
    {
     "name": "stdout",
     "output_type": "stream",
     "text": [
      "+\n",
      "this operation is the addition\n"
     ]
    }
   ],
   "source": [
    "operation=[\"+\",\"*\",\"-\",\"/\"]\n",
    "operation=input()\n",
    "if operation ==\"+\":\n",
    "    print('this operation is the addition')\n",
    "elif operation ==\"*\":\n",
    "    print ('this op is a multiplication')\n",
    "elif operation ==\"-\":\n",
    "    print('this op is a subtraction')\n",
    "elif operation ==\"/\":\n",
    "    print('this op is a division')\n",
    "else :\n",
    "    print('this is not an opeartion')"
   ]
  },
  {
   "cell_type": "code",
   "execution_count": 57,
   "id": "33c384ea",
   "metadata": {},
   "outputs": [
    {
     "name": "stdout",
     "output_type": "stream",
     "text": [
      "enter the operation\n",
      "/\n",
      "enter a\n",
      "5\n",
      "enter b\n",
      "2\n",
      "this op is a division and the result is 2.5\n"
     ]
    }
   ],
   "source": [
    "operation=[\"+\",\"*\",\"-\",\"/\"]\n",
    "print('enter the operation')\n",
    "operation=input()\n",
    "print('enter a')\n",
    "a=input()\n",
    "a=int(a)\n",
    "print('enter b')\n",
    "b=input()\n",
    "b=int(b)\n",
    "if operation ==\"+\":\n",
    "    print('this operation is the addition','and the result is',a+b)\n",
    "elif operation ==\"*\":\n",
    "    print ('this op is a multiplication','and the result is',a*b)\n",
    "elif operation ==\"-\":\n",
    "    print('this op is a subtraction','and the result is',a-b)\n",
    "elif operation ==\"/\":\n",
    "    print('this op is a division','and the result is',a/b)\n",
    "else :\n",
    "    print('this is not an opeartion')"
   ]
  },
  {
   "cell_type": "code",
   "execution_count": 59,
   "id": "046ccbcd",
   "metadata": {},
   "outputs": [
    {
     "data": {
      "text/plain": [
       "10"
      ]
     },
     "execution_count": 59,
     "metadata": {},
     "output_type": "execute_result"
    }
   ],
   "source": [
    "numbers_list=[1,2,3,4,5,6,7,8,9,10]\n",
    "numbers_list[-1]\n"
   ]
  },
  {
   "cell_type": "code",
   "execution_count": 63,
   "id": "375124b8",
   "metadata": {},
   "outputs": [
    {
     "data": {
      "text/plain": [
       "6"
      ]
     },
     "execution_count": 63,
     "metadata": {},
     "output_type": "execute_result"
    }
   ],
   "source": [
    "numbers_list.append(5)\n",
    "numbers_list[5]"
   ]
  },
  {
   "cell_type": "code",
   "execution_count": 64,
   "id": "40a2a081",
   "metadata": {},
   "outputs": [
    {
     "data": {
      "text/plain": [
       "5"
      ]
     },
     "execution_count": 64,
     "metadata": {},
     "output_type": "execute_result"
    }
   ],
   "source": [
    "numbers_list[-1]"
   ]
  },
  {
   "cell_type": "code",
   "execution_count": 65,
   "id": "2e73cbe0",
   "metadata": {},
   "outputs": [],
   "source": [
    "numbers_list.insert(0,99)"
   ]
  },
  {
   "cell_type": "code",
   "execution_count": 66,
   "id": "5662cc34",
   "metadata": {},
   "outputs": [
    {
     "data": {
      "text/plain": [
       "99"
      ]
     },
     "execution_count": 66,
     "metadata": {},
     "output_type": "execute_result"
    }
   ],
   "source": [
    "numbers_list[0]"
   ]
  },
  {
   "cell_type": "code",
   "execution_count": 67,
   "id": "cf0af39a",
   "metadata": {},
   "outputs": [
    {
     "name": "stdout",
     "output_type": "stream",
     "text": [
      "[99, 1, 2, 3, 4, 5, 6, 7, 8, 9, 10, 5, 5, 5]\n"
     ]
    }
   ],
   "source": [
    "print(numbers_list)"
   ]
  },
  {
   "cell_type": "code",
   "execution_count": 68,
   "id": "3a8bf408",
   "metadata": {},
   "outputs": [],
   "source": [
    "numbers_list.append('y')"
   ]
  },
  {
   "cell_type": "code",
   "execution_count": 69,
   "id": "08910684",
   "metadata": {},
   "outputs": [
    {
     "name": "stdout",
     "output_type": "stream",
     "text": [
      "[99, 1, 2, 3, 4, 5, 6, 7, 8, 9, 10, 5, 5, 5, 'y']\n"
     ]
    }
   ],
   "source": [
    "print(numbers_list)"
   ]
  },
  {
   "cell_type": "code",
   "execution_count": 70,
   "id": "6622a3bc",
   "metadata": {},
   "outputs": [
    {
     "data": {
      "text/plain": [
       "15"
      ]
     },
     "execution_count": 70,
     "metadata": {},
     "output_type": "execute_result"
    }
   ],
   "source": [
    "len(numbers_list)"
   ]
  },
  {
   "cell_type": "code",
   "execution_count": 71,
   "id": "47da58ac",
   "metadata": {},
   "outputs": [],
   "source": [
    "numbers_list.remove(5)\n"
   ]
  },
  {
   "cell_type": "code",
   "execution_count": 72,
   "id": "0611e652",
   "metadata": {},
   "outputs": [
    {
     "name": "stdout",
     "output_type": "stream",
     "text": [
      "[99, 1, 2, 3, 4, 6, 7, 8, 9, 10, 5, 5, 5, 'y']\n"
     ]
    }
   ],
   "source": [
    "print(numbers_list)"
   ]
  },
  {
   "cell_type": "code",
   "execution_count": 74,
   "id": "c779693f",
   "metadata": {},
   "outputs": [
    {
     "name": "stdout",
     "output_type": "stream",
     "text": [
      "['amir', 'hamza', 'amina', 'zaki', 'abderrahmane', 'ronaldo']\n",
      "['amir', 'amina', 'zaki', 'abderrahmane', 'ronaldo']\n"
     ]
    }
   ],
   "source": [
    "names_list=['amir','hamza','amina','zaki','abderrahmane']\n",
    "names_list.append('ronaldo')\n",
    "print(names_list)\n",
    "names_list.remove('hamza')\n",
    "print(names_list)"
   ]
  },
  {
   "cell_type": "code",
   "execution_count": 75,
   "id": "64a83996",
   "metadata": {},
   "outputs": [
    {
     "name": "stdout",
     "output_type": "stream",
     "text": [
      "['ronaldo', 'amir', 'hamza', 'amina', 'zaki', 'abderrahmane']\n",
      "['ronaldo', 'amir', 'amina', 'zaki', 'abderrahmane']\n"
     ]
    }
   ],
   "source": [
    "names_list=['amir','hamza','amina','zaki','abderrahmane']\n",
    "names_list.insert(0,'ronaldo')\n",
    "print(names_list)\n",
    "names_list.pop(2)\n",
    "print(names_list)"
   ]
  },
  {
   "cell_type": "code",
   "execution_count": 98,
   "id": "4df443a8",
   "metadata": {
    "scrolled": true
   },
   "outputs": [],
   "source": [
    "def calculator(operation,a,b):\n",
    "    #operation=[\"+\",\"*\",\"-\",\"/\"]\n",
    "    #print('enter the operation')\n",
    "    #operation=input()\n",
    "   # print('enter a')\n",
    "   # a=input()\n",
    "   # a=int(a)\n",
    "   # print('enter b')\n",
    "   # b=input()\n",
    "   # b=int(b)\n",
    "    if operation ==\"+\":\n",
    "        print('this operation is the addition','and the result is',a+b)\n",
    "    elif operation ==\"*\":\n",
    "        print ('this op is a multiplication','and the result is',a*b)\n",
    "    elif operation ==\"-\":\n",
    "        print('this op is a subtraction','and the result is',a-b)\n",
    "    elif operation ==\"/\":\n",
    "        print('this op is a division','and the result is',a/b)\n",
    "    else :\n",
    "        print('this is not an opeartion')"
   ]
  },
  {
   "cell_type": "code",
   "execution_count": null,
   "id": "95895dcb",
   "metadata": {},
   "outputs": [
    {
     "name": "stdout",
     "output_type": "stream",
     "text": [
      "enter the operation\n"
     ]
    }
   ],
   "source": [
    "calculator()"
   ]
  },
  {
   "cell_type": "code",
   "execution_count": null,
   "id": "79dccded",
   "metadata": {},
   "outputs": [],
   "source": []
  }
 ],
 "metadata": {
  "kernelspec": {
   "display_name": "Python 3 (ipykernel)",
   "language": "python",
   "name": "python3"
  },
  "language_info": {
   "codemirror_mode": {
    "name": "ipython",
    "version": 3
   },
   "file_extension": ".py",
   "mimetype": "text/x-python",
   "name": "python",
   "nbconvert_exporter": "python",
   "pygments_lexer": "ipython3",
   "version": "3.9.13"
  }
 },
 "nbformat": 4,
 "nbformat_minor": 5
}
