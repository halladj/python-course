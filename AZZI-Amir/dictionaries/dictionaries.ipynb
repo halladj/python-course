{
 "cells": [
  {
   "cell_type": "code",
   "execution_count": 8,
   "metadata": {},
   "outputs": [
    {
     "data": {
      "text/plain": [
       "'25/02/2002'"
      ]
     },
     "execution_count": 8,
     "metadata": {},
     "output_type": "execute_result"
    }
   ],
   "source": [
    "\n",
    "\n",
    "student:dict={\n",
    "    \"name\": \"alice\",\n",
    "    \"age\": \"22\",\n",
    "    \"is_student\":True,\n",
    "    \"birth_date\":\"25/02/2002\"\n",
    "}\n",
    "student[\"name\"]\n",
    "student.get(\"name\")\n",
    "\n",
    "\n",
    "student.get(\"birth_date\")\n",
    "\n",
    "\n",
    "\n",
    "\n",
    "\n",
    "\n",
    "\n",
    " \n"
   ]
  }
 ],
 "metadata": {
  "kernelspec": {
   "display_name": "Python 3",
   "language": "python",
   "name": "python3"
  },
  "language_info": {
   "codemirror_mode": {
    "name": "ipython",
    "version": 3
   },
   "file_extension": ".py",
   "mimetype": "text/x-python",
   "name": "python",
   "nbconvert_exporter": "python",
   "pygments_lexer": "ipython3",
   "version": "3.12.4"
  }
 },
 "nbformat": 4,
 "nbformat_minor": 2
}
