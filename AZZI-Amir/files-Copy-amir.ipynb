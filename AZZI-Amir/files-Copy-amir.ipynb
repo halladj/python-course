{
 "cells": [
  {
   "cell_type": "markdown",
   "id": "70772039-0ab1-4b9f-aad8-1e77753a0a17",
   "metadata": {},
   "source": [
    "# Path:"
   ]
  },
  {
   "cell_type": "code",
   "execution_count": 84,
   "id": "2780f0b3-a9c5-4b61-9226-63cb82b8bd8b",
   "metadata": {},
   "outputs": [],
   "source": [
    "\n",
    "from pathlib import Path\n"
   ]
  },
  {
   "cell_type": "code",
   "execution_count": 85,
   "id": "ad07ca7c-27c6-45fc-85c8-bc6bde8628e8",
   "metadata": {},
   "outputs": [],
   "source": [
    "p = Path('c:/Users/Al/Download')\n"
   ]
  },
  {
   "cell_type": "code",
   "execution_count": 86,
   "id": "4ca081b4-b810-460f-9f71-59f82f2f8be7",
   "metadata": {},
   "outputs": [
    {
     "name": "stdout",
     "output_type": "stream",
     "text": [
      "c:\\Users\\Al\\Download\n"
     ]
    }
   ],
   "source": [
    "print(p)\n"
   ]
  },
  {
   "cell_type": "code",
   "execution_count": 87,
   "id": "6a4e9b3a-d305-4567-8015-f50ea85268dc",
   "metadata": {},
   "outputs": [],
   "source": [
    "d=Path('C:\\\\Users\\\\DELL\\\\remote-python-course\\\\AZZI-Amir\\\\files-Copy-amir')\n"
   ]
  },
  {
   "cell_type": "code",
   "execution_count": 88,
   "id": "fb02d871",
   "metadata": {},
   "outputs": [
    {
     "name": "stdout",
     "output_type": "stream",
     "text": [
      "C:\\Users\\DELL\\remote-python-course\\AZZI-Amir\\files-Copy-amir\n"
     ]
    }
   ],
   "source": [
    "print(d)"
   ]
  },
  {
   "cell_type": "markdown",
   "id": "70c64699-1c30-4e55-bbae-3a3112468495",
   "metadata": {},
   "source": [
    "### concatenate **Path** instances."
   ]
  },
  {
   "cell_type": "code",
   "execution_count": 89,
   "id": "28078566-013e-468e-b467-b9015af9a713",
   "metadata": {},
   "outputs": [
    {
     "data": {
      "text/plain": [
       "WindowsPath('C:/Users/DELL/remote-python-course/AZZI-Amir/files-Copy-amir/files.ipynb')"
      ]
     },
     "execution_count": 89,
     "metadata": {},
     "output_type": "execute_result"
    }
   ],
   "source": [
    "d / \"files.ipynb\""
   ]
  },
  {
   "cell_type": "code",
   "execution_count": 90,
   "id": "3eba33d5-5b5e-4160-9cfc-26623bf174ab",
   "metadata": {},
   "outputs": [
    {
     "data": {
      "text/plain": [
       "WindowsPath('C:/Users/DELL/remote-python-course/AZZI-Amir/files-Copy-amir/files-Copy-amir')"
      ]
     },
     "execution_count": 90,
     "metadata": {},
     "output_type": "execute_result"
    }
   ],
   "source": [
    "d / \"files-Copy-amir\""
   ]
  },
  {
   "cell_type": "code",
   "execution_count": 91,
   "id": "782d81ca-81bf-4f20-a983-940a8491c12b",
   "metadata": {},
   "outputs": [
    {
     "data": {
      "text/plain": [
       "WindowsPath('C:/Users/DELL/remote-python-course/AZZI-Amir/files-Copy-amir/files-Copy-amir.ipynb')"
      ]
     },
     "execution_count": 91,
     "metadata": {},
     "output_type": "execute_result"
    }
   ],
   "source": [
    "Path.joinpath(d,\"files-Copy-amir.ipynb\")"
   ]
  },
  {
   "cell_type": "code",
   "execution_count": null,
   "id": "c6073596-1b30-4ef6-941b-42815b29bd8c",
   "metadata": {},
   "outputs": [],
   "source": []
  },
  {
   "cell_type": "code",
   "execution_count": 92,
   "id": "5b7eee0b-596d-4662-af4f-4689e87d4bfb",
   "metadata": {},
   "outputs": [
    {
     "name": "stdout",
     "output_type": "stream",
     "text": [
      "C:/Users/DELL/AZZI-Amir\\files-Copy-amir\n"
     ]
    }
   ],
   "source": [
    "import sys\n",
    "homeFolder=\"C:/Users/DELL/AZZI-Amir\"\n",
    "subFolder=\"files-Copy-amir\"\n",
    "\n",
    "\n",
    "if sys.platform == \"linux\" or sys.platform == \"macos\":\n",
    "   print( '/'.join([homeFolder, subFolder]))\n",
    "else:\n",
    "    print('\\\\'.join([homeFolder, subFolder]))"
   ]
  },
  {
   "cell_type": "markdown",
   "id": "ebfc7c62-97f9-4bbc-843e-924d33698025",
   "metadata": {},
   "source": [
    "### instead of using this pattern, use Path() and /, as it finds ur os and picks the right one / or \\"
   ]
  },
  {
   "cell_type": "code",
   "execution_count": 93,
   "id": "cac4e830-d994-4f82-b51a-e3ddcf24ace1",
   "metadata": {},
   "outputs": [
    {
     "data": {
      "text/plain": [
       "WindowsPath('C:/Users/DELL/AZZI-Amir/files-Copy-amir/files.ipynb')"
      ]
     },
     "execution_count": 93,
     "metadata": {},
     "output_type": "execute_result"
    }
   ],
   "source": [
    "Path(\"C:/Users/DELL/AZZI-Amir\") /\"files-Copy-amir\"/\"files.ipynb\""
   ]
  },
  {
   "cell_type": "markdown",
   "id": "a2635822-0fda-4a07-86df-e9cc4514f83c",
   "metadata": {},
   "source": [
    "## Current Working Dir:"
   ]
  },
  {
   "cell_type": "code",
   "execution_count": 94,
   "id": "72f3ccb5-2e1d-4ac8-b7d7-b3ca8ee0ff52",
   "metadata": {},
   "outputs": [
    {
     "data": {
      "text/plain": [
       "WindowsPath('c:/Users/DELL/remote-python-course/AZZI-Amir/session-6')"
      ]
     },
     "execution_count": 94,
     "metadata": {},
     "output_type": "execute_result"
    }
   ],
   "source": [
    "Path.cwd()"
   ]
  },
  {
   "cell_type": "code",
   "execution_count": 95,
   "id": "2a57854d-88b4-4b06-a1ee-23d2e3e46357",
   "metadata": {},
   "outputs": [
    {
     "data": {
      "text/plain": [
       "WindowsPath('c:/Users/DELL/remote-python-course/AZZI-Amir/session-6/files-Copy-amir.ipynb')"
      ]
     },
     "execution_count": 95,
     "metadata": {},
     "output_type": "execute_result"
    }
   ],
   "source": [
    "Path.cwd()/\"files-Copy-amir.ipynb\""
   ]
  },
  {
   "cell_type": "markdown",
   "id": "515a8f73-6caf-4c0c-b487-3db15b146e91",
   "metadata": {},
   "source": [
    "## Home Directory:"
   ]
  },
  {
   "cell_type": "code",
   "execution_count": 96,
   "id": "7442c7e5-65ab-44ab-bc11-567cced3ce82",
   "metadata": {},
   "outputs": [
    {
     "data": {
      "text/plain": [
       "WindowsPath('C:/Users/DELL')"
      ]
     },
     "execution_count": 96,
     "metadata": {},
     "output_type": "execute_result"
    }
   ],
   "source": [
    "Path.home()"
   ]
  },
  {
   "cell_type": "markdown",
   "id": "f9decdf5-1a78-4715-a6b1-abd20e4999c5",
   "metadata": {},
   "source": [
    "## Creating New Folders using os.makedirs()"
   ]
  },
  {
   "cell_type": "code",
   "execution_count": 97,
   "id": "f53a12db-7a99-44ed-b257-aca557e0099c",
   "metadata": {},
   "outputs": [
    {
     "data": {
      "text/plain": [
       "['file1']"
      ]
     },
     "execution_count": 97,
     "metadata": {},
     "output_type": "execute_result"
    }
   ],
   "source": [
    "import os \n",
    "\n",
    "os.listdir()"
   ]
  },
  {
   "cell_type": "code",
   "execution_count": 98,
   "id": "0e2c4e25-f7b0-45e6-afd3-4f9a8a4936a3",
   "metadata": {},
   "outputs": [],
   "source": [
    "os.makedirs(\"test\")"
   ]
  },
  {
   "cell_type": "code",
   "execution_count": 99,
   "id": "d1d6d0f6-74e8-4c46-8c05-8f83cac24a69",
   "metadata": {},
   "outputs": [
    {
     "data": {
      "text/plain": [
       "['file1', 'test']"
      ]
     },
     "execution_count": 99,
     "metadata": {},
     "output_type": "execute_result"
    }
   ],
   "source": [
    "os.listdir()"
   ]
  },
  {
   "cell_type": "code",
   "execution_count": null,
   "id": "77ca8141-0b9a-44ea-bc68-c15b28a8fdd1",
   "metadata": {},
   "outputs": [],
   "source": []
  },
  {
   "cell_type": "markdown",
   "id": "b9ec537d-ba64-4b4f-9dfb-895db305c07a",
   "metadata": {},
   "source": [
    "### To make a directory from a Path object, call the mkdir() method"
   ]
  },
  {
   "cell_type": "code",
   "execution_count": 100,
   "id": "5026813d-0a30-489b-a68b-4e9efce64c1f",
   "metadata": {},
   "outputs": [
    {
     "name": "stdout",
     "output_type": "stream",
     "text": [
      "c:\\Users\\DELL\\remote-python-course\\AZZI-Amir\\session-6\\test1\n"
     ]
    }
   ],
   "source": [
    "x=Path.cwd()/\"test1\"\n",
    "print(x)"
   ]
  },
  {
   "cell_type": "code",
   "execution_count": 101,
   "id": "9cc88b7a",
   "metadata": {},
   "outputs": [
    {
     "data": {
      "text/plain": [
       "<function nt.listdir(path=None)>"
      ]
     },
     "execution_count": 101,
     "metadata": {},
     "output_type": "execute_result"
    }
   ],
   "source": [
    "x.mkdir()\n",
    "os.listdir"
   ]
  },
  {
   "cell_type": "code",
   "execution_count": 102,
   "id": "d1d791fc",
   "metadata": {},
   "outputs": [
    {
     "data": {
      "text/plain": [
       "['file1', 'test', 'test1']"
      ]
     },
     "execution_count": 102,
     "metadata": {},
     "output_type": "execute_result"
    }
   ],
   "source": [
    "os.listdir()"
   ]
  },
  {
   "cell_type": "markdown",
   "id": "16f63bdd-2f81-4cfe-ac42-d69006f33597",
   "metadata": {},
   "source": [
    "## Handling Absolute and Relative Paths:"
   ]
  },
  {
   "cell_type": "code",
   "execution_count": 103,
   "id": "8c6ccebc-8398-4440-82fc-c73eb24897e1",
   "metadata": {},
   "outputs": [
    {
     "data": {
      "text/plain": [
       "True"
      ]
     },
     "execution_count": 103,
     "metadata": {},
     "output_type": "execute_result"
    }
   ],
   "source": [
    "x.is_dir()"
   ]
  },
  {
   "cell_type": "code",
   "execution_count": 104,
   "id": "2c1c7882-50e8-427d-b770-2fe9dcf7aa43",
   "metadata": {},
   "outputs": [
    {
     "data": {
      "text/plain": [
       "'c:\\\\Users\\\\DELL\\\\remote-python-course\\\\AZZI-Amir\\\\session-6\\\\test'"
      ]
     },
     "execution_count": 104,
     "metadata": {},
     "output_type": "execute_result"
    }
   ],
   "source": [
    "os.path.abspath('test')"
   ]
  },
  {
   "cell_type": "code",
   "execution_count": 105,
   "id": "b2b070b5-a41e-4d22-b380-ad03f42c98e7",
   "metadata": {},
   "outputs": [
    {
     "data": {
      "text/plain": [
       "'test'"
      ]
     },
     "execution_count": 105,
     "metadata": {},
     "output_type": "execute_result"
    }
   ],
   "source": [
    "os.path.relpath('test')"
   ]
  },
  {
   "cell_type": "markdown",
   "id": "6286a5dd-dc68-4328-b7db-e21af45f39bf",
   "metadata": {},
   "source": [
    "**Calling os.path.abspath(path) will return a string of the absolute path\n",
    "of the argument.**"
   ]
  },
  {
   "cell_type": "code",
   "execution_count": null,
   "id": "25469bc7-9ab6-4fff-b6f6-05ad144c2004",
   "metadata": {},
   "outputs": [],
   "source": []
  },
  {
   "cell_type": "markdown",
   "id": "c685ef4f-941f-4e43-8d67-975e2f56587c",
   "metadata": {},
   "source": [
    "## Finding File Sizes and Folder Contents:"
   ]
  },
  {
   "cell_type": "code",
   "execution_count": null,
   "id": "2957078e-1d1c-43c9-8cb9-9f9bbd285e8e",
   "metadata": {},
   "outputs": [
    {
     "ename": "FileNotFoundError",
     "evalue": "[WinError 3] Le chemin d’accès spécifié est introuvable: '/home/hambz/ai-workshop/week-group/python-group/session-4'",
     "output_type": "error",
     "traceback": [
      "\u001b[1;31m---------------------------------------------------------------------------\u001b[0m",
      "\u001b[1;31mFileNotFoundError\u001b[0m                         Traceback (most recent call last)",
      "Cell \u001b[1;32mIn[108], line 1\u001b[0m\n\u001b[1;32m----> 1\u001b[0m os\u001b[38;5;241m.\u001b[39mpath\u001b[38;5;241m.\u001b[39mgetsize(\u001b[38;5;124mr\u001b[39m\u001b[38;5;124m'\u001b[39m\u001b[38;5;124m/home/hambz/ai-workshop/week-group/python-group/session-4\u001b[39m\u001b[38;5;124m'\u001b[39m)\n",
      "File \u001b[1;32m<frozen genericpath>:62\u001b[0m, in \u001b[0;36mgetsize\u001b[1;34m(filename)\u001b[0m\n",
      "\u001b[1;31mFileNotFoundError\u001b[0m: [WinError 3] Le chemin d’accès spécifié est introuvable: '/home/hambz/ai-workshop/week-group/python-group/session-4'"
     ]
    }
   ],
   "source": []
  },
  {
   "cell_type": "code",
   "execution_count": null,
   "id": "abd5d0c0-ad27-4cb3-b949-fd10fe7b88cb",
   "metadata": {},
   "outputs": [
    {
     "data": {
      "text/plain": [
       "['go',\n",
       " '.bash_logout',\n",
       " '.profile',\n",
       " '.vscode',\n",
       " 'Downloads',\n",
       " 'Public',\n",
       " '.cache',\n",
       " '.face.icon',\n",
       " '.config',\n",
       " '.gphoto',\n",
       " '.viminfo',\n",
       " 'Documents',\n",
       " '.gnupg',\n",
       " 'Pictures',\n",
       " 'wifi-code.md',\n",
       " '.jupyter',\n",
       " '.python_history',\n",
       " '.bash_history',\n",
       " 'Templates',\n",
       " '.xsnowrc',\n",
       " '.lesshst',\n",
       " 'Music',\n",
       " 'less',\n",
       " '.ssh',\n",
       " '.cabal',\n",
       " '.dotnet',\n",
       " 'Videos',\n",
       " '.mozilla',\n",
       " 'test.py',\n",
       " '.ipython',\n",
       " '.pki',\n",
       " '.local',\n",
       " 'ai-workshop',\n",
       " '.face',\n",
       " 'Desktop',\n",
       " '.bashrc']"
      ]
     },
     "execution_count": 62,
     "metadata": {},
     "output_type": "execute_result"
    }
   ],
   "source": [
    "os.listdir(Path.home())"
   ]
  },
  {
   "cell_type": "code",
   "execution_count": null,
   "id": "353cec2b-d87b-464f-a076-09612b27062e",
   "metadata": {},
   "outputs": [
    {
     "name": "stdout",
     "output_type": "stream",
     "text": [
      "go\n",
      ".bash_logout\n",
      ".profile\n",
      ".vscode\n",
      "Downloads\n",
      "Public\n",
      ".cache\n",
      ".face.icon\n",
      ".config\n",
      ".gphoto\n",
      ".viminfo\n",
      "Documents\n",
      ".gnupg\n",
      "Pictures\n",
      "wifi-code.md\n",
      ".jupyter\n",
      ".python_history\n",
      ".bash_history\n",
      "Templates\n",
      ".xsnowrc\n",
      ".lesshst\n",
      "Music\n",
      "less\n",
      ".ssh\n",
      ".cabal\n",
      ".dotnet\n",
      "Videos\n",
      ".mozilla\n",
      "test.py\n",
      ".ipython\n",
      ".pki\n",
      ".local\n",
      "ai-workshop\n",
      ".face\n",
      "Desktop\n",
      ".bashrc\n"
     ]
    }
   ],
   "source": [
    "for filename in os.listdir(Path.home()):\n",
    "    print(filename)"
   ]
  },
  {
   "cell_type": "code",
   "execution_count": 122,
   "id": "d41cf414",
   "metadata": {},
   "outputs": [
    {
     "name": "stdout",
     "output_type": "stream",
     "text": [
      "file1\n",
      "test\n",
      "test1\n"
     ]
    }
   ],
   "source": [
    "\n",
    "def file_list():\n",
    "    \n",
    "    for file_name in os.listdir():\n",
    "        if os.path.getsize(file_name)>=0:\n",
    "            print(file_name)\n",
    "\n",
    "file_list()\n"
   ]
  },
  {
   "cell_type": "code",
   "execution_count": 110,
   "id": "17aee5c0",
   "metadata": {},
   "outputs": [],
   "source": [
    "def dir_list():\n",
    "  \n",
    "    for file_name in os.listdir():\n",
    "        if os.path.getsize(file_name)==0:\n",
    "            print(file_name)\n",
    "\n"
   ]
  },
  {
   "cell_type": "markdown",
   "id": "253bb972-062c-47b4-9ef3-94b943703c10",
   "metadata": {},
   "source": [
    "## The File Reading/Writing Process:"
   ]
  },
  {
   "cell_type": "markdown",
   "id": "ad3daa85-9028-44b4-b61e-6d1296005acf",
   "metadata": {},
   "source": [
    "### Opening Files with the open() Function:"
   ]
  },
  {
   "cell_type": "code",
   "execution_count": null,
   "id": "ac666e36-08bf-4e74-a2c7-d3c510ac1e7e",
   "metadata": {},
   "outputs": [
    {
     "data": {
      "text/plain": [
       "WindowsPath('c:/Users/DELL/remote-python-course/AZZI-Amir')"
      ]
     },
     "execution_count": 34,
     "metadata": {},
     "output_type": "execute_result"
    }
   ],
   "source": [
    "Path.cwd()\n"
   ]
  },
  {
   "cell_type": "code",
   "execution_count": null,
   "id": "7eb1e5f1",
   "metadata": {},
   "outputs": [],
   "source": [
    "os.mkdir(\"session-6\")"
   ]
  },
  {
   "cell_type": "code",
   "execution_count": null,
   "id": "5db2463e",
   "metadata": {},
   "outputs": [],
   "source": [
    "os.listdir()"
   ]
  },
  {
   "cell_type": "code",
   "execution_count": 141,
   "id": "203c8fd2",
   "metadata": {},
   "outputs": [
    {
     "name": "stdout",
     "output_type": "stream",
     "text": [
      "file1 11\n",
      "test 0\n",
      "test1 0\n"
     ]
    }
   ],
   "source": [
    "for file_name in os.listdir():\n",
    "    print(file_name,os.path.getsize(file_name))"
   ]
  },
  {
   "cell_type": "code",
   "execution_count": null,
   "id": "ed527065",
   "metadata": {},
   "outputs": [],
   "source": [
    "dir_list()"
   ]
  },
  {
   "cell_type": "markdown",
   "id": "fc938dbf-d181-424b-ad9f-81fa0c2f6943",
   "metadata": {},
   "source": [
    "### Reading the Contents of Files:"
   ]
  },
  {
   "cell_type": "code",
   "execution_count": null,
   "id": "7a045b99-c845-4be9-9752-8b3155b919fa",
   "metadata": {},
   "outputs": [],
   "source": [
    "os.chdir(Path.cwd()/\"session-6\")"
   ]
  },
  {
   "cell_type": "code",
   "execution_count": null,
   "id": "9cdd9e14-d65a-4489-a6d9-5cdf74168586",
   "metadata": {},
   "outputs": [],
   "source": [
    "my_special_file = open(\"file1\",\"x\")"
   ]
  },
  {
   "cell_type": "code",
   "execution_count": null,
   "id": "98d25c72",
   "metadata": {},
   "outputs": [
    {
     "data": {
      "text/plain": [
       "['file1']"
      ]
     },
     "execution_count": 77,
     "metadata": {},
     "output_type": "execute_result"
    }
   ],
   "source": [
    "os.listdir()"
   ]
  },
  {
   "cell_type": "code",
   "execution_count": null,
   "id": "694345b3",
   "metadata": {},
   "outputs": [],
   "source": [
    "my_special_file.close()"
   ]
  },
  {
   "cell_type": "code",
   "execution_count": null,
   "id": "4227b53e",
   "metadata": {},
   "outputs": [],
   "source": [
    "file1 = open(\"file1\",\"r\")\n",
    "#x  -> create file, error if already exists.\n",
    "#w  -> write only file access.\n",
    "#r  -> read only file access.\n",
    "#r+ -> read and write file access."
   ]
  },
  {
   "cell_type": "code",
   "execution_count": 123,
   "id": "8b977813",
   "metadata": {},
   "outputs": [
    {
     "name": "stdout",
     "output_type": "stream",
     "text": [
      "file1\n",
      "test\n",
      "test1\n"
     ]
    }
   ],
   "source": [
    "file_list()"
   ]
  },
  {
   "cell_type": "code",
   "execution_count": null,
   "id": "dab75732",
   "metadata": {},
   "outputs": [
    {
     "data": {
      "text/plain": [
       "_io.TextIOWrapper"
      ]
     },
     "execution_count": 125,
     "metadata": {},
     "output_type": "execute_result"
    }
   ],
   "source": [
    "file1 = open(\"file1\",\"r\")\n"
   ]
  },
  {
   "cell_type": "code",
   "execution_count": null,
   "id": "67dfc407",
   "metadata": {},
   "outputs": [
    {
     "data": {
      "text/plain": [
       "[]"
      ]
     },
     "execution_count": 126,
     "metadata": {},
     "output_type": "execute_result"
    }
   ],
   "source": [
    "file1.readlines()\n"
   ]
  },
  {
   "cell_type": "markdown",
   "id": "91c5b8fe-77ec-4ce8-b1b5-7c98f9533a1e",
   "metadata": {},
   "source": [
    "### Writing to Files:"
   ]
  },
  {
   "cell_type": "code",
   "execution_count": 127,
   "id": "6e4aa20f-7273-4cc7-94af-3b50c2d3a1b4",
   "metadata": {},
   "outputs": [],
   "source": [
    "file1.close()"
   ]
  },
  {
   "cell_type": "code",
   "execution_count": null,
   "id": "3db77b39-4859-4eee-8d84-d0ab2f56367a",
   "metadata": {},
   "outputs": [],
   "source": [
    "file1 = open(\"file1\",\"r+\")\n"
   ]
  },
  {
   "cell_type": "code",
   "execution_count": 133,
   "id": "6aea24e6",
   "metadata": {},
   "outputs": [],
   "source": [
    "file1.writelines(\"hello\")"
   ]
  },
  {
   "cell_type": "code",
   "execution_count": 135,
   "id": "1865cee6",
   "metadata": {},
   "outputs": [],
   "source": [
    "file1.close()"
   ]
  },
  {
   "cell_type": "code",
   "execution_count": 139,
   "id": "7d6abc10",
   "metadata": {},
   "outputs": [],
   "source": [
    "file1=open(\"file1\",\"r+\")"
   ]
  },
  {
   "cell_type": "code",
   "execution_count": 140,
   "id": "543dc097",
   "metadata": {},
   "outputs": [
    {
     "data": {
      "text/plain": [
       "['hello!hello']"
      ]
     },
     "execution_count": 140,
     "metadata": {},
     "output_type": "execute_result"
    }
   ],
   "source": [
    "file1.readlines()"
   ]
  },
  {
   "cell_type": "markdown",
   "id": "9fa3eee1-64ea-4463-857d-01e7e4ad53c0",
   "metadata": {},
   "source": [
    "# Exercices-1: Write a program that reads the contents of a file and displays it on the screen."
   ]
  },
  {
   "cell_type": "code",
   "execution_count": 146,
   "id": "cbc5c570-546f-46f9-a44b-ea8e0b412fd8",
   "metadata": {},
   "outputs": [
    {
     "data": {
      "text/plain": [
       "['hello!hello']"
      ]
     },
     "execution_count": 146,
     "metadata": {},
     "output_type": "execute_result"
    }
   ],
   "source": [
    "def read_file(file_name):\n",
    "    if file_name in os.listdir():\n",
    "        file = open(file_name,'r')\n",
    "        content = file.readlines()\n",
    "        file.close\n",
    "        return content\n",
    "        \n",
    "    \n",
    "read_file(\"file1\")\n",
    "    \n",
    "    "
   ]
  },
  {
   "cell_type": "markdown",
   "id": "1788c48d-d237-4681-ba76-70d10d92e5bb",
   "metadata": {},
   "source": [
    "# Exercices-2: Write a program that writes a list of names to a file, then reads and displays the contents of that file."
   ]
  },
  {
   "cell_type": "code",
   "execution_count": 178,
   "id": "93bd44eb-6a19-41b0-87a3-3b80fc13b614",
   "metadata": {},
   "outputs": [
    {
     "data": {
      "text/plain": [
       "['54\\n']"
      ]
     },
     "execution_count": 178,
     "metadata": {},
     "output_type": "execute_result"
    }
   ],
   "source": [
    "def write_file(file_name):\n",
    "    if file_name in os.listdir():\n",
    "        file = open(file_name,'a')\n",
    "        #content= file.writelines(\"\\n\")\n",
    "        content = file.writelines(input(\"enter the text:\")+\"\\n\")\n",
    "        file.close()\n",
    "        file=open(file_name,'r')\n",
    "        content = file.readlines()\n",
    "        file.close()\n",
    "        return content\n",
    "write_file(\"file1.txt\")\n",
    "\n"
   ]
  },
  {
   "cell_type": "markdown",
   "id": "63f1c419-cb13-402a-8cfc-d4b4373d05dd",
   "metadata": {},
   "source": [
    "# Error Handeling:"
   ]
  },
  {
   "cell_type": "code",
   "execution_count": 189,
   "id": "562cf16f-d274-4373-8314-4c52ec7bc235",
   "metadata": {},
   "outputs": [
    {
     "name": "stdout",
     "output_type": "stream",
     "text": [
      "relativity already exists!. That was a close one.\n"
     ]
    }
   ],
   "source": [
    "try:\n",
    "    fout = open('relativity', 'xt')\n",
    "    fout.write('stomp stomp stomp')\n",
    "except FileExistsError:\n",
    "    print('relativity already exists!. That was a close one.')\n",
    "except :\n",
    "    print(\"unexpected\")\n"
   ]
  },
  {
   "cell_type": "code",
   "execution_count": null,
   "id": "b6dc518f",
   "metadata": {},
   "outputs": [],
   "source": []
  },
  {
   "cell_type": "code",
   "execution_count": null,
   "id": "860a2617",
   "metadata": {},
   "outputs": [],
   "source": []
  }
 ],
 "metadata": {
  "kernelspec": {
   "display_name": "Python 3",
   "language": "python",
   "name": "python3"
  },
  "language_info": {
   "codemirror_mode": {
    "name": "ipython",
    "version": 3
   },
   "file_extension": ".py",
   "mimetype": "text/x-python",
   "name": "python",
   "nbconvert_exporter": "python",
   "pygments_lexer": "ipython3",
   "version": "3.12.4"
  }
 },
 "nbformat": 4,
 "nbformat_minor": 5
}
