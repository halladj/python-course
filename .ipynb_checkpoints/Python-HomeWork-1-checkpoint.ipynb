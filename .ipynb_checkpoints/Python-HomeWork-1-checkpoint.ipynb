{
 "cells": [
  {
   "cell_type": "markdown",
   "id": "f36b719a-c495-46d7-ab04-5ac51e5952e0",
   "metadata": {},
   "source": [
    "# Exercice-1: \n",
    "### **Fix the Syntaxtic Errors in the following declarations**:"
   ]
  },
  {
   "cell_type": "markdown",
   "id": "a38e3a93-86ee-40b0-a841-8393d91be116",
   "metadata": {},
   "source": [
    "**1.**"
   ]
  },
  {
   "cell_type": "code",
   "execution_count": 4,
   "id": "4e4668b7-10e3-4300-a0eb-534ec30d8a58",
   "metadata": {},
   "outputs": [],
   "source": [
    "new_variable = 10"
   ]
  },
  {
   "cell_type": "markdown",
   "id": "f3e18973-31b9-4d2d-bc16-7d18babfc92d",
   "metadata": {},
   "source": [
    "**2.**"
   ]
  },
  {
   "cell_type": "code",
   "execution_count": 6,
   "id": "ea8524d6-4b7c-4c4a-a959-42cda1ae554e",
   "metadata": {},
   "outputs": [],
   "source": [
    "number10 = 2030"
   ]
  },
  {
   "cell_type": "markdown",
   "id": "fddacc56-2619-48de-8270-4e5fd95caf26",
   "metadata": {},
   "source": [
    "**3.**"
   ]
  },
  {
   "cell_type": "code",
   "execution_count": 7,
   "id": "6980c606-e15c-4f86-8006-5b791fcdcd5d",
   "metadata": {},
   "outputs": [
    {
     "name": "stdout",
     "output_type": "stream",
     "text": [
      "2323\n"
     ]
    }
   ],
   "source": [
    "random = 2323\n",
    "print(random)"
   ]
  },
  {
   "cell_type": "markdown",
   "id": "49a3f441-30dd-494b-a1e5-291c63a49c37",
   "metadata": {},
   "source": [
    "**4.**"
   ]
  },
  {
   "cell_type": "code",
   "execution_count": 8,
   "id": "ed615d71-8a28-4816-b36e-da7e3caa4399",
   "metadata": {},
   "outputs": [],
   "source": [
    "for_ = 1059"
   ]
  },
  {
   "cell_type": "markdown",
   "id": "62a4d437-5f19-4625-9065-da169b95554d",
   "metadata": {},
   "source": [
    "# Exercice-2: \n",
    "### Write a program that takes two numbers from the user and prints their:\n",
    "1. **sum**, \n",
    "2. **difference**, \n",
    "3. **product**, \n",
    "4. and **quotient**:"
   ]
  },
  {
   "cell_type": "code",
   "execution_count": 11,
   "id": "19fba9c2-c640-42dc-a42a-5139811d3b83",
   "metadata": {},
   "outputs": [
    {
     "name": "stdin",
     "output_type": "stream",
     "text": [
      " 10\n",
      " 10\n"
     ]
    }
   ],
   "source": [
    "number1 = input()\n",
    "number2 = input()\n",
    "\n",
    "number1 = int(number1)\n",
    "number2 = int(number2)"
   ]
  },
  {
   "cell_type": "code",
   "execution_count": 12,
   "id": "8c6950ed-7959-46a7-8a62-18059bfa74bc",
   "metadata": {},
   "outputs": [
    {
     "name": "stdout",
     "output_type": "stream",
     "text": [
      "20\n"
     ]
    }
   ],
   "source": [
    "print(number1 + number2)"
   ]
  },
  {
   "cell_type": "code",
   "execution_count": 13,
   "id": "5aea20f1-1246-4402-8b48-980f10cc8f85",
   "metadata": {},
   "outputs": [
    {
     "name": "stdout",
     "output_type": "stream",
     "text": [
      "0\n"
     ]
    }
   ],
   "source": [
    "print(number1 - number2)"
   ]
  },
  {
   "cell_type": "code",
   "execution_count": 14,
   "id": "81ec3be2-ce42-4e0c-bea8-0cb54b268a69",
   "metadata": {},
   "outputs": [
    {
     "name": "stdout",
     "output_type": "stream",
     "text": [
      "100\n"
     ]
    }
   ],
   "source": [
    "print(number1 * number2)"
   ]
  },
  {
   "cell_type": "code",
   "execution_count": 15,
   "id": "7463b388-5725-40f4-98e4-4f83db1fd0cb",
   "metadata": {},
   "outputs": [
    {
     "name": "stdout",
     "output_type": "stream",
     "text": [
      "1.0\n"
     ]
    }
   ],
   "source": [
    "print(number1 / number2)"
   ]
  },
  {
   "cell_type": "code",
   "execution_count": 16,
   "id": "51bbd029-f763-4968-a619-c0cdf059c373",
   "metadata": {},
   "outputs": [
    {
     "name": "stdout",
     "output_type": "stream",
     "text": [
      "1\n"
     ]
    }
   ],
   "source": [
    "print(number1 // number2)"
   ]
  },
  {
   "cell_type": "code",
   "execution_count": 17,
   "id": "00448f13-1556-45b8-bb70-b81d0b0373d7",
   "metadata": {},
   "outputs": [
    {
     "name": "stdout",
     "output_type": "stream",
     "text": [
      "0\n"
     ]
    }
   ],
   "source": [
    "print(number1 % number2)"
   ]
  },
  {
   "cell_type": "code",
   "execution_count": 18,
   "id": "788e0b84-3472-4f50-8a50-24dcb13d2885",
   "metadata": {},
   "outputs": [
    {
     "name": "stdout",
     "output_type": "stream",
     "text": [
      "10000000000\n"
     ]
    }
   ],
   "source": [
    "print(number1 ** number2)"
   ]
  },
  {
   "cell_type": "markdown",
   "id": "fa5cbf7a-055d-4598-a8ad-0e8e3d9d2bc4",
   "metadata": {},
   "source": [
    "# Exercice-3: \n",
    "###  Ask the user for two numbers and display the result of the first number raised to the power of the second:"
   ]
  },
  {
   "cell_type": "code",
   "execution_count": 23,
   "id": "e43dfa2d-8d92-48ab-965b-05312e7cbbcc",
   "metadata": {},
   "outputs": [
    {
     "name": "stdin",
     "output_type": "stream",
     "text": [
      "please enter the first number 2\n",
      "please enter the second number 2\n"
     ]
    }
   ],
   "source": [
    "number1 = input(\"please enter the first number\")\n",
    "number1 = int(number1)\n",
    "\n",
    "number2 = input(\"please enter the second number\")\n",
    "number2 = int(number2)"
   ]
  },
  {
   "cell_type": "code",
   "execution_count": 22,
   "id": "e90f05ff-712e-4c03-8f5f-3ca8ef348553",
   "metadata": {},
   "outputs": [
    {
     "name": "stdout",
     "output_type": "stream",
     "text": [
      "100\n"
     ]
    }
   ],
   "source": [
    "print(number1 ** number2)"
   ]
  },
  {
   "cell_type": "code",
   "execution_count": null,
   "id": "928aa63b-7384-4ad6-9a8d-c37bad129a98",
   "metadata": {},
   "outputs": [],
   "source": []
  },
  {
   "cell_type": "markdown",
   "id": "904f0e3f-e4ca-4ccf-a9a9-4d40cb58e134",
   "metadata": {},
   "source": [
    "# Exercice-4: \n",
    "###   Write a program that asks the user for a number and determines if it’s even or odd:"
   ]
  },
  {
   "cell_type": "code",
   "execution_count": 47,
   "id": "0c8b5561-da4e-45af-b336-74d18f10fb54",
   "metadata": {},
   "outputs": [
    {
     "name": "stdin",
     "output_type": "stream",
     "text": [
      "Please enter a number 4\n"
     ]
    }
   ],
   "source": [
    "my_number = input(\"Please enter a number\")\n",
    "my_number = int(my_number)"
   ]
  },
  {
   "cell_type": "code",
   "execution_count": 48,
   "id": "205c5991-844a-4284-8842-6bf2f043fa2e",
   "metadata": {},
   "outputs": [
    {
     "name": "stdout",
     "output_type": "stream",
     "text": [
      "is this number even:  True\n"
     ]
    }
   ],
   "source": [
    "print(\"is this number even: \", my_number % 2 == 0)"
   ]
  },
  {
   "cell_type": "markdown",
   "id": "7d7437fa-248c-4460-b91b-d3e6aaacb762",
   "metadata": {},
   "source": [
    "# Exercice-5: \n",
    "###  Write a program to convert a temperature from Celsius to Fahrenheit using the formula: $$ F = C \\times \\frac{9}{5} + 32 $$"
   ]
  },
  {
   "cell_type": "code",
   "execution_count": 49,
   "id": "37daf517-f9ff-48ec-a844-1fd8c9e1953e",
   "metadata": {},
   "outputs": [
    {
     "name": "stdin",
     "output_type": "stream",
     "text": [
      "give me the celsius value: 10\n"
     ]
    }
   ],
   "source": [
    "c = input(\"give me the celsius value:\")\n",
    "c = int(c)"
   ]
  },
  {
   "cell_type": "code",
   "execution_count": 50,
   "id": "7d6464cc-dcba-444a-a60e-011ab6e97276",
   "metadata": {},
   "outputs": [
    {
     "name": "stdout",
     "output_type": "stream",
     "text": [
      "50.0\n"
     ]
    }
   ],
   "source": [
    "f = c * 9/5 + 32\n",
    "print(f)"
   ]
  },
  {
   "cell_type": "code",
   "execution_count": 51,
   "id": "5808f983-f0c6-4a10-bd50-a51b9a452206",
   "metadata": {},
   "outputs": [
    {
     "name": "stdout",
     "output_type": "stream",
     "text": [
      "50.0\n"
     ]
    }
   ],
   "source": [
    "print(c * 9/5 + 32)"
   ]
  },
  {
   "cell_type": "markdown",
   "id": "236a2454-face-407e-a5e2-af20fd90048d",
   "metadata": {},
   "source": [
    "# Exercice-5: \n",
    "###  Write a program that takes the user's age in years and calculates their age in months:\n"
   ]
  },
  {
   "cell_type": "code",
   "execution_count": 52,
   "id": "94e0e314-5de9-4b60-8474-daed3be462ec",
   "metadata": {},
   "outputs": [
    {
     "name": "stdin",
     "output_type": "stream",
     "text": [
      "enter your age in years:  24\n"
     ]
    }
   ],
   "source": [
    "my_age_in_years = input(\"enter your age in years: \")\n",
    "my_age_in_years = int(my_age_in_years)"
   ]
  },
  {
   "cell_type": "code",
   "execution_count": 53,
   "id": "0d194a37-23bb-47fd-86ba-9fa369a36090",
   "metadata": {},
   "outputs": [],
   "source": [
    "my_age_in_months = my_age_in_years * 12"
   ]
  },
  {
   "cell_type": "code",
   "execution_count": 54,
   "id": "c6bdfdf0-2981-4570-a209-14814f11835f",
   "metadata": {},
   "outputs": [
    {
     "name": "stdout",
     "output_type": "stream",
     "text": [
      "your age in months =  288\n"
     ]
    }
   ],
   "source": [
    "print(\"your age in months = \",my_age_in_months)"
   ]
  },
  {
   "cell_type": "code",
   "execution_count": 24,
   "id": "43cd857a-182f-40ca-9fd8-71813d0f6edb",
   "metadata": {},
   "outputs": [
    {
     "name": "stdout",
     "output_type": "stream",
     "text": [
      "True\n"
     ]
    }
   ],
   "source": [
    "print(True and True)"
   ]
  },
  {
   "cell_type": "code",
   "execution_count": 25,
   "id": "ea4ee82f-a7fe-437b-98d4-310ad3b185de",
   "metadata": {},
   "outputs": [
    {
     "name": "stdout",
     "output_type": "stream",
     "text": [
      "False\n"
     ]
    }
   ],
   "source": [
    "print(True and False)"
   ]
  },
  {
   "cell_type": "code",
   "execution_count": 26,
   "id": "a480aa8f-707d-4e37-b087-208b1f3f0196",
   "metadata": {},
   "outputs": [
    {
     "name": "stdout",
     "output_type": "stream",
     "text": [
      "False\n"
     ]
    }
   ],
   "source": [
    "print(False and True)"
   ]
  },
  {
   "cell_type": "code",
   "execution_count": 27,
   "id": "c8a867f2-beae-4623-b69b-7f3c2ae9fbb9",
   "metadata": {},
   "outputs": [
    {
     "name": "stdout",
     "output_type": "stream",
     "text": [
      "False\n"
     ]
    }
   ],
   "source": [
    "print(False and False)"
   ]
  },
  {
   "cell_type": "code",
   "execution_count": 28,
   "id": "c2587c95-483f-4ef3-abc2-3339d15ea887",
   "metadata": {},
   "outputs": [
    {
     "name": "stdout",
     "output_type": "stream",
     "text": [
      "True\n"
     ]
    }
   ],
   "source": [
    "print(True or True)"
   ]
  },
  {
   "cell_type": "code",
   "execution_count": 29,
   "id": "95b51ad1-01b0-41b2-9a4b-9f48909b3e32",
   "metadata": {},
   "outputs": [
    {
     "name": "stdout",
     "output_type": "stream",
     "text": [
      "True\n"
     ]
    }
   ],
   "source": [
    "print( False or True)"
   ]
  },
  {
   "cell_type": "code",
   "execution_count": 30,
   "id": "48e82bc0-aa8a-4218-8ad5-8d7318319204",
   "metadata": {},
   "outputs": [
    {
     "name": "stdout",
     "output_type": "stream",
     "text": [
      "True\n"
     ]
    }
   ],
   "source": [
    "print(True or False)"
   ]
  },
  {
   "cell_type": "code",
   "execution_count": 31,
   "id": "5b28a30e-25c0-4587-828a-9056e41b0e58",
   "metadata": {},
   "outputs": [
    {
     "name": "stdout",
     "output_type": "stream",
     "text": [
      "False\n"
     ]
    }
   ],
   "source": [
    "print(False or False)"
   ]
  },
  {
   "cell_type": "code",
   "execution_count": 32,
   "id": "8fe9486b-32d5-461b-bb9f-f8941edaffcd",
   "metadata": {},
   "outputs": [
    {
     "name": "stdout",
     "output_type": "stream",
     "text": [
      "True\n"
     ]
    }
   ],
   "source": [
    "print(not False)"
   ]
  },
  {
   "cell_type": "code",
   "execution_count": 33,
   "id": "35ad5059-425a-4681-ae5b-5d71c97149ef",
   "metadata": {},
   "outputs": [
    {
     "name": "stdout",
     "output_type": "stream",
     "text": [
      "False\n"
     ]
    }
   ],
   "source": [
    "print(not True)"
   ]
  },
  {
   "cell_type": "code",
   "execution_count": 34,
   "id": "6053edca-fbb2-4f2e-a7ab-3f0803a7c00e",
   "metadata": {},
   "outputs": [
    {
     "name": "stdout",
     "output_type": "stream",
     "text": [
      "True\n"
     ]
    }
   ],
   "source": [
    "print(10 > 5)"
   ]
  },
  {
   "cell_type": "code",
   "execution_count": 35,
   "id": "4fcf7741-e546-4fd7-a311-81022d6df456",
   "metadata": {},
   "outputs": [
    {
     "name": "stdout",
     "output_type": "stream",
     "text": [
      "True\n"
     ]
    }
   ],
   "source": [
    "print(10 >= 5)"
   ]
  },
  {
   "cell_type": "code",
   "execution_count": 36,
   "id": "d0bd0f67-49e9-4a63-bc91-cc851ecf5b7c",
   "metadata": {},
   "outputs": [
    {
     "name": "stdout",
     "output_type": "stream",
     "text": [
      "False\n"
     ]
    }
   ],
   "source": [
    "print(10 < 5)"
   ]
  },
  {
   "cell_type": "code",
   "execution_count": 37,
   "id": "a039769d-45c1-4042-8d87-f11f50acee9f",
   "metadata": {},
   "outputs": [
    {
     "name": "stdout",
     "output_type": "stream",
     "text": [
      "False\n"
     ]
    }
   ],
   "source": [
    "print(10 <= 5)"
   ]
  },
  {
   "cell_type": "code",
   "execution_count": 38,
   "id": "5e7177d4-657f-44b7-b0e9-5d3ee23f1a96",
   "metadata": {},
   "outputs": [
    {
     "name": "stdout",
     "output_type": "stream",
     "text": [
      "False\n"
     ]
    }
   ],
   "source": [
    "print(10 == 5)"
   ]
  },
  {
   "cell_type": "code",
   "execution_count": 40,
   "id": "4f986a6b-c68e-43f9-9ee2-e34a6620c541",
   "metadata": {},
   "outputs": [
    {
     "name": "stdout",
     "output_type": "stream",
     "text": [
      "True\n"
     ]
    }
   ],
   "source": [
    "print(10 != 5)"
   ]
  },
  {
   "cell_type": "code",
   "execution_count": null,
   "id": "4d1ec356-b19e-4e23-9c0b-fdd321596029",
   "metadata": {},
   "outputs": [],
   "source": [
    "print( True )"
   ]
  }
 ],
 "metadata": {
  "kernelspec": {
   "display_name": "Python 3 (ipykernel)",
   "language": "python",
   "name": "python3"
  },
  "language_info": {
   "codemirror_mode": {
    "name": "ipython",
    "version": 3
   },
   "file_extension": ".py",
   "mimetype": "text/x-python",
   "name": "python",
   "nbconvert_exporter": "python",
   "pygments_lexer": "ipython3",
   "version": "3.11.2"
  }
 },
 "nbformat": 4,
 "nbformat_minor": 5
}
