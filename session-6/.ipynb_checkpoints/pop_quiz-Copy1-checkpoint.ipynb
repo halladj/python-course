{
 "cells": [
  {
   "cell_type": "markdown",
   "id": "28eff71f-981a-40d4-a1ac-bebfdf5b877f",
   "metadata": {},
   "source": [
    "# 1. How to get a remote github repo to your machine."
   ]
  },
  {
   "cell_type": "code",
   "execution_count": null,
   "id": "bb676719-434b-4234-a694-6663854335bc",
   "metadata": {},
   "outputs": [],
   "source": [
    "git clone https://github.com/halladj/rodix"
   ]
  },
  {
   "cell_type": "markdown",
   "id": "310242ae-8e33-442e-8d9c-194d9a930ba4",
   "metadata": {},
   "source": [
    "# 2. How to add files to into staging area"
   ]
  },
  {
   "cell_type": "code",
   "execution_count": null,
   "id": "d6b5b1e9-08ad-4e7e-84c7-d3a8a935113b",
   "metadata": {},
   "outputs": [],
   "source": []
  },
  {
   "cell_type": "markdown",
   "id": "6ce3fdef-d7dc-4b3a-97d7-327bf623d8b8",
   "metadata": {},
   "source": [
    "# 3. How push code to remote repo"
   ]
  },
  {
   "cell_type": "code",
   "execution_count": null,
   "id": "b5a543dc-b422-402b-befb-07aacebd02ef",
   "metadata": {},
   "outputs": [],
   "source": []
  },
  {
   "cell_type": "markdown",
   "id": "07c97af9-72c8-4375-ac05-134d9b555a8e",
   "metadata": {},
   "source": [
    "# 4. How get the changes from repo repo"
   ]
  },
  {
   "cell_type": "code",
   "execution_count": null,
   "id": "46a3edca-3937-4cbc-88bb-07e532c1dc54",
   "metadata": {},
   "outputs": [],
   "source": []
  }
 ],
 "metadata": {
  "kernelspec": {
   "display_name": "Python 3 (ipykernel)",
   "language": "python",
   "name": "python3"
  },
  "language_info": {
   "codemirror_mode": {
    "name": "ipython",
    "version": 3
   },
   "file_extension": ".py",
   "mimetype": "text/x-python",
   "name": "python",
   "nbconvert_exporter": "python",
   "pygments_lexer": "ipython3",
   "version": "3.11.2"
  }
 },
 "nbformat": 4,
 "nbformat_minor": 5
}
