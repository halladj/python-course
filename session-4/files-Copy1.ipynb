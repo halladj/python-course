{
 "cells": [
  {
   "cell_type": "markdown",
   "id": "70772039-0ab1-4b9f-aad8-1e77753a0a17",
   "metadata": {},
   "source": [
    "# Path:"
   ]
  },
  {
   "cell_type": "code",
   "execution_count": 2,
   "id": "2780f0b3-a9c5-4b61-9226-63cb82b8bd8b",
   "metadata": {},
   "outputs": [],
   "source": [
    "from pathlib import Path"
   ]
  },
  {
   "cell_type": "code",
   "execution_count": 6,
   "id": "ad07ca7c-27c6-45fc-85c8-bc6bde8628e8",
   "metadata": {},
   "outputs": [],
   "source": [
    " p = Path(\"/home/python-course/session-4/\")"
   ]
  },
  {
   "cell_type": "code",
   "execution_count": 7,
   "id": "4ca081b4-b810-460f-9f71-59f82f2f8be7",
   "metadata": {},
   "outputs": [
    {
     "name": "stdout",
     "output_type": "stream",
     "text": [
      "/home/python-course/session-4\n"
     ]
    }
   ],
   "source": [
    "print(p)"
   ]
  },
  {
   "cell_type": "code",
   "execution_count": 23,
   "id": "6a4e9b3a-d305-4567-8015-f50ea85268dc",
   "metadata": {},
   "outputs": [
    {
     "name": "stdout",
     "output_type": "stream",
     "text": [
      "c:/Users/Al/Download/accounts.txt\n",
      "c:/Users/Al/Download/details.csv\n",
      "c:/Users/Al/Download/invite.docx\n"
     ]
    }
   ],
   "source": []
  },
  {
   "cell_type": "markdown",
   "id": "70c64699-1c30-4e55-bbae-3a3112468495",
   "metadata": {},
   "source": [
    "### concatenate **Path** instances."
   ]
  },
  {
   "cell_type": "code",
   "execution_count": 12,
   "id": "28078566-013e-468e-b467-b9015af9a713",
   "metadata": {},
   "outputs": [
    {
     "data": {
      "text/plain": [
       "PosixPath('/home/python-course/session-4/secret/files.ipynb')"
      ]
     },
     "execution_count": 12,
     "metadata": {},
     "output_type": "execute_result"
    }
   ],
   "source": [
    "p / \"secret\" / \"files.ipynb\""
   ]
  },
  {
   "cell_type": "code",
   "execution_count": 10,
   "id": "f0f93ad0-a201-428c-9df0-d16fad703cac",
   "metadata": {},
   "outputs": [
    {
     "data": {
      "text/plain": [
       "PosixPath('/home/python-course/session-4/disctionary-functions.ipynb')"
      ]
     },
     "execution_count": 10,
     "metadata": {},
     "output_type": "execute_result"
    }
   ],
   "source": [
    "p / \"disctionary-functions.ipynb\""
   ]
  },
  {
   "cell_type": "code",
   "execution_count": 13,
   "id": "3eba33d5-5b5e-4160-9cfc-26623bf174ab",
   "metadata": {},
   "outputs": [
    {
     "data": {
      "text/plain": [
       "PosixPath('/home/python-course/session-4/secret/files.ipynb')"
      ]
     },
     "execution_count": 13,
     "metadata": {},
     "output_type": "execute_result"
    }
   ],
   "source": [
    "Path.joinpath(p, \"secret\",\"files.ipynb\")"
   ]
  },
  {
   "cell_type": "code",
   "execution_count": 15,
   "id": "782d81ca-81bf-4f20-a983-940a8491c12b",
   "metadata": {},
   "outputs": [
    {
     "name": "stdout",
     "output_type": "stream",
     "text": [
      "/home/python-course/session-4/first.txt\n",
      "/home/python-course/session-4/second.txt\n",
      "/home/python-course/session-4/third.txt\n"
     ]
    }
   ],
   "source": [
    "\n",
    "files_list = ['first.txt', 'second.txt', 'third.txt']\n",
    "for file_name in files_list:\n",
    "    print( p / file_name )"
   ]
  },
  {
   "cell_type": "code",
   "execution_count": 39,
   "id": "c6073596-1b30-4ef6-941b-42815b29bd8c",
   "metadata": {},
   "outputs": [
    {
     "data": {
      "text/plain": [
       "'C:\\\\Users\\\\Al\\\\spam'"
      ]
     },
     "execution_count": 39,
     "metadata": {},
     "output_type": "execute_result"
    }
   ],
   "source": []
  },
  {
   "cell_type": "code",
   "execution_count": 22,
   "id": "5b7eee0b-596d-4662-af4f-4689e87d4bfb",
   "metadata": {},
   "outputs": [
    {
     "name": "stdout",
     "output_type": "stream",
     "text": [
      "/home/session-4/files.ipynb\n"
     ]
    }
   ],
   "source": [
    "import sys\n",
    "homeFolder = \"/home\"\n",
    "subFolder  = \"session-4\"\n",
    "fileName   = \"files.ipynb\"\n",
    "\n",
    "if sys.platform == \"windows\":\n",
    "    print('\\\\'.join([homeFolder, subFolder, fileName]))\n",
    "elif sys.platform == \"linux\" or sys.platform == \"macos\":\n",
    "    print('/'.join([homeFolder, subFolder, fileName]))"
   ]
  },
  {
   "cell_type": "markdown",
   "id": "ebfc7c62-97f9-4bbc-843e-924d33698025",
   "metadata": {},
   "source": [
    "### instead of using this pattern, use Path() and /, as it finds ur os and picks the right one / or \\"
   ]
  },
  {
   "cell_type": "code",
   "execution_count": 23,
   "id": "cac4e830-d994-4f82-b51a-e3ddcf24ace1",
   "metadata": {},
   "outputs": [
    {
     "data": {
      "text/plain": [
       "PosixPath('/home/session-4/files.ipynb')"
      ]
     },
     "execution_count": 23,
     "metadata": {},
     "output_type": "execute_result"
    }
   ],
   "source": [
    "Path(\"/home\") / \"session-4\" / \"files.ipynb\""
   ]
  },
  {
   "cell_type": "markdown",
   "id": "a2635822-0fda-4a07-86df-e9cc4514f83c",
   "metadata": {},
   "source": [
    "## Current Working Dir:"
   ]
  },
  {
   "cell_type": "code",
   "execution_count": 4,
   "id": "72f3ccb5-2e1d-4ac8-b7d7-b3ca8ee0ff52",
   "metadata": {},
   "outputs": [
    {
     "data": {
      "text/plain": [
       "PosixPath('/home/hambz/remote-python-course/session-4')"
      ]
     },
     "execution_count": 4,
     "metadata": {},
     "output_type": "execute_result"
    }
   ],
   "source": [
    "Path.cwd()"
   ]
  },
  {
   "cell_type": "code",
   "execution_count": 25,
   "id": "2a57854d-88b4-4b06-a1ee-23d2e3e46357",
   "metadata": {},
   "outputs": [
    {
     "data": {
      "text/plain": [
       "PosixPath('/home/hambz/remote-python-course/session-4/files-Copy1.ipynb')"
      ]
     },
     "execution_count": 25,
     "metadata": {},
     "output_type": "execute_result"
    }
   ],
   "source": [
    "Path.cwd() / \"files-Copy1.ipynb\""
   ]
  },
  {
   "cell_type": "markdown",
   "id": "515a8f73-6caf-4c0c-b487-3db15b146e91",
   "metadata": {},
   "source": [
    "## Home Directory:"
   ]
  },
  {
   "cell_type": "code",
   "execution_count": 26,
   "id": "7442c7e5-65ab-44ab-bc11-567cced3ce82",
   "metadata": {},
   "outputs": [
    {
     "data": {
      "text/plain": [
       "PosixPath('/home/hambz')"
      ]
     },
     "execution_count": 26,
     "metadata": {},
     "output_type": "execute_result"
    }
   ],
   "source": [
    "Path.home()"
   ]
  },
  {
   "cell_type": "markdown",
   "id": "f9decdf5-1a78-4715-a6b1-abd20e4999c5",
   "metadata": {},
   "source": [
    "## Creating New Folders using os.makedirs()"
   ]
  },
  {
   "cell_type": "code",
   "execution_count": 27,
   "id": "f53a12db-7a99-44ed-b257-aca557e0099c",
   "metadata": {},
   "outputs": [
    {
     "data": {
      "text/plain": [
       "['dictionary_functions.ipynb',\n",
       " 'files-Copy1.ipynb',\n",
       " 'dictionary_functions-Copy1.ipynb',\n",
       " 'files.ipynb',\n",
       " '.ipynb_checkpoints']"
      ]
     },
     "execution_count": 27,
     "metadata": {},
     "output_type": "execute_result"
    }
   ],
   "source": [
    "import os\n",
    "\n",
    "os.listdir()"
   ]
  },
  {
   "cell_type": "code",
   "execution_count": 30,
   "id": "0e2c4e25-f7b0-45e6-afd3-4f9a8a4936a3",
   "metadata": {},
   "outputs": [],
   "source": [
    "\n",
    "z = Path.cwd() / \"test2\""
   ]
  },
  {
   "cell_type": "code",
   "execution_count": 31,
   "id": "d1d6d0f6-74e8-4c46-8c05-8f83cac24a69",
   "metadata": {},
   "outputs": [
    {
     "name": "stdout",
     "output_type": "stream",
     "text": [
      "/home/hambz/remote-python-course/session-4/test2\n"
     ]
    }
   ],
   "source": [
    "print(z)"
   ]
  },
  {
   "cell_type": "code",
   "execution_count": 32,
   "id": "77ca8141-0b9a-44ea-bc68-c15b28a8fdd1",
   "metadata": {},
   "outputs": [],
   "source": [
    "z.mkdir()"
   ]
  },
  {
   "cell_type": "code",
   "execution_count": 33,
   "id": "1f4c9717-bdb0-4028-8884-3cc47d592848",
   "metadata": {},
   "outputs": [
    {
     "data": {
      "text/plain": [
       "['dictionary_functions.ipynb',\n",
       " 'files-Copy1.ipynb',\n",
       " 'test2',\n",
       " 'dictionary_functions-Copy1.ipynb',\n",
       " 'files.ipynb',\n",
       " '.ipynb_checkpoints']"
      ]
     },
     "execution_count": 33,
     "metadata": {},
     "output_type": "execute_result"
    }
   ],
   "source": [
    "os.listdir()"
   ]
  },
  {
   "cell_type": "markdown",
   "id": "b9ec537d-ba64-4b4f-9dfb-895db305c07a",
   "metadata": {},
   "source": [
    "### To make a directory from a Path object, call the mkdir() method"
   ]
  },
  {
   "cell_type": "code",
   "execution_count": 54,
   "id": "5026813d-0a30-489b-a68b-4e9efce64c1f",
   "metadata": {},
   "outputs": [],
   "source": [
    "Path.mkdir()"
   ]
  },
  {
   "cell_type": "markdown",
   "id": "16f63bdd-2f81-4cfe-ac42-d69006f33597",
   "metadata": {},
   "source": [
    "## Handling Absolute and Relative Paths:"
   ]
  },
  {
   "cell_type": "code",
   "execution_count": 39,
   "id": "6a0308b0-a34f-4b10-a8e9-076bf8466a0b",
   "metadata": {},
   "outputs": [],
   "source": [
    "p = p /'files.ipynb'"
   ]
  },
  {
   "cell_type": "code",
   "execution_count": 42,
   "id": "8c6ccebc-8398-4440-82fc-c73eb24897e1",
   "metadata": {},
   "outputs": [
    {
     "data": {
      "text/plain": [
       "False"
      ]
     },
     "execution_count": 42,
     "metadata": {},
     "output_type": "execute_result"
    }
   ],
   "source": [
    "p.is_relative_to('/Desktop')"
   ]
  },
  {
   "cell_type": "code",
   "execution_count": 56,
   "id": "2c1c7882-50e8-427d-b770-2fe9dcf7aa43",
   "metadata": {},
   "outputs": [
    {
     "data": {
      "text/plain": [
       "PosixPath('my/relative/path')"
      ]
     },
     "execution_count": 56,
     "metadata": {},
     "output_type": "execute_result"
    }
   ],
   "source": []
  },
  {
   "cell_type": "code",
   "execution_count": 57,
   "id": "b2b070b5-a41e-4d22-b380-ad03f42c98e7",
   "metadata": {},
   "outputs": [
    {
     "data": {
      "text/plain": [
       "PosixPath('/home/hambz/ai-workshop/week-group/python-group/session-4/my/relative/path')"
      ]
     },
     "execution_count": 57,
     "metadata": {},
     "output_type": "execute_result"
    }
   ],
   "source": []
  },
  {
   "cell_type": "markdown",
   "id": "6286a5dd-dc68-4328-b7db-e21af45f39bf",
   "metadata": {},
   "source": [
    "**Calling os.path.abspath(path) will return a string of the absolute path\n",
    "of the argument.**"
   ]
  },
  {
   "cell_type": "code",
   "execution_count": 43,
   "id": "25469bc7-9ab6-4fff-b6f6-05ad144c2004",
   "metadata": {},
   "outputs": [
    {
     "data": {
      "text/plain": [
       "PosixPath('/home/hambz/remote-python-course/session-4')"
      ]
     },
     "execution_count": 43,
     "metadata": {},
     "output_type": "execute_result"
    }
   ],
   "source": [
    "Path.cwd()"
   ]
  },
  {
   "cell_type": "code",
   "execution_count": 44,
   "id": "59f8398a-9ca2-4f82-9b65-e8461ec6a9c4",
   "metadata": {},
   "outputs": [
    {
     "data": {
      "text/plain": [
       "['dictionary_functions.ipynb',\n",
       " 'files-Copy1.ipynb',\n",
       " 'test2',\n",
       " 'dictionary_functions-Copy1.ipynb',\n",
       " 'files.ipynb',\n",
       " '.ipynb_checkpoints']"
      ]
     },
     "execution_count": 44,
     "metadata": {},
     "output_type": "execute_result"
    }
   ],
   "source": [
    "os.listdir()"
   ]
  },
  {
   "cell_type": "code",
   "execution_count": 45,
   "id": "40b7e401-b80c-427f-b116-2f4ae3cf9db7",
   "metadata": {},
   "outputs": [
    {
     "data": {
      "text/plain": [
       "'/home/hambz/remote-python-course/session-4/files.ipynb'"
      ]
     },
     "execution_count": 45,
     "metadata": {},
     "output_type": "execute_result"
    }
   ],
   "source": [
    "os.path.abspath('files.ipynb')"
   ]
  },
  {
   "cell_type": "code",
   "execution_count": 46,
   "id": "adbdb399-57b7-4c7c-9453-55c58d311673",
   "metadata": {},
   "outputs": [
    {
     "data": {
      "text/plain": [
       "'files.ipynb'"
      ]
     },
     "execution_count": 46,
     "metadata": {},
     "output_type": "execute_result"
    }
   ],
   "source": [
    "os.path.relpath('files.ipynb')"
   ]
  },
  {
   "cell_type": "markdown",
   "id": "12b93401-f040-4ced-8a5e-781213358c10",
   "metadata": {},
   "source": [
    "### Changing Current Working Directory"
   ]
  },
  {
   "cell_type": "code",
   "execution_count": 47,
   "id": "f7964754-08d9-4980-aa43-361a2da0daec",
   "metadata": {},
   "outputs": [],
   "source": [
    "os.chdir(\"../..\")"
   ]
  },
  {
   "cell_type": "code",
   "execution_count": 48,
   "id": "f21e660e-8b08-469b-86d2-bab70bb315d3",
   "metadata": {},
   "outputs": [
    {
     "data": {
      "text/plain": [
       "PosixPath('/home/hambz')"
      ]
     },
     "execution_count": 48,
     "metadata": {},
     "output_type": "execute_result"
    }
   ],
   "source": [
    "Path.cwd()"
   ]
  },
  {
   "cell_type": "code",
   "execution_count": 49,
   "id": "895b80ed-3699-4cf5-bb42-dec4941c1d75",
   "metadata": {},
   "outputs": [],
   "source": [
    "os.chdir('./remote-python-course/session-4')"
   ]
  },
  {
   "cell_type": "code",
   "execution_count": 50,
   "id": "f2f6fcd5-f132-4c27-a82a-e0d229a0e420",
   "metadata": {},
   "outputs": [
    {
     "data": {
      "text/plain": [
       "PosixPath('/home/hambz/remote-python-course/session-4')"
      ]
     },
     "execution_count": 50,
     "metadata": {},
     "output_type": "execute_result"
    }
   ],
   "source": [
    "Path.cwd()"
   ]
  },
  {
   "cell_type": "markdown",
   "id": "c685ef4f-941f-4e43-8d67-975e2f56587c",
   "metadata": {},
   "source": [
    "## Finding File Sizes and Folder Contents:"
   ]
  },
  {
   "cell_type": "code",
   "execution_count": 52,
   "id": "2957078e-1d1c-43c9-8cb9-9f9bbd285e8e",
   "metadata": {},
   "outputs": [
    {
     "data": {
      "text/plain": [
       "21140"
      ]
     },
     "execution_count": 52,
     "metadata": {},
     "output_type": "execute_result"
    }
   ],
   "source": [
    "os.path.getsize(Path.cwd()/ 'files.ipynb')"
   ]
  },
  {
   "cell_type": "code",
   "execution_count": 56,
   "id": "44e97b23-a9ab-4fa9-ae0e-a4b6736dda05",
   "metadata": {},
   "outputs": [
    {
     "name": "stdout",
     "output_type": "stream",
     "text": [
      "test2\n",
      ".ipynb_checkpoints\n"
     ]
    }
   ],
   "source": [
    "for file_name in os.listdir():\n",
    "    if os.path.getsize(file_name) == 4096:\n",
    "        print(file_name)"
   ]
  },
  {
   "cell_type": "code",
   "execution_count": 75,
   "id": "94c4202e-7429-4c35-8989-9b91382e6f46",
   "metadata": {},
   "outputs": [],
   "source": [
    "os.chdir('/home/hambz/remote-python-course/session-4')"
   ]
  },
  {
   "cell_type": "code",
   "execution_count": 22,
   "id": "abd5d0c0-ad27-4cb3-b949-fd10fe7b88cb",
   "metadata": {},
   "outputs": [],
   "source": [
    "def list_files(path):\n",
    "    for file_name in os.listdir(path):\n",
    "        if os.path.getsize(path / file_name) != 4096:\n",
    "            print(file_name)"
   ]
  },
  {
   "cell_type": "code",
   "execution_count": 78,
   "id": "353cec2b-d87b-464f-a076-09612b27062e",
   "metadata": {},
   "outputs": [
    {
     "name": "stdout",
     "output_type": "stream",
     "text": [
      "Al Sweigart - Automate The Boring Stuff With Python_ Practical Programming For Total Beginners (2019, No Starch Press) - libgen.li.pdf\n",
      "Bill Lubanovic - Introducing Python_ Modern Computing in Simple Packages (2019, O’Reilly Media) - libgen.li.epub\n",
      "oop.png\n",
      "func_practice-Copy1.ipynb\n",
      "blueprint.jpeg\n",
      "oo.png\n",
      "Scallingdata-Encoding-Copy1.ipynb\n",
      "linear_regression.html\n",
      "inheritance.png\n",
      "inheritance-2.jpeg\n",
      "corr.png\n",
      "Vikings.S01E01.Rites.Of.Passage.1080p.BluRay.x264.DD5.1-Pahe.in.mkv\n",
      "FIAG785542681.pdf\n",
      "Vikings.S01E01.Rites.Of.Passage.1080p.BluRay.x264.DD5.1-Pahe.in.zip\n",
      "LPI-Learning-Material-101-500-en.pdf\n",
      "project.ipynb-20241029T145622Z-001.zip\n",
      "Bill Lubanovic - Introducing Python_ Modern Computing in Simple Packages (2019, O'Reilly Media) - libgen.li.pdf\n",
      "Scallingdata-Encoding-Copy1(1).ipynb\n",
      "alae_cv.pdf\n",
      "Python-HomeWork-1(1).ipynb\n",
      "tailwind-css-dark.pdf\n",
      "python.pptx.pdf\n",
      "project.ipynb\n",
      "tailwind-css.pdf\n",
      "same.png\n",
      "HomeWork.ipynb\n"
     ]
    }
   ],
   "source": [
    "p = Path('/home/hambz/Downloads')\n",
    "list_files(p)"
   ]
  },
  {
   "cell_type": "code",
   "execution_count": 8,
   "id": "a20ecbeb-aa6c-40b1-8b03-203e454dd440",
   "metadata": {},
   "outputs": [],
   "source": [
    "def list_dirs():\n",
    "    for file_name in os.listdir():\n",
    "        if os.path.getsize(file_name) == 4096:\n",
    "            print(file_name)"
   ]
  },
  {
   "cell_type": "code",
   "execution_count": 62,
   "id": "1d9e5f22-8036-46e2-bdde-0426e4f23548",
   "metadata": {},
   "outputs": [
    {
     "name": "stdout",
     "output_type": "stream",
     "text": [
      "test2\n",
      ".ipynb_checkpoints\n"
     ]
    }
   ],
   "source": [
    "list_dirs()"
   ]
  },
  {
   "cell_type": "code",
   "execution_count": null,
   "id": "d9b1bd99-58fe-4692-89f7-faebc09b997d",
   "metadata": {},
   "outputs": [],
   "source": []
  },
  {
   "cell_type": "markdown",
   "id": "253bb972-062c-47b4-9ef3-94b943703c10",
   "metadata": {},
   "source": [
    "## The File Reading/Writing Process:"
   ]
  },
  {
   "cell_type": "markdown",
   "id": "ad3daa85-9028-44b4-b61e-6d1296005acf",
   "metadata": {},
   "source": [
    "### Opening Files with the open() Function:"
   ]
  },
  {
   "cell_type": "code",
   "execution_count": 5,
   "id": "ac666e36-08bf-4e74-a2c7-d3c510ac1e7e",
   "metadata": {},
   "outputs": [],
   "source": [
    "from pathlib import Path\n",
    "import os"
   ]
  },
  {
   "cell_type": "code",
   "execution_count": 6,
   "id": "cd725ac4-189c-40f2-adfa-7a8e84b67c04",
   "metadata": {},
   "outputs": [
    {
     "data": {
      "text/plain": [
       "PosixPath('/home/hambz/remote-python-course/session-4')"
      ]
     },
     "execution_count": 6,
     "metadata": {},
     "output_type": "execute_result"
    }
   ],
   "source": [
    "Path.cwd()"
   ]
  },
  {
   "cell_type": "code",
   "execution_count": 7,
   "id": "6f1e8ec9-a611-4422-a8f6-a079193881bf",
   "metadata": {},
   "outputs": [],
   "source": [
    "os.mkdir(\"session-6\")"
   ]
  },
  {
   "cell_type": "code",
   "execution_count": 9,
   "id": "3f757758-a560-481d-ab7b-9029d009a73f",
   "metadata": {},
   "outputs": [
    {
     "name": "stdout",
     "output_type": "stream",
     "text": [
      "session-6\n",
      "test2\n",
      ".ipynb_checkpoints\n"
     ]
    }
   ],
   "source": [
    "list_dirs()"
   ]
  },
  {
   "cell_type": "code",
   "execution_count": 10,
   "id": "d0d871b6-ff35-4186-93ee-0d42239318f3",
   "metadata": {},
   "outputs": [
    {
     "name": "stdout",
     "output_type": "stream",
     "text": [
      "dictionary_functions.ipynb 8249\n",
      "files-Copy1.ipynb 25158\n",
      "session-6 4096\n",
      "test2 4096\n",
      "dictionary_functions-Copy1.ipynb 11797\n",
      "files.ipynb 21140\n",
      ".ipynb_checkpoints 4096\n"
     ]
    }
   ],
   "source": [
    " for file_name in os.listdir():\n",
    "    print(file_name, os.path.getsize(file_name))"
   ]
  },
  {
   "cell_type": "code",
   "execution_count": 11,
   "id": "60320a73-a598-43ae-a256-338e2bdf9829",
   "metadata": {},
   "outputs": [],
   "source": [
    "os.chdir(Path.cwd() / \"session-6\") # -> absolute path\n",
    "# os.chdir(\"./session-6\")            -> relative path"
   ]
  },
  {
   "cell_type": "code",
   "execution_count": 12,
   "id": "e30ba2a2-f6c2-4b27-bfc8-5be4a573a769",
   "metadata": {},
   "outputs": [
    {
     "data": {
      "text/plain": [
       "PosixPath('/home/hambz/remote-python-course/session-4/session-6')"
      ]
     },
     "execution_count": 12,
     "metadata": {},
     "output_type": "execute_result"
    }
   ],
   "source": [
    "Path.cwd()"
   ]
  },
  {
   "cell_type": "code",
   "execution_count": 26,
   "id": "1a69c96d-2a59-45e1-a123-675abf557ce4",
   "metadata": {},
   "outputs": [],
   "source": [
    "my_special_file = open('file.txt', 'x')\n",
    "\n",
    "# x  -> create file. gives error if already exists.\n",
    "# w  -> write only file access.\n",
    "# r  -> read only file access.\n",
    "# r+ -> read & write file access.\n"
   ]
  },
  {
   "cell_type": "code",
   "execution_count": 23,
   "id": "98f199e9-bc58-46b6-9a20-228c74e863e1",
   "metadata": {},
   "outputs": [
    {
     "name": "stdout",
     "output_type": "stream",
     "text": [
      "file1.txt\n"
     ]
    }
   ],
   "source": [
    "list_files(Path.cwd())"
   ]
  },
  {
   "cell_type": "markdown",
   "id": "fc938dbf-d181-424b-ad9f-81fa0c2f6943",
   "metadata": {},
   "source": [
    "### Reading the Contents of Files:"
   ]
  },
  {
   "cell_type": "code",
   "execution_count": 28,
   "id": "7a045b99-c845-4be9-9752-8b3155b919fa",
   "metadata": {},
   "outputs": [],
   "source": [
    "my_special_file.close()"
   ]
  },
  {
   "cell_type": "code",
   "execution_count": 29,
   "id": "a505dd38-8243-4d6d-aa62-668285aeba25",
   "metadata": {},
   "outputs": [],
   "source": [
    "file1 = open('file1.txt', 'r')"
   ]
  },
  {
   "cell_type": "code",
   "execution_count": 30,
   "id": "48f3c160-10a7-4121-8917-746471e46179",
   "metadata": {},
   "outputs": [
    {
     "data": {
      "text/plain": [
       "_io.TextIOWrapper"
      ]
     },
     "execution_count": 30,
     "metadata": {},
     "output_type": "execute_result"
    }
   ],
   "source": [
    "type(file1)"
   ]
  },
  {
   "cell_type": "code",
   "execution_count": 31,
   "id": "482b2f73-4375-41c6-a310-ef64829d9cc9",
   "metadata": {},
   "outputs": [
    {
     "data": {
      "text/plain": [
       "[]"
      ]
     },
     "execution_count": 31,
     "metadata": {},
     "output_type": "execute_result"
    }
   ],
   "source": [
    "file1.readlines()"
   ]
  },
  {
   "cell_type": "code",
   "execution_count": 32,
   "id": "575e4ad6-9e92-4689-a29c-b5611d9cec62",
   "metadata": {},
   "outputs": [],
   "source": [
    "file1.close()"
   ]
  },
  {
   "cell_type": "code",
   "execution_count": 36,
   "id": "a36c3c11-ae2f-4f99-80d2-6053384ae0e4",
   "metadata": {},
   "outputs": [],
   "source": [
    "file1 = open('file1.txt', 'r+')"
   ]
  },
  {
   "cell_type": "code",
   "execution_count": 37,
   "id": "1bb6b3b1-c60d-4b4c-9597-24418698c679",
   "metadata": {},
   "outputs": [],
   "source": [
    "file1.writelines(\"Hello Wrold!\")"
   ]
  },
  {
   "cell_type": "code",
   "execution_count": 38,
   "id": "9cdd9e14-d65a-4489-a6d9-5cdf74168586",
   "metadata": {},
   "outputs": [],
   "source": [
    "file1.writelines(\"My name is Hamza\")"
   ]
  },
  {
   "cell_type": "code",
   "execution_count": 43,
   "id": "54635abb-84f0-4297-8bf8-67e45754dd29",
   "metadata": {},
   "outputs": [],
   "source": [
    "file1.close()"
   ]
  },
  {
   "cell_type": "code",
   "execution_count": 44,
   "id": "d885bda7-c885-4c0c-a952-fb4b9c5d3da9",
   "metadata": {},
   "outputs": [],
   "source": [
    "file1 = open('file1.txt', 'r')"
   ]
  },
  {
   "cell_type": "code",
   "execution_count": 45,
   "id": "6ec82f96-a4da-4ca7-9cda-51d68b8836ff",
   "metadata": {},
   "outputs": [
    {
     "data": {
      "text/plain": [
       "['Hello Wrold!My name is Hamza']"
      ]
     },
     "execution_count": 45,
     "metadata": {},
     "output_type": "execute_result"
    }
   ],
   "source": [
    "file1.readlines()"
   ]
  },
  {
   "cell_type": "markdown",
   "id": "91c5b8fe-77ec-4ce8-b1b5-7c98f9533a1e",
   "metadata": {},
   "source": [
    "### Writing to Files:"
   ]
  },
  {
   "cell_type": "code",
   "execution_count": 112,
   "id": "6e4aa20f-7273-4cc7-94af-3b50c2d3a1b4",
   "metadata": {},
   "outputs": [],
   "source": []
  },
  {
   "cell_type": "code",
   "execution_count": 113,
   "id": "3db77b39-4859-4eee-8d84-d0ab2f56367a",
   "metadata": {},
   "outputs": [
    {
     "name": "stdout",
     "output_type": "stream",
     "text": [
      "Hello, world!\n",
      "\n",
      "Hello, world!\n",
      "\n",
      "Hello, world!\n",
      "\n",
      "Hello, world!\n",
      "\n"
     ]
    }
   ],
   "source": []
  },
  {
   "cell_type": "markdown",
   "id": "9fa3eee1-64ea-4463-857d-01e7e4ad53c0",
   "metadata": {},
   "source": [
    "# Exercices-1: Write a program that reads the contents of a file and displays it on the screen."
   ]
  },
  {
   "cell_type": "code",
   "execution_count": 49,
   "id": "cbc5c570-546f-46f9-a44b-ea8e0b412fd8",
   "metadata": {},
   "outputs": [],
   "source": [
    "def read_content(file_name):\n",
    "    if file_name in os.listdir():\n",
    "        file    = open(file_name, 'r')\n",
    "        content = file.readlines()\n",
    "        file.close()\n",
    "        return content\n",
    "    else:\n",
    "        return []"
   ]
  },
  {
   "cell_type": "code",
   "execution_count": 48,
   "id": "c4e90aae-bef5-4c94-9f03-b31022cecd0e",
   "metadata": {},
   "outputs": [
    {
     "data": {
      "text/plain": [
       "[]"
      ]
     },
     "execution_count": 48,
     "metadata": {},
     "output_type": "execute_result"
    }
   ],
   "source": [
    "read_content('file2.txt')"
   ]
  },
  {
   "cell_type": "markdown",
   "id": "1788c48d-d237-4681-ba76-70d10d92e5bb",
   "metadata": {},
   "source": [
    "# Exercices-2: Write a program that writes a list of names to a file, then reads and displays the contents of that file."
   ]
  },
  {
   "cell_type": "code",
   "execution_count": 59,
   "id": "93bd44eb-6a19-41b0-87a3-3b80fc13b614",
   "metadata": {},
   "outputs": [],
   "source": [
    "def write_names(file_name):\n",
    "    if file_name in os.listdir():\n",
    "        file = open(file_name, 'a')\n",
    "        content = \"\"\n",
    "        while True:\n",
    "            content = input(\"please enter new name, type done to finish\")\n",
    "            if content == \"done\":\n",
    "                break\n",
    "            file.writelines(content+\"\\n\")\n",
    "        file.close()\n",
    "        return read_content(file_name)\n",
    "    else:\n",
    "        return []"
   ]
  },
  {
   "cell_type": "code",
   "execution_count": 74,
   "id": "f84ec854-c4fc-43d8-87f5-1bbc155ae007",
   "metadata": {},
   "outputs": [
    {
     "name": "stdin",
     "output_type": "stream",
     "text": [
      "please enter new name, type done to finish \n",
      "please enter new name, type done to finish done\n"
     ]
    },
    {
     "data": {
      "text/plain": [
       "['hamza\\n', 'amir\\n', 'zaki\\n', 'amina\\n', '\\n']"
      ]
     },
     "execution_count": 74,
     "metadata": {},
     "output_type": "execute_result"
    }
   ],
   "source": [
    "write_names('file.txt')"
   ]
  },
  {
   "cell_type": "markdown",
   "id": "63f1c419-cb13-402a-8cfc-d4b4373d05dd",
   "metadata": {},
   "source": [
    "# Error Handeling:"
   ]
  },
  {
   "cell_type": "code",
   "execution_count": 61,
   "id": "fdd3e672-1e43-4340-a725-2c94ea534eac",
   "metadata": {},
   "outputs": [
    {
     "ename": "FileNotFoundError",
     "evalue": "[Errno 2] No such file or directory: 'hamza'",
     "output_type": "error",
     "traceback": [
      "\u001b[0;31m---------------------------------------------------------------------------\u001b[0m",
      "\u001b[0;31mFileNotFoundError\u001b[0m                         Traceback (most recent call last)",
      "Cell \u001b[0;32mIn[61], line 1\u001b[0m\n\u001b[0;32m----> 1\u001b[0m \u001b[38;5;28;43mopen\u001b[39;49m\u001b[43m(\u001b[49m\u001b[38;5;124;43m'\u001b[39;49m\u001b[38;5;124;43mhamza\u001b[39;49m\u001b[38;5;124;43m'\u001b[39;49m\u001b[43m,\u001b[49m\u001b[43m \u001b[49m\u001b[38;5;124;43m'\u001b[39;49m\u001b[38;5;124;43mr\u001b[39;49m\u001b[38;5;124;43m'\u001b[39;49m\u001b[43m)\u001b[49m\n",
      "File \u001b[0;32m~/.local/lib/python3.11/site-packages/IPython/core/interactiveshell.py:324\u001b[0m, in \u001b[0;36m_modified_open\u001b[0;34m(file, *args, **kwargs)\u001b[0m\n\u001b[1;32m    317\u001b[0m \u001b[38;5;28;01mif\u001b[39;00m file \u001b[38;5;129;01min\u001b[39;00m {\u001b[38;5;241m0\u001b[39m, \u001b[38;5;241m1\u001b[39m, \u001b[38;5;241m2\u001b[39m}:\n\u001b[1;32m    318\u001b[0m     \u001b[38;5;28;01mraise\u001b[39;00m \u001b[38;5;167;01mValueError\u001b[39;00m(\n\u001b[1;32m    319\u001b[0m         \u001b[38;5;124mf\u001b[39m\u001b[38;5;124m\"\u001b[39m\u001b[38;5;124mIPython won\u001b[39m\u001b[38;5;124m'\u001b[39m\u001b[38;5;124mt let you open fd=\u001b[39m\u001b[38;5;132;01m{\u001b[39;00mfile\u001b[38;5;132;01m}\u001b[39;00m\u001b[38;5;124m by default \u001b[39m\u001b[38;5;124m\"\u001b[39m\n\u001b[1;32m    320\u001b[0m         \u001b[38;5;124m\"\u001b[39m\u001b[38;5;124mas it is likely to crash IPython. If you know what you are doing, \u001b[39m\u001b[38;5;124m\"\u001b[39m\n\u001b[1;32m    321\u001b[0m         \u001b[38;5;124m\"\u001b[39m\u001b[38;5;124myou can use builtins\u001b[39m\u001b[38;5;124m'\u001b[39m\u001b[38;5;124m open.\u001b[39m\u001b[38;5;124m\"\u001b[39m\n\u001b[1;32m    322\u001b[0m     )\n\u001b[0;32m--> 324\u001b[0m \u001b[38;5;28;01mreturn\u001b[39;00m \u001b[43mio_open\u001b[49m\u001b[43m(\u001b[49m\u001b[43mfile\u001b[49m\u001b[43m,\u001b[49m\u001b[43m \u001b[49m\u001b[38;5;241;43m*\u001b[39;49m\u001b[43margs\u001b[49m\u001b[43m,\u001b[49m\u001b[43m \u001b[49m\u001b[38;5;241;43m*\u001b[39;49m\u001b[38;5;241;43m*\u001b[39;49m\u001b[43mkwargs\u001b[49m\u001b[43m)\u001b[49m\n",
      "\u001b[0;31mFileNotFoundError\u001b[0m: [Errno 2] No such file or directory: 'hamza'"
     ]
    }
   ],
   "source": [
    "open('hamza', 'r')"
   ]
  },
  {
   "cell_type": "code",
   "execution_count": 72,
   "id": "562cf16f-d274-4373-8314-4c52ec7bc235",
   "metadata": {},
   "outputs": [
    {
     "name": "stdout",
     "output_type": "stream",
     "text": [
      "Unsupported Syntax OR Operation\n"
     ]
    }
   ],
   "source": [
    "try:\n",
    "    fout = open('file.txt', 'r')\n",
    "    fout.write('stomp stomp stomp')\n",
    "except FileExistsError:\n",
    "    print('relativity already exists!. That was a close one.')\n",
    "except FileNotFoundError:\n",
    "    print(\"file not found\")\n",
    "except :\n",
    "    print(\"Unsupported Syntax OR Operation\")\n",
    "    "
   ]
  },
  {
   "cell_type": "code",
   "execution_count": null,
   "id": "28f0bc42-baa3-4d1b-bbb2-4449e2d06631",
   "metadata": {},
   "outputs": [],
   "source": []
  },
  {
   "cell_type": "code",
   "execution_count": null,
   "id": "411f32e6-8261-4da5-b7b7-991425b5fc47",
   "metadata": {},
   "outputs": [],
   "source": []
  },
  {
   "cell_type": "code",
   "execution_count": 50,
   "id": "ae0f4e63-5505-4819-ac68-2f244b737605",
   "metadata": {},
   "outputs": [
    {
     "name": "stdout",
     "output_type": "stream",
     "text": [
      "0\n",
      "0.25\n",
      "0.5\n",
      "0.75\n",
      "1.0\n",
      "1.25\n",
      "1.5\n",
      "1.75\n",
      "2.0\n",
      "2.25\n",
      "2.5\n",
      "2.75\n",
      "3.0\n",
      "3.25\n",
      "3.5\n",
      "3.75\n",
      "4.0\n",
      "4.25\n",
      "4.5\n",
      "4.75\n",
      "5.0\n",
      "5.25\n",
      "5.5\n",
      "5.75\n",
      "6.0\n",
      "6.25\n",
      "6.5\n",
      "6.75\n",
      "7.0\n",
      "7.25\n",
      "7.5\n",
      "7.75\n",
      "8.0\n",
      "8.25\n",
      "8.5\n",
      "8.75\n",
      "9.0\n",
      "9.25\n",
      "9.5\n",
      "9.75\n"
     ]
    }
   ],
   "source": [
    "number = 0\n",
    "while number != 10:\n",
    "    print(number)\n",
    "    number = number + 1/4"
   ]
  }
 ],
 "metadata": {
  "kernelspec": {
   "display_name": "Python 3 (ipykernel)",
   "language": "python",
   "name": "python3"
  },
  "language_info": {
   "codemirror_mode": {
    "name": "ipython",
    "version": 3
   },
   "file_extension": ".py",
   "mimetype": "text/x-python",
   "name": "python",
   "nbconvert_exporter": "python",
   "pygments_lexer": "ipython3",
   "version": "3.11.2"
  }
 },
 "nbformat": 4,
 "nbformat_minor": 5
}
