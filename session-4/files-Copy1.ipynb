{
 "cells": [
  {
   "cell_type": "markdown",
   "id": "70772039-0ab1-4b9f-aad8-1e77753a0a17",
   "metadata": {},
   "source": [
    "# Path:"
   ]
  },
  {
   "cell_type": "code",
   "execution_count": 18,
   "id": "2780f0b3-a9c5-4b61-9226-63cb82b8bd8b",
   "metadata": {},
   "outputs": [
    {
     "data": {
      "text/plain": [
       "PosixPath('c:/Users/Al/Download')"
      ]
     },
     "execution_count": 18,
     "metadata": {},
     "output_type": "execute_result"
    }
   ],
   "source": []
  },
  {
   "cell_type": "code",
   "execution_count": 19,
   "id": "ad07ca7c-27c6-45fc-85c8-bc6bde8628e8",
   "metadata": {},
   "outputs": [],
   "source": []
  },
  {
   "cell_type": "code",
   "execution_count": 17,
   "id": "4ca081b4-b810-460f-9f71-59f82f2f8be7",
   "metadata": {},
   "outputs": [
    {
     "data": {
      "text/plain": [
       "PosixPath('c:/Users/Al/Download/exo/files.ipynb')"
      ]
     },
     "execution_count": 17,
     "metadata": {},
     "output_type": "execute_result"
    }
   ],
   "source": []
  },
  {
   "cell_type": "code",
   "execution_count": 23,
   "id": "6a4e9b3a-d305-4567-8015-f50ea85268dc",
   "metadata": {},
   "outputs": [
    {
     "name": "stdout",
     "output_type": "stream",
     "text": [
      "c:/Users/Al/Download/accounts.txt\n",
      "c:/Users/Al/Download/details.csv\n",
      "c:/Users/Al/Download/invite.docx\n"
     ]
    }
   ],
   "source": []
  },
  {
   "cell_type": "markdown",
   "id": "70c64699-1c30-4e55-bbae-3a3112468495",
   "metadata": {},
   "source": [
    "### concatenate **Path** instances."
   ]
  },
  {
   "cell_type": "code",
   "execution_count": 31,
   "id": "28078566-013e-468e-b467-b9015af9a713",
   "metadata": {},
   "outputs": [
    {
     "data": {
      "text/plain": [
       "PosixPath('spam/bacon/eggs/new')"
      ]
     },
     "execution_count": 31,
     "metadata": {},
     "output_type": "execute_result"
    }
   ],
   "source": []
  },
  {
   "cell_type": "code",
   "execution_count": 38,
   "id": "3eba33d5-5b5e-4160-9cfc-26623bf174ab",
   "metadata": {},
   "outputs": [],
   "source": []
  },
  {
   "cell_type": "code",
   "execution_count": 29,
   "id": "782d81ca-81bf-4f20-a983-940a8491c12b",
   "metadata": {},
   "outputs": [
    {
     "data": {
      "text/plain": [
       "'C:\\\\Users\\\\Al\\\\spam'"
      ]
     },
     "execution_count": 29,
     "metadata": {},
     "output_type": "execute_result"
    }
   ],
   "source": []
  },
  {
   "cell_type": "code",
   "execution_count": 39,
   "id": "c6073596-1b30-4ef6-941b-42815b29bd8c",
   "metadata": {},
   "outputs": [
    {
     "data": {
      "text/plain": [
       "'C:\\\\Users\\\\Al\\\\spam'"
      ]
     },
     "execution_count": 39,
     "metadata": {},
     "output_type": "execute_result"
    }
   ],
   "source": []
  },
  {
   "cell_type": "code",
   "execution_count": null,
   "id": "5b7eee0b-596d-4662-af4f-4689e87d4bfb",
   "metadata": {},
   "outputs": [],
   "source": [
    "import sys\n",
    "\n",
    "if sys.platform == \"windows\":\n",
    "    '\\\\'.join([homeFolder, subFolder])\n",
    "elif sys.platform == \"linux\" or sys.platform == \"macos\":\n",
    "    '/'.join([homeFolder, subFolder])"
   ]
  },
  {
   "cell_type": "markdown",
   "id": "ebfc7c62-97f9-4bbc-843e-924d33698025",
   "metadata": {},
   "source": [
    "### instead of using this pattern, use Path() and /, as it finds ur os and picks the right one / or \\"
   ]
  },
  {
   "cell_type": "code",
   "execution_count": null,
   "id": "cac4e830-d994-4f82-b51a-e3ddcf24ace1",
   "metadata": {},
   "outputs": [],
   "source": []
  },
  {
   "cell_type": "markdown",
   "id": "a2635822-0fda-4a07-86df-e9cc4514f83c",
   "metadata": {},
   "source": [
    "## Current Working Dir:"
   ]
  },
  {
   "cell_type": "code",
   "execution_count": 40,
   "id": "72f3ccb5-2e1d-4ac8-b7d7-b3ca8ee0ff52",
   "metadata": {},
   "outputs": [
    {
     "data": {
      "text/plain": [
       "PosixPath('/home/hambz/ai-workshop/week-group/python-group/session-4')"
      ]
     },
     "execution_count": 40,
     "metadata": {},
     "output_type": "execute_result"
    }
   ],
   "source": []
  },
  {
   "cell_type": "code",
   "execution_count": 44,
   "id": "2a57854d-88b4-4b06-a1ee-23d2e3e46357",
   "metadata": {},
   "outputs": [
    {
     "data": {
      "text/plain": [
       "PosixPath('/home/hambz/ai-workshop/week-group/python-group')"
      ]
     },
     "execution_count": 44,
     "metadata": {},
     "output_type": "execute_result"
    }
   ],
   "source": []
  },
  {
   "cell_type": "markdown",
   "id": "515a8f73-6caf-4c0c-b487-3db15b146e91",
   "metadata": {},
   "source": [
    "## Home Directory:"
   ]
  },
  {
   "cell_type": "code",
   "execution_count": 46,
   "id": "7442c7e5-65ab-44ab-bc11-567cced3ce82",
   "metadata": {},
   "outputs": [
    {
     "data": {
      "text/plain": [
       "PosixPath('/home/hambz')"
      ]
     },
     "execution_count": 46,
     "metadata": {},
     "output_type": "execute_result"
    }
   ],
   "source": []
  },
  {
   "cell_type": "markdown",
   "id": "f9decdf5-1a78-4715-a6b1-abd20e4999c5",
   "metadata": {},
   "source": [
    "## Creating New Folders using os.makedirs()"
   ]
  },
  {
   "cell_type": "code",
   "execution_count": 62,
   "id": "f53a12db-7a99-44ed-b257-aca557e0099c",
   "metadata": {},
   "outputs": [
    {
     "data": {
      "text/plain": [
       "PosixPath('/home/hambz/ai-workshop/week-group/python-group/session-4')"
      ]
     },
     "execution_count": 62,
     "metadata": {},
     "output_type": "execute_result"
    }
   ],
   "source": []
  },
  {
   "cell_type": "code",
   "execution_count": 61,
   "id": "0e2c4e25-f7b0-45e6-afd3-4f9a8a4936a3",
   "metadata": {},
   "outputs": [],
   "source": []
  },
  {
   "cell_type": "code",
   "execution_count": 57,
   "id": "d1d6d0f6-74e8-4c46-8c05-8f83cac24a69",
   "metadata": {},
   "outputs": [
    {
     "data": {
      "text/plain": [
       "PosixPath('/home/hambz/ai-workshop/week-group/python-group/session-4')"
      ]
     },
     "execution_count": 57,
     "metadata": {},
     "output_type": "execute_result"
    }
   ],
   "source": []
  },
  {
   "cell_type": "code",
   "execution_count": 51,
   "id": "77ca8141-0b9a-44ea-bc68-c15b28a8fdd1",
   "metadata": {},
   "outputs": [
    {
     "data": {
      "text/plain": [
       "PosixPath('/home/hambz/ai-workshop/week-group/python-group/session-4')"
      ]
     },
     "execution_count": 51,
     "metadata": {},
     "output_type": "execute_result"
    }
   ],
   "source": []
  },
  {
   "cell_type": "markdown",
   "id": "b9ec537d-ba64-4b4f-9dfb-895db305c07a",
   "metadata": {},
   "source": [
    "### To make a directory from a Path object, call the mkdir() method"
   ]
  },
  {
   "cell_type": "code",
   "execution_count": 54,
   "id": "5026813d-0a30-489b-a68b-4e9efce64c1f",
   "metadata": {},
   "outputs": [],
   "source": []
  },
  {
   "cell_type": "markdown",
   "id": "16f63bdd-2f81-4cfe-ac42-d69006f33597",
   "metadata": {},
   "source": [
    "## Handling Absolute and Relative Paths:"
   ]
  },
  {
   "cell_type": "code",
   "execution_count": 55,
   "id": "8c6ccebc-8398-4440-82fc-c73eb24897e1",
   "metadata": {},
   "outputs": [
    {
     "data": {
      "text/plain": [
       "True"
      ]
     },
     "execution_count": 55,
     "metadata": {},
     "output_type": "execute_result"
    }
   ],
   "source": []
  },
  {
   "cell_type": "code",
   "execution_count": 56,
   "id": "2c1c7882-50e8-427d-b770-2fe9dcf7aa43",
   "metadata": {},
   "outputs": [
    {
     "data": {
      "text/plain": [
       "PosixPath('my/relative/path')"
      ]
     },
     "execution_count": 56,
     "metadata": {},
     "output_type": "execute_result"
    }
   ],
   "source": []
  },
  {
   "cell_type": "code",
   "execution_count": 57,
   "id": "b2b070b5-a41e-4d22-b380-ad03f42c98e7",
   "metadata": {},
   "outputs": [
    {
     "data": {
      "text/plain": [
       "PosixPath('/home/hambz/ai-workshop/week-group/python-group/session-4/my/relative/path')"
      ]
     },
     "execution_count": 57,
     "metadata": {},
     "output_type": "execute_result"
    }
   ],
   "source": []
  },
  {
   "cell_type": "markdown",
   "id": "6286a5dd-dc68-4328-b7db-e21af45f39bf",
   "metadata": {},
   "source": [
    "**Calling os.path.abspath(path) will return a string of the absolute path\n",
    "of the argument.**"
   ]
  },
  {
   "cell_type": "code",
   "execution_count": 58,
   "id": "25469bc7-9ab6-4fff-b6f6-05ad144c2004",
   "metadata": {},
   "outputs": [
    {
     "data": {
      "text/plain": [
       "'/home/hambz/ai-workshop/week-group/python-group/session-4/temp'"
      ]
     },
     "execution_count": 58,
     "metadata": {},
     "output_type": "execute_result"
    }
   ],
   "source": []
  },
  {
   "cell_type": "markdown",
   "id": "c685ef4f-941f-4e43-8d67-975e2f56587c",
   "metadata": {},
   "source": [
    "## Finding File Sizes and Folder Contents:"
   ]
  },
  {
   "cell_type": "code",
   "execution_count": 60,
   "id": "2957078e-1d1c-43c9-8cb9-9f9bbd285e8e",
   "metadata": {},
   "outputs": [
    {
     "data": {
      "text/plain": [
       "4096"
      ]
     },
     "execution_count": 60,
     "metadata": {},
     "output_type": "execute_result"
    }
   ],
   "source": [
    "os.path.getsize(r'/home/hambz/ai-workshop/week-group/python-group/session-4')"
   ]
  },
  {
   "cell_type": "code",
   "execution_count": 62,
   "id": "abd5d0c0-ad27-4cb3-b949-fd10fe7b88cb",
   "metadata": {},
   "outputs": [
    {
     "data": {
      "text/plain": [
       "['go',\n",
       " '.bash_logout',\n",
       " '.profile',\n",
       " '.vscode',\n",
       " 'Downloads',\n",
       " 'Public',\n",
       " '.cache',\n",
       " '.face.icon',\n",
       " '.config',\n",
       " '.gphoto',\n",
       " '.viminfo',\n",
       " 'Documents',\n",
       " '.gnupg',\n",
       " 'Pictures',\n",
       " 'wifi-code.md',\n",
       " '.jupyter',\n",
       " '.python_history',\n",
       " '.bash_history',\n",
       " 'Templates',\n",
       " '.xsnowrc',\n",
       " '.lesshst',\n",
       " 'Music',\n",
       " 'less',\n",
       " '.ssh',\n",
       " '.cabal',\n",
       " '.dotnet',\n",
       " 'Videos',\n",
       " '.mozilla',\n",
       " 'test.py',\n",
       " '.ipython',\n",
       " '.pki',\n",
       " '.local',\n",
       " 'ai-workshop',\n",
       " '.face',\n",
       " 'Desktop',\n",
       " '.bashrc']"
      ]
     },
     "execution_count": 62,
     "metadata": {},
     "output_type": "execute_result"
    }
   ],
   "source": [
    "os.listdir(Path.home())"
   ]
  },
  {
   "cell_type": "code",
   "execution_count": 63,
   "id": "353cec2b-d87b-464f-a076-09612b27062e",
   "metadata": {},
   "outputs": [
    {
     "name": "stdout",
     "output_type": "stream",
     "text": [
      "go\n",
      ".bash_logout\n",
      ".profile\n",
      ".vscode\n",
      "Downloads\n",
      "Public\n",
      ".cache\n",
      ".face.icon\n",
      ".config\n",
      ".gphoto\n",
      ".viminfo\n",
      "Documents\n",
      ".gnupg\n",
      "Pictures\n",
      "wifi-code.md\n",
      ".jupyter\n",
      ".python_history\n",
      ".bash_history\n",
      "Templates\n",
      ".xsnowrc\n",
      ".lesshst\n",
      "Music\n",
      "less\n",
      ".ssh\n",
      ".cabal\n",
      ".dotnet\n",
      "Videos\n",
      ".mozilla\n",
      "test.py\n",
      ".ipython\n",
      ".pki\n",
      ".local\n",
      "ai-workshop\n",
      ".face\n",
      "Desktop\n",
      ".bashrc\n"
     ]
    }
   ],
   "source": [
    "for filename in os.listdir(Path.home()):\n",
    "    print(filename)"
   ]
  },
  {
   "cell_type": "markdown",
   "id": "253bb972-062c-47b4-9ef3-94b943703c10",
   "metadata": {},
   "source": [
    "## The File Reading/Writing Process:"
   ]
  },
  {
   "cell_type": "markdown",
   "id": "ad3daa85-9028-44b4-b61e-6d1296005acf",
   "metadata": {},
   "source": [
    "### Opening Files with the open() Function:"
   ]
  },
  {
   "cell_type": "code",
   "execution_count": 75,
   "id": "ac666e36-08bf-4e74-a2c7-d3c510ac1e7e",
   "metadata": {},
   "outputs": [],
   "source": []
  },
  {
   "cell_type": "markdown",
   "id": "fc938dbf-d181-424b-ad9f-81fa0c2f6943",
   "metadata": {},
   "source": [
    "### Reading the Contents of Files:"
   ]
  },
  {
   "cell_type": "code",
   "execution_count": 76,
   "id": "7a045b99-c845-4be9-9752-8b3155b919fa",
   "metadata": {},
   "outputs": [],
   "source": []
  },
  {
   "cell_type": "code",
   "execution_count": 83,
   "id": "9cdd9e14-d65a-4489-a6d9-5cdf74168586",
   "metadata": {},
   "outputs": [
    {
     "name": "stdout",
     "output_type": "stream",
     "text": [
      "\n",
      "\n",
      "What is Lorem Ipsum?\n",
      "\n",
      "\n",
      "\n",
      "Lorem Ipsum is simply dummy text of the printing and typesetting industry. Lorem Ipsum has been the industry's standard dummy text ever since the 1500s, when an unknown printer took a galley of type and scrambled it to make a type specimen book. It has survived not only five centuries, but also the leap into electronic typesetting, remaining essentially unchanged. It was popularised in the 1960s with the release of Letraset sheets containing Lorem Ipsum passages, and more recently with desktop publishing software like Aldus PageMaker including versions of Lorem Ipsum.\n",
      "\n",
      "Why do we use it?\n",
      "\n",
      "\n",
      "\n",
      "It is a long established fact that a reader will be distracted by the readable content of a page when looking at its layout. The point of using Lorem Ipsum is that it has a more-or-less normal distribution of letters, as opposed to using 'Content here, content here', making it look like readable English. Many desktop publishing packages and web page editors now use Lorem Ipsum as their default model text, and a search for 'lorem ipsum' will uncover many web sites still in their infancy. Various versions have evolved over the years, sometimes by accident, sometimes on purpose (injected humour and the like).\n",
      "\n",
      "\n",
      "\n",
      "Where does it come from?\n",
      "\n",
      "\n",
      "\n",
      "Contrary to popular belief, Lorem Ipsum is not simply random text. It has roots in a piece of classical Latin literature from 45 BC, making it over 2000 years old. Richard McClintock, a Latin professor at Hampden-Sydney College in Virginia, looked up one of the more obscure Latin words, consectetur, from a Lorem Ipsum passage, and going through the cites of the word in classical literature, discovered the undoubtable source. Lorem Ipsum comes from sections 1.10.32 and 1.10.33 of \"de Finibus Bonorum et Malorum\" (The Extremes of Good and Evil) by Cicero, written in 45 BC. This book is a treatise on the theory of ethics, very popular during the Renaissance. The first line of Lorem Ipsum, \"Lorem ipsum dolor sit amet..\", comes from a line in section 1.10.32.\n",
      "\n",
      "\n",
      "\n",
      "The standard chunk of Lorem Ipsum used since the 1500s is reproduced below for those interested. Sections 1.10.32 and 1.10.33 from \"de Finibus Bonorum et Malorum\" by Cicero are also reproduced in their exact original form, accompanied by English versions from the 1914 translation by H. Rackham.\n",
      "\n",
      "\n",
      "\n"
     ]
    }
   ],
   "source": []
  },
  {
   "cell_type": "markdown",
   "id": "91c5b8fe-77ec-4ce8-b1b5-7c98f9533a1e",
   "metadata": {},
   "source": [
    "### Writing to Files:"
   ]
  },
  {
   "cell_type": "code",
   "execution_count": 112,
   "id": "6e4aa20f-7273-4cc7-94af-3b50c2d3a1b4",
   "metadata": {},
   "outputs": [],
   "source": []
  },
  {
   "cell_type": "code",
   "execution_count": 113,
   "id": "3db77b39-4859-4eee-8d84-d0ab2f56367a",
   "metadata": {},
   "outputs": [
    {
     "name": "stdout",
     "output_type": "stream",
     "text": [
      "Hello, world!\n",
      "\n",
      "Hello, world!\n",
      "\n",
      "Hello, world!\n",
      "\n",
      "Hello, world!\n",
      "\n"
     ]
    }
   ],
   "source": []
  },
  {
   "cell_type": "markdown",
   "id": "9fa3eee1-64ea-4463-857d-01e7e4ad53c0",
   "metadata": {},
   "source": [
    "# Exercices-1: Write a program that reads the contents of a file and displays it on the screen."
   ]
  },
  {
   "cell_type": "code",
   "execution_count": null,
   "id": "cbc5c570-546f-46f9-a44b-ea8e0b412fd8",
   "metadata": {},
   "outputs": [],
   "source": []
  },
  {
   "cell_type": "markdown",
   "id": "1788c48d-d237-4681-ba76-70d10d92e5bb",
   "metadata": {},
   "source": [
    "# Exercices-2: Write a program that writes a list of names to a file, then reads and displays the contents of that file."
   ]
  },
  {
   "cell_type": "code",
   "execution_count": null,
   "id": "93bd44eb-6a19-41b0-87a3-3b80fc13b614",
   "metadata": {},
   "outputs": [],
   "source": []
  },
  {
   "cell_type": "markdown",
   "id": "63f1c419-cb13-402a-8cfc-d4b4373d05dd",
   "metadata": {},
   "source": [
    "# Error Handeling:"
   ]
  },
  {
   "cell_type": "code",
   "execution_count": 117,
   "id": "562cf16f-d274-4373-8314-4c52ec7bc235",
   "metadata": {},
   "outputs": [
    {
     "name": "stdout",
     "output_type": "stream",
     "text": [
      "relativity already exists!. That was a close one.\n"
     ]
    }
   ],
   "source": [
    "try:\n",
    "    fout = open('relativity', 'xt')\n",
    "    fout.write('stomp stomp stomp')\n",
    "except FileExistsError:\n",
    "    print('relativity already exists!. That was a close one.')\n",
    "except:\n",
    "    print(\"unexpected\")\n"
   ]
  }
 ],
 "metadata": {
  "kernelspec": {
   "display_name": "Python 3 (ipykernel)",
   "language": "python",
   "name": "python3"
  },
  "language_info": {
   "codemirror_mode": {
    "name": "ipython",
    "version": 3
   },
   "file_extension": ".py",
   "mimetype": "text/x-python",
   "name": "python",
   "nbconvert_exporter": "python",
   "pygments_lexer": "ipython3",
   "version": "3.11.2"
  }
 },
 "nbformat": 4,
 "nbformat_minor": 5
}
