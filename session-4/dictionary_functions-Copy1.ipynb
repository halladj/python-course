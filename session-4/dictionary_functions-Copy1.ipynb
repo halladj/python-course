{
 "cells": [
  {
   "cell_type": "markdown",
   "id": "d2b8a5d9-7b58-43c6-9271-92423561ae62",
   "metadata": {},
   "source": [
    "# dictionary_functions"
   ]
  },
  {
   "cell_type": "markdown",
   "id": "c0ddae32-8bfe-4e30-8e3f-eac58a710d0f",
   "metadata": {},
   "source": [
    "## Exercise 1: Basic Dictionary Operations\n",
    "\n",
    "#### Create a dictionary called **student_info** that stores the following information:\n",
    "{\n",
    "    \"name\" : \"Alice\",\n",
    "    \"age\" : 21,\n",
    "    \"grade\" : \"B+\"\n",
    "}"
   ]
  },
  {
   "cell_type": "code",
<<<<<<< HEAD
   "execution_count": 1,
   "id": "f20b7811-a1fd-401b-89d2-c15bb6c0a33f",
   "metadata": {},
   "outputs": [
    {
     "data": {
      "text/plain": [
       "'B+'"
      ]
     },
     "execution_count": 1,
     "metadata": {},
     "output_type": "execute_result"
    }
   ],
   "source": [
    "student = {\n",
    "    \"name\": \"alice\",\n",
    "    \"age\": 21,\n",
    "    \"grade\": \"B+\"\n",
    "}\n"
=======
   "execution_count": 2,
   "id": "f20b7811-a1fd-401b-89d2-c15bb6c0a33f",
   "metadata": {},
   "outputs": [],
   "source": [
    "student_info = { \"name\" : \"Alice\", \"age\" : 21, \"grade\" : \"B+\" }"
>>>>>>> 68f58ebaba4bb0ec9dbd94963e1992ff4e0c29dd
   ]
  },
  {
   "cell_type": "code",
   "execution_count": 3,
   "id": "4fecf145-3f3c-4375-b32c-f642fe41a1ce",
   "metadata": {},
   "outputs": [
    {
     "name": "stdout",
     "output_type": "stream",
     "text": [
      "{'name': 'Alice', 'age': 21, 'grade': 'B+'}\n"
     ]
    }
   ],
   "source": [
    "print(student_info)"
   ]
  },
  {
   "cell_type": "code",
   "execution_count": null,
   "id": "85998aba-dc6c-4cf2-aba8-0e9fea331d5f",
   "metadata": {},
   "outputs": [],
   "source": []
  },
  {
   "cell_type": "markdown",
   "id": "ba1e3bd2-9a9a-439f-b3b5-f8c5c16e166a",
   "metadata": {},
   "source": [
    "## Exercise 2: Using Functions with Dictionaries"
   ]
  },
  {
   "cell_type": "markdown",
   "id": "104d61c9-33ab-4d25-9331-5d04a5a687f2",
   "metadata": {},
   "source": [
    "#### Write a function get_age(student) that takes a dictionary student as input and returns the age of the student."
   ]
  },
  {
   "cell_type": "code",
<<<<<<< HEAD
   "execution_count": 3,
=======
   "execution_count": 6,
>>>>>>> 68f58ebaba4bb0ec9dbd94963e1992ff4e0c29dd
   "id": "8da214d0-5b81-4560-901e-f52659043c15",
   "metadata": {},
   "outputs": [],
   "source": [
<<<<<<< HEAD
    "student = {\n",
    "    \"name\": \"alice\",\n",
    "    \"age\": 21,\n",
    "    \"grade\": \"B+\"\n",
    "}\n",
    "def get_age(student):\n",
    "    return student[\"age\"]"
=======
    "def get_age(s):\n",
    "    return s.get(\"age\")"
>>>>>>> 68f58ebaba4bb0ec9dbd94963e1992ff4e0c29dd
   ]
  },
  {
   "cell_type": "code",
<<<<<<< HEAD
   "execution_count": 4,
=======
   "execution_count": 7,
>>>>>>> 68f58ebaba4bb0ec9dbd94963e1992ff4e0c29dd
   "id": "4e5dc375-265d-4e9e-8696-9aaa49db6213",
   "metadata": {},
   "outputs": [
    {
     "data": {
      "text/plain": [
       "21"
<<<<<<< HEAD
=======
      ]
     },
     "execution_count": 7,
     "metadata": {},
     "output_type": "execute_result"
    }
   ],
   "source": [
    "get_age(student_info)"
   ]
  },
  {
   "cell_type": "code",
   "execution_count": 8,
   "id": "fed8b9ed-f7e7-4cd9-a5bd-cf77d2bffe05",
   "metadata": {},
   "outputs": [
    {
     "data": {
      "text/plain": [
       "21"
>>>>>>> 68f58ebaba4bb0ec9dbd94963e1992ff4e0c29dd
      ]
     },
     "execution_count": 4,
     "metadata": {},
     "output_type": "execute_result"
    }
   ],
   "source": [
    "student_info.pop(\"age\")"
   ]
  },
  {
   "cell_type": "code",
   "execution_count": 10,
   "id": "669340a6-e674-4611-b63d-9e77d590bc8b",
   "metadata": {},
   "outputs": [],
   "source": [
    "v = get_age(student_info)"
   ]
  },
  {
   "cell_type": "code",
   "execution_count": 11,
   "id": "398a7ef0-e8bc-4faf-84a7-0d4f66877eb5",
   "metadata": {},
   "outputs": [
    {
     "name": "stdout",
     "output_type": "stream",
     "text": [
      "None\n"
     ]
    }
   ],
   "source": [
    "print(v)"
   ]
  },
  {
   "cell_type": "markdown",
   "id": "68131062-5b2d-4227-b4c9-2a78c443a065",
   "metadata": {},
   "source": [
    "#### Test the get_age function with the following dictionary:"
   ]
  },
  {
   "cell_type": "code",
<<<<<<< HEAD
   "execution_count": 5,
   "id": "af5cd3d6-3265-459f-9e40-3fe76dc6b988",
   "metadata": {},
   "outputs": [
    {
     "data": {
      "text/plain": [
       "21"
      ]
     },
     "execution_count": 5,
     "metadata": {},
     "output_type": "execute_result"
    }
   ],
   "source": [
    "get_age(student)"
   ]
=======
   "execution_count": null,
   "id": "af5cd3d6-3265-459f-9e40-3fe76dc6b988",
   "metadata": {},
   "outputs": [],
   "source": []
>>>>>>> 68f58ebaba4bb0ec9dbd94963e1992ff4e0c29dd
  },
  {
   "cell_type": "markdown",
   "id": "4dd01eb5-7d3f-448d-9cc3-f21874efe02f",
   "metadata": {},
   "source": [
    "#### Write another function called update_grade(student, new_grade) that updates the student's grade."
   ]
  },
  {
   "cell_type": "code",
<<<<<<< HEAD
   "execution_count": 24,
=======
   "execution_count": 13,
>>>>>>> 68f58ebaba4bb0ec9dbd94963e1992ff4e0c29dd
   "id": "ae352ac0-872d-40e4-a93c-1810374c4244",
   "metadata": {},
   "outputs": [],
   "source": [
<<<<<<< HEAD
    "student = {\n",
    "    \"name\": \"alice\",\n",
    "    \"age\": 21,\n",
    "    \"grade\": \"B+\"\n",
    "}\n",
    "\n",
    "def update_grade(student):\n",
    "    new_grade = input(\"enter new grade:\")\n",
    "    student[\"grade\"] = new_grade\n",
    "    return student"
=======
    "def update_grade(s, new_grade):\n",
    "    s['grade']=new_grade\n",
    "    return s.get('grade')"
   ]
  },
  {
   "cell_type": "code",
   "execution_count": 14,
   "id": "8a21fe41-0f7c-4b71-b566-0e37b85df469",
   "metadata": {},
   "outputs": [
    {
     "data": {
      "text/plain": [
       "'F'"
      ]
     },
     "execution_count": 14,
     "metadata": {},
     "output_type": "execute_result"
    }
   ],
   "source": [
    "update_grade(student_info, \"F\")"
>>>>>>> 68f58ebaba4bb0ec9dbd94963e1992ff4e0c29dd
   ]
  },
  {
   "cell_type": "code",
<<<<<<< HEAD
   "execution_count": 25,
   "id": "8a21fe41-0f7c-4b71-b566-0e37b85df469",
=======
   "execution_count": 15,
   "id": "395d8cec-93db-413e-b493-5817195a4dae",
   "metadata": {},
   "outputs": [
    {
     "name": "stdout",
     "output_type": "stream",
     "text": [
      "{'name': 'Alice', 'grade': 'F'}\n"
     ]
    }
   ],
   "source": [
    "print(student_info)"
   ]
  },
  {
   "cell_type": "markdown",
   "id": "c9eba108-c082-47f2-bc4b-fe380231f2dc",
   "metadata": {},
   "source": [
    "#### use input to get the key name, create an if statement to verfity that they key is valid"
   ]
  },
  {
   "cell_type": "code",
   "execution_count": 19,
   "id": "65153895-38d3-43a2-8ec5-5fa8917bf618",
   "metadata": {},
   "outputs": [
    {
     "name": "stdin",
     "output_type": "stream",
     "text": [
      "Give me the key grade\n"
     ]
    }
   ],
   "source": [
    "key = input(\"Give me the key\")"
   ]
  },
  {
   "cell_type": "markdown",
   "id": "a07579bd-8252-42c6-bd75-91e9d8202b0b",
   "metadata": {},
   "source": [
    "*  **Method 1**"
   ]
  },
  {
   "cell_type": "code",
   "execution_count": 20,
   "id": "2b00751b-7f5d-40ed-8b35-f81213da7776",
   "metadata": {},
   "outputs": [
    {
     "name": "stdout",
     "output_type": "stream",
     "text": [
      "dict_keys(['name', 'grade'])\n"
     ]
    }
   ],
   "source": [
    "k = student_info.keys()\n",
    "print(k)"
   ]
  },
  {
   "cell_type": "code",
   "execution_count": 21,
   "id": "512357b6-e8bd-4028-a55b-dc57f74eab7c",
   "metadata": {},
   "outputs": [
    {
     "name": "stdout",
     "output_type": "stream",
     "text": [
      "the key is valid\n"
     ]
    }
   ],
   "source": [
    "for i in k:\n",
    "    if key == i:\n",
    "        print(\"the key is valid\")"
   ]
  },
  {
   "cell_type": "code",
   "execution_count": 24,
   "id": "20497f83-cf93-4037-83d5-5446ec819a6d",
   "metadata": {},
   "outputs": [],
   "source": [
    "def validation(s, key):\n",
    "    k = student_info.keys()\n",
    "    for i in k:\n",
    "        if key == i:\n",
    "            return True   \n",
    "    return False"
   ]
  },
  {
   "cell_type": "code",
   "execution_count": 26,
   "id": "8961c1b4-4151-49dd-93e3-06ded182775f",
>>>>>>> 68f58ebaba4bb0ec9dbd94963e1992ff4e0c29dd
   "metadata": {},
   "outputs": [
    {
     "data": {
      "text/plain": [
       "{'name': 'alice', 'age': 21, 'grade': 'd'}"
      ]
     },
<<<<<<< HEAD
     "execution_count": 25,
=======
     "execution_count": 26,
>>>>>>> 68f58ebaba4bb0ec9dbd94963e1992ff4e0c29dd
     "metadata": {},
     "output_type": "execute_result"
    }
   ],
   "source": [
<<<<<<< HEAD
    "update_grade(student)\n"
   ]
  },
  {
   "cell_type": "code",
   "execution_count": 22,
   "id": "585adca8",
   "metadata": {},
   "outputs": [
    {
     "name": "stdout",
     "output_type": "stream",
     "text": [
      "dict_keys(['name', 'age', 'grade', ''])\n"
     ]
    }
   ],
   "source": [
    "def verify(student):\n",
    "   \n",
    "    \n",
    "    v=student.keys()\n",
    "    print(v)\n",
    "verify(student)\n",
    "\n"
=======
    "validation(student_info, \"grad\")"
   ]
  },
  {
   "cell_type": "markdown",
   "id": "f7bd9e62-0f41-47f5-ad6e-36e571221405",
   "metadata": {},
   "source": [
    "* **remove comman keys between two dictionaries**"
>>>>>>> 68f58ebaba4bb0ec9dbd94963e1992ff4e0c29dd
   ]
  },
  {
   "cell_type": "code",
<<<<<<< HEAD
   "execution_count": 41,
   "id": "6efa8548",
   "metadata": {},
   "outputs": [
    {
     "name": "stdout",
     "output_type": "stream",
     "text": [
      "dict_keys(['name', 'age', 'grade', '', 'gradee'])\n"
     ]
    },
    {
     "data": {
      "text/plain": [
       "False"
      ]
     },
     "execution_count": 41,
     "metadata": {},
     "output_type": "execute_result"
    }
   ],
   "source": [
    "v=student.keys()\n",
    "print(v)\n",
    "def valid(v):\n",
    "    key=input()\n",
    "    for i in v:\n",
    "        if key==i:\n",
    "\n",
    "            return True\n",
    "    return False\n",
    "\n",
    "valid(v)\n",
    "\n",
    "    \n",
    "\n",
    "\n",
    "   \n",
    "    \n",
    "\n",
    "    \n"
   ]
  },
  {
   "cell_type": "code",
   "execution_count": null,
   "id": "8d9126dd",
   "metadata": {},
   "outputs": [],
   "source": []
=======
   "execution_count": 27,
   "id": "390d63ba-0df7-4d9d-996a-be6994533d6e",
   "metadata": {},
   "outputs": [],
   "source": [
    "def remove_comman(d1, d2):\n",
    "    # step-1\n",
    "    k1 = d1.keys()\n",
    "    k2 = d2.keys()\n",
    "    #step-2\n",
    "    comman_keys = []\n",
    "    for i in k1:\n",
    "        for j in k2:\n",
    "            if i == j:\n",
    "                comman_keys.append(i)\n",
    "    #step-3\n",
    "    for i in comman_keys:\n",
    "        d1.pop(i)\n",
    "        d2.pop(i)\n",
    "        "
   ]
  },
  {
   "cell_type": "code",
   "execution_count": 30,
   "id": "dac1cd60-ce9a-4d7c-84bf-d1601086a1c9",
   "metadata": {},
   "outputs": [],
   "source": [
    "d1 = {\"a\": 3,\"b\": 3,\"c\": 3,\"d\": 3,\"e\": 3}\n",
    "d2 = {\"x\": 3,\"b\": 3,\"z\": 3,\"y\": 3,\"a\": 3}"
   ]
  },
  {
   "cell_type": "code",
   "execution_count": 31,
   "id": "8bfecb76-0f16-4c3f-8c9a-71814bacac5e",
   "metadata": {},
   "outputs": [],
   "source": [
    "remove_comman(d1,d2)"
   ]
  },
  {
   "cell_type": "code",
   "execution_count": 32,
   "id": "cd594d9b-5e06-4044-a4cf-b029df3de611",
   "metadata": {},
   "outputs": [
    {
     "name": "stdout",
     "output_type": "stream",
     "text": [
      "{'c': 3, 'd': 3, 'e': 3} {'x': 3, 'z': 3, 'y': 3}\n"
     ]
    }
   ],
   "source": [
    "print(d1, d2)"
   ]
>>>>>>> 68f58ebaba4bb0ec9dbd94963e1992ff4e0c29dd
  },
  {
   "cell_type": "markdown",
   "id": "7d2f048d-02ec-43b9-8794-d301664bebf3",
   "metadata": {},
   "source": [
    "## Exercise 3: Looping Through a Dictionary"
   ]
  },
  {
   "cell_type": "markdown",
   "id": "13ab859f-0a66-4116-b772-d21fa5025f80",
   "metadata": {},
   "source": [
    "#### Write a function print_student_info(student) that prints each key and value in the student dictionary."
   ]
  },
  {
   "cell_type": "code",
<<<<<<< HEAD
   "execution_count": 68,
=======
   "execution_count": 33,
>>>>>>> 68f58ebaba4bb0ec9dbd94963e1992ff4e0c29dd
   "id": "28d3361e-b44e-4ab9-9553-240df216d34a",
   "metadata": {},
   "outputs": [],
   "source": [
<<<<<<< HEAD
    "student = {\n",
    "    \"name\": \"alice\",\n",
    "    \"age\": 21,\n",
    "    \"grade\": \"B+\"\n",
    "}\n",
    "\n",
    "def print_student_info(student):\n",
    "    k=student.keys()\n",
    "    for i in k:\n",
    "        print(i,student[i])\n",
    "\n"
=======
    "def print_student_info(d):\n",
    "    k = d.keys()\n",
    "    for i in k:\n",
    "        print(i, d[i])"
>>>>>>> 68f58ebaba4bb0ec9dbd94963e1992ff4e0c29dd
   ]
  },
  {
   "cell_type": "code",
<<<<<<< HEAD
   "execution_count": 69,
=======
   "execution_count": 34,
>>>>>>> 68f58ebaba4bb0ec9dbd94963e1992ff4e0c29dd
   "id": "e2d170cc-deb7-40ec-8a66-2dec19aa072f",
   "metadata": {},
   "outputs": [
    {
     "name": "stdout",
     "output_type": "stream",
     "text": [
<<<<<<< HEAD
      "name alice\n",
      "age 21\n",
      "grade B+\n"
=======
      "name Alice\n",
      "grade F\n"
>>>>>>> 68f58ebaba4bb0ec9dbd94963e1992ff4e0c29dd
     ]
    }
   ],
   "source": [
<<<<<<< HEAD
    "print_student_info(student)"
=======
    "print_student_info(student_info)"
>>>>>>> 68f58ebaba4bb0ec9dbd94963e1992ff4e0c29dd
   ]
  },
  {
   "cell_type": "code",
   "execution_count": null,
   "id": "2b341e1f-47a4-47f6-8e5d-10fd12547b39",
   "metadata": {},
   "outputs": [],
   "source": []
  },
  {
   "cell_type": "markdown",
   "id": "3e2a2dc6-01e1-41a1-b30a-ffc95243c617",
   "metadata": {},
   "source": [
    "## Exercise 4: Dictionary of Dictionaries"
   ]
  },
  {
   "cell_type": "markdown",
   "id": "244c5ca5-8f0b-44a7-bec6-e72f5ac444dc",
   "metadata": {},
   "source": [
    "#### Create a dictionary **class_info** where each key is a student’s name and the value is another dictionary containing the student’s age and grade:"
   ]
  },
  {
   "cell_type": "code",
<<<<<<< HEAD
   "execution_count": 71,
=======
   "execution_count": null,
>>>>>>> 68f58ebaba4bb0ec9dbd94963e1992ff4e0c29dd
   "id": "c675c600-e910-4392-8a4a-e9e1ed80d4d8",
   "metadata": {},
   "outputs": [
    {
     "name": "stdout",
     "output_type": "stream",
     "text": [
      "{'youcef': {'age': 22, 'grade': 'A'}, 'amir': {'age': 23, 'grade': 'B'}}\n"
     ]
    }
   ],
   "source": [
    "class_info = {\n",
    "    \"youcef\":{\n",
    "        \"age\": 22,\n",
    "        \"grade\": \"A\",\n",
    "    },\n",
    "    \"amir\":{\n",
    "        \"age\": 23,\n",
    "        \"grade\": \"B\",\n",
    "    }\n",
    "}\n",
    "print(class_info)\n",
    "\n"
   ]
  },
  {
   "cell_type": "code",
   "execution_count": null,
   "id": "e07740dc-25ee-48dd-ba28-bb7c8ab72adc",
   "metadata": {},
   "outputs": [],
   "source": []
  },
  {
   "cell_type": "code",
   "execution_count": null,
   "id": "ddce562e-3f12-4d72-941d-b8b22d453194",
   "metadata": {},
   "outputs": [],
   "source": []
  },
  {
   "cell_type": "code",
   "execution_count": null,
   "id": "c9137a5d-2196-489c-87cb-c033718f1525",
   "metadata": {},
   "outputs": [],
   "source": []
  },
  {
   "cell_type": "markdown",
   "id": "cb9de759-6746-466c-bd16-d5a06c9a6b75",
   "metadata": {},
   "source": [
    "#### Write a function **get_student_grade(class_info, student_name)** that takes the class_info dictionary and a student_name, and returns the student's grade."
   ]
  },
  {
   "cell_type": "code",
   "execution_count": null,
   "id": "d69ac87e-57a1-418b-b981-97ed05f73155",
   "metadata": {},
   "outputs": [],
   "source": [
    "def combined(class_info,student_name):\n"
   ]
  },
  {
   "cell_type": "code",
   "execution_count": null,
   "id": "5232ed8f-3752-47e1-825d-bb278573a469",
   "metadata": {},
   "outputs": [],
   "source": []
  }
 ],
 "metadata": {
  "kernelspec": {
   "display_name": "Python 3",
   "language": "python",
   "name": "python3"
  },
  "language_info": {
   "codemirror_mode": {
    "name": "ipython",
    "version": 3
   },
   "file_extension": ".py",
   "mimetype": "text/x-python",
   "name": "python",
   "nbconvert_exporter": "python",
   "pygments_lexer": "ipython3",
   "version": "3.12.4"
  }
 },
 "nbformat": 4,
 "nbformat_minor": 5
}
