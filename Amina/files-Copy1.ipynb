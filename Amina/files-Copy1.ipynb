{
 "cells": [
  {
   "cell_type": "markdown",
   "id": "70772039-0ab1-4b9f-aad8-1e77753a0a17",
   "metadata": {},
   "source": [
    "# Path:"
   ]
  },
  {
   "cell_type": "code",
   "execution_count": 2,
   "id": "2780f0b3-a9c5-4b61-9226-63cb82b8bd8b",
   "metadata": {},
   "outputs": [],
   "source": [
    "from pathlib import Path"
   ]
  },
  {
   "cell_type": "code",
   "execution_count": 6,
   "id": "ad07ca7c-27c6-45fc-85c8-bc6bde8628e8",
   "metadata": {},
   "outputs": [],
   "source": [
    " p = Path(\"/home/python-course/session-4/\")"
   ]
  },
  {
   "cell_type": "code",
   "execution_count": 7,
   "id": "4ca081b4-b810-460f-9f71-59f82f2f8be7",
   "metadata": {},
   "outputs": [
    {
     "name": "stdout",
     "output_type": "stream",
     "text": [
      "/home/python-course/session-4\n"
     ]
    }
   ],
   "source": [
    "print(p)"
   ]
  },
  {
   "cell_type": "code",
   "execution_count": 23,
   "id": "6a4e9b3a-d305-4567-8015-f50ea85268dc",
   "metadata": {},
   "outputs": [
    {
     "name": "stdout",
     "output_type": "stream",
     "text": [
      "c:/Users/Al/Download/accounts.txt\n",
      "c:/Users/Al/Download/details.csv\n",
      "c:/Users/Al/Download/invite.docx\n"
     ]
    }
   ],
   "source": []
  },
  {
   "cell_type": "markdown",
   "id": "70c64699-1c30-4e55-bbae-3a3112468495",
   "metadata": {},
   "source": [
    "### concatenate **Path** instances."
   ]
  },
  {
   "cell_type": "code",
   "execution_count": 12,
   "id": "28078566-013e-468e-b467-b9015af9a713",
   "metadata": {},
   "outputs": [
    {
     "data": {
      "text/plain": [
       "PosixPath('/home/python-course/session-4/secret/files.ipynb')"
      ]
     },
     "execution_count": 12,
     "metadata": {},
     "output_type": "execute_result"
    }
   ],
   "source": [
    "p / \"secret\" / \"files.ipynb\""
   ]
  },
  {
   "cell_type": "code",
   "execution_count": 10,
   "id": "f0f93ad0-a201-428c-9df0-d16fad703cac",
   "metadata": {},
   "outputs": [
    {
     "data": {
      "text/plain": [
       "PosixPath('/home/python-course/session-4/disctionary-functions.ipynb')"
      ]
     },
     "execution_count": 10,
     "metadata": {},
     "output_type": "execute_result"
    }
   ],
   "source": [
    "p / \"disctionary-functions.ipynb\""
   ]
  },
  {
   "cell_type": "code",
   "execution_count": 13,
   "id": "3eba33d5-5b5e-4160-9cfc-26623bf174ab",
   "metadata": {},
   "outputs": [
    {
     "data": {
      "text/plain": [
       "PosixPath('/home/python-course/session-4/secret/files.ipynb')"
      ]
     },
     "execution_count": 13,
     "metadata": {},
     "output_type": "execute_result"
    }
   ],
   "source": [
    "Path.joinpath(p, \"secret\",\"files.ipynb\")"
   ]
  },
  {
   "cell_type": "code",
   "execution_count": 15,
   "id": "782d81ca-81bf-4f20-a983-940a8491c12b",
   "metadata": {},
   "outputs": [
    {
     "name": "stdout",
     "output_type": "stream",
     "text": [
      "/home/python-course/session-4/first.txt\n",
      "/home/python-course/session-4/second.txt\n",
      "/home/python-course/session-4/third.txt\n"
     ]
    }
   ],
   "source": [
    "\n",
    "files_list = ['first.txt', 'second.txt', 'third.txt']\n",
    "for file_name in files_list:\n",
    "    print( p / file_name )"
   ]
  },
  {
   "cell_type": "code",
   "execution_count": 39,
   "id": "c6073596-1b30-4ef6-941b-42815b29bd8c",
   "metadata": {},
   "outputs": [
    {
     "data": {
      "text/plain": [
       "'C:\\\\Users\\\\Al\\\\spam'"
      ]
     },
     "execution_count": 39,
     "metadata": {},
     "output_type": "execute_result"
    }
   ],
   "source": []
  },
  {
   "cell_type": "code",
   "execution_count": 22,
   "id": "5b7eee0b-596d-4662-af4f-4689e87d4bfb",
   "metadata": {},
   "outputs": [
    {
     "name": "stdout",
     "output_type": "stream",
     "text": [
      "/home/session-4/files.ipynb\n"
     ]
    }
   ],
   "source": [
    "import sys\n",
    "homeFolder = \"/home\"\n",
    "subFolder  = \"session-4\"\n",
    "fileName   = \"files.ipynb\"\n",
    "\n",
    "if sys.platform == \"windows\":\n",
    "    print('\\\\'.join([homeFolder, subFolder, fileName]))\n",
    "elif sys.platform == \"linux\" or sys.platform == \"macos\":\n",
    "    print('/'.join([homeFolder, subFolder, fileName]))"
   ]
  },
  {
   "cell_type": "markdown",
   "id": "ebfc7c62-97f9-4bbc-843e-924d33698025",
   "metadata": {},
   "source": [
    "### instead of using this pattern, use Path() and /, as it finds ur os and picks the right one / or \\"
   ]
  },
  {
   "cell_type": "code",
   "execution_count": 23,
   "id": "cac4e830-d994-4f82-b51a-e3ddcf24ace1",
   "metadata": {},
   "outputs": [
    {
     "data": {
      "text/plain": [
       "PosixPath('/home/session-4/files.ipynb')"
      ]
     },
     "execution_count": 23,
     "metadata": {},
     "output_type": "execute_result"
    }
   ],
   "source": [
    "Path(\"/home\") / \"session-4\" / \"files.ipynb\""
   ]
  },
  {
   "cell_type": "markdown",
   "id": "a2635822-0fda-4a07-86df-e9cc4514f83c",
   "metadata": {},
   "source": [
    "## Current Working Dir:"
   ]
  },
  {
   "cell_type": "code",
   "execution_count": 24,
   "id": "72f3ccb5-2e1d-4ac8-b7d7-b3ca8ee0ff52",
   "metadata": {},
   "outputs": [
    {
     "data": {
      "text/plain": [
       "PosixPath('/home/hambz/remote-python-course/session-4')"
      ]
     },
     "execution_count": 24,
     "metadata": {},
     "output_type": "execute_result"
    }
   ],
   "source": [
    "Path.cwd()"
   ]
  },
  {
   "cell_type": "code",
   "execution_count": 25,
   "id": "2a57854d-88b4-4b06-a1ee-23d2e3e46357",
   "metadata": {},
   "outputs": [
    {
     "data": {
      "text/plain": [
       "PosixPath('/home/hambz/remote-python-course/session-4/files-Copy1.ipynb')"
      ]
     },
     "execution_count": 25,
     "metadata": {},
     "output_type": "execute_result"
    }
   ],
   "source": [
    "Path.cwd() / \"files-Copy1.ipynb\""
   ]
  },
  {
   "cell_type": "markdown",
   "id": "515a8f73-6caf-4c0c-b487-3db15b146e91",
   "metadata": {},
   "source": [
    "## Home Directory:"
   ]
  },
  {
   "cell_type": "code",
   "execution_count": 26,
   "id": "7442c7e5-65ab-44ab-bc11-567cced3ce82",
   "metadata": {},
   "outputs": [
    {
     "data": {
      "text/plain": [
       "PosixPath('/home/hambz')"
      ]
     },
     "execution_count": 26,
     "metadata": {},
     "output_type": "execute_result"
    }
   ],
   "source": [
    "Path.home()"
   ]
  },
  {
   "cell_type": "markdown",
   "id": "f9decdf5-1a78-4715-a6b1-abd20e4999c5",
   "metadata": {},
   "source": [
    "## Creating New Folders using os.makedirs()"
   ]
  },
  {
   "cell_type": "code",
   "execution_count": 27,
   "id": "f53a12db-7a99-44ed-b257-aca557e0099c",
   "metadata": {},
   "outputs": [
    {
     "data": {
      "text/plain": [
       "['dictionary_functions.ipynb',\n",
       " 'files-Copy1.ipynb',\n",
       " 'dictionary_functions-Copy1.ipynb',\n",
       " 'files.ipynb',\n",
       " '.ipynb_checkpoints']"
      ]
     },
     "execution_count": 27,
     "metadata": {},
     "output_type": "execute_result"
    }
   ],
   "source": [
    "import os\n",
    "\n",
    "os.listdir()"
   ]
  },
  {
   "cell_type": "code",
   "execution_count": 30,
   "id": "0e2c4e25-f7b0-45e6-afd3-4f9a8a4936a3",
   "metadata": {},
   "outputs": [],
   "source": [
    "\n",
    "z = Path.cwd() / \"test2\""
   ]
  },
  {
   "cell_type": "code",
   "execution_count": 31,
   "id": "d1d6d0f6-74e8-4c46-8c05-8f83cac24a69",
   "metadata": {},
   "outputs": [
    {
     "name": "stdout",
     "output_type": "stream",
     "text": [
      "/home/hambz/remote-python-course/session-4/test2\n"
     ]
    }
   ],
   "source": [
    "print(z)"
   ]
  },
  {
   "cell_type": "code",
   "execution_count": 32,
   "id": "77ca8141-0b9a-44ea-bc68-c15b28a8fdd1",
   "metadata": {},
   "outputs": [],
   "source": [
    "z.mkdir()"
   ]
  },
  {
   "cell_type": "code",
   "execution_count": 33,
   "id": "1f4c9717-bdb0-4028-8884-3cc47d592848",
   "metadata": {},
   "outputs": [
    {
     "data": {
      "text/plain": [
       "['dictionary_functions.ipynb',\n",
       " 'files-Copy1.ipynb',\n",
       " 'test2',\n",
       " 'dictionary_functions-Copy1.ipynb',\n",
       " 'files.ipynb',\n",
       " '.ipynb_checkpoints']"
      ]
     },
     "execution_count": 33,
     "metadata": {},
     "output_type": "execute_result"
    }
   ],
   "source": [
    "os.listdir()"
   ]
  },
  {
   "cell_type": "markdown",
   "id": "b9ec537d-ba64-4b4f-9dfb-895db305c07a",
   "metadata": {},
   "source": [
    "### To make a directory from a Path object, call the mkdir() method"
   ]
  },
  {
   "cell_type": "code",
   "execution_count": 54,
   "id": "5026813d-0a30-489b-a68b-4e9efce64c1f",
   "metadata": {},
   "outputs": [],
   "source": [
    "Path.mkdir()"
   ]
  },
  {
   "cell_type": "markdown",
   "id": "16f63bdd-2f81-4cfe-ac42-d69006f33597",
   "metadata": {},
   "source": [
    "## Handling Absolute and Relative Paths:"
   ]
  },
  {
   "cell_type": "code",
   "execution_count": 39,
   "id": "6a0308b0-a34f-4b10-a8e9-076bf8466a0b",
   "metadata": {},
   "outputs": [],
   "source": [
    "p = p /'files.ipynb'"
   ]
  },
  {
   "cell_type": "code",
   "execution_count": 42,
   "id": "8c6ccebc-8398-4440-82fc-c73eb24897e1",
   "metadata": {},
   "outputs": [
    {
     "data": {
      "text/plain": [
       "False"
      ]
     },
     "execution_count": 42,
     "metadata": {},
     "output_type": "execute_result"
    }
   ],
   "source": [
    "p.is_relative_to('/Desktop')"
   ]
  },
  {
   "cell_type": "code",
   "execution_count": 56,
   "id": "2c1c7882-50e8-427d-b770-2fe9dcf7aa43",
   "metadata": {},
   "outputs": [
    {
     "data": {
      "text/plain": [
       "PosixPath('my/relative/path')"
      ]
     },
     "execution_count": 56,
     "metadata": {},
     "output_type": "execute_result"
    }
   ],
   "source": []
  },
  {
   "cell_type": "code",
   "execution_count": 57,
   "id": "b2b070b5-a41e-4d22-b380-ad03f42c98e7",
   "metadata": {},
   "outputs": [
    {
     "data": {
      "text/plain": [
       "PosixPath('/home/hambz/ai-workshop/week-group/python-group/session-4/my/relative/path')"
      ]
     },
     "execution_count": 57,
     "metadata": {},
     "output_type": "execute_result"
    }
   ],
   "source": []
  },
  {
   "cell_type": "markdown",
   "id": "6286a5dd-dc68-4328-b7db-e21af45f39bf",
   "metadata": {},
   "source": [
    "**Calling os.path.abspath(path) will return a string of the absolute path\n",
    "of the argument.**"
   ]
  },
  {
   "cell_type": "code",
   "execution_count": 43,
   "id": "25469bc7-9ab6-4fff-b6f6-05ad144c2004",
   "metadata": {},
   "outputs": [
    {
     "data": {
      "text/plain": [
       "PosixPath('/home/hambz/remote-python-course/session-4')"
      ]
     },
     "execution_count": 43,
     "metadata": {},
     "output_type": "execute_result"
    }
   ],
   "source": [
    "Path.cwd()"
   ]
  },
  {
   "cell_type": "code",
   "execution_count": 44,
   "id": "59f8398a-9ca2-4f82-9b65-e8461ec6a9c4",
   "metadata": {},
   "outputs": [
    {
     "data": {
      "text/plain": [
       "['dictionary_functions.ipynb',\n",
       " 'files-Copy1.ipynb',\n",
       " 'test2',\n",
       " 'dictionary_functions-Copy1.ipynb',\n",
       " 'files.ipynb',\n",
       " '.ipynb_checkpoints']"
      ]
     },
     "execution_count": 44,
     "metadata": {},
     "output_type": "execute_result"
    }
   ],
   "source": [
    "os.listdir()"
   ]
  },
  {
   "cell_type": "code",
   "execution_count": 45,
   "id": "40b7e401-b80c-427f-b116-2f4ae3cf9db7",
   "metadata": {},
   "outputs": [
    {
     "data": {
      "text/plain": [
       "'/home/hambz/remote-python-course/session-4/files.ipynb'"
      ]
     },
     "execution_count": 45,
     "metadata": {},
     "output_type": "execute_result"
    }
   ],
   "source": [
    "os.path.abspath('files.ipynb')"
   ]
  },
  {
   "cell_type": "code",
   "execution_count": 46,
   "id": "adbdb399-57b7-4c7c-9453-55c58d311673",
   "metadata": {},
   "outputs": [
    {
     "data": {
      "text/plain": [
       "'files.ipynb'"
      ]
     },
     "execution_count": 46,
     "metadata": {},
     "output_type": "execute_result"
    }
   ],
   "source": [
    "os.path.relpath('files.ipynb')"
   ]
  },
  {
   "cell_type": "markdown",
   "id": "12b93401-f040-4ced-8a5e-781213358c10",
   "metadata": {},
   "source": [
    "### Changing Current Working Directory"
   ]
  },
  {
   "cell_type": "code",
   "execution_count": 47,
   "id": "f7964754-08d9-4980-aa43-361a2da0daec",
   "metadata": {},
   "outputs": [],
   "source": [
    "os.chdir(\"../..\")"
   ]
  },
  {
   "cell_type": "code",
   "execution_count": 48,
   "id": "f21e660e-8b08-469b-86d2-bab70bb315d3",
   "metadata": {},
   "outputs": [
    {
     "data": {
      "text/plain": [
       "PosixPath('/home/hambz')"
      ]
     },
     "execution_count": 48,
     "metadata": {},
     "output_type": "execute_result"
    }
   ],
   "source": [
    "Path.cwd()"
   ]
  },
  {
   "cell_type": "code",
   "execution_count": 49,
   "id": "895b80ed-3699-4cf5-bb42-dec4941c1d75",
   "metadata": {},
   "outputs": [],
   "source": [
    "os.chdir('./remote-python-course/session-4')"
   ]
  },
  {
   "cell_type": "code",
   "execution_count": 50,
   "id": "f2f6fcd5-f132-4c27-a82a-e0d229a0e420",
   "metadata": {},
   "outputs": [
    {
     "data": {
      "text/plain": [
       "PosixPath('/home/hambz/remote-python-course/session-4')"
      ]
     },
     "execution_count": 50,
     "metadata": {},
     "output_type": "execute_result"
    }
   ],
   "source": [
    "Path.cwd()"
   ]
  },
  {
   "cell_type": "markdown",
   "id": "c685ef4f-941f-4e43-8d67-975e2f56587c",
   "metadata": {},
   "source": [
    "## Finding File Sizes and Folder Contents:"
   ]
  },
  {
   "cell_type": "code",
   "execution_count": 52,
   "id": "2957078e-1d1c-43c9-8cb9-9f9bbd285e8e",
   "metadata": {},
   "outputs": [
    {
     "data": {
      "text/plain": [
       "21140"
      ]
     },
     "execution_count": 52,
     "metadata": {},
     "output_type": "execute_result"
    }
   ],
   "source": [
    "os.path.getsize(Path.cwd()/ 'files.ipynb')"
   ]
  },
  {
   "cell_type": "code",
   "execution_count": 56,
   "id": "44e97b23-a9ab-4fa9-ae0e-a4b6736dda05",
   "metadata": {},
   "outputs": [
    {
     "name": "stdout",
     "output_type": "stream",
     "text": [
      "test2\n",
      ".ipynb_checkpoints\n"
     ]
    }
   ],
   "source": [
    "for file_name in os.listdir():\n",
    "    if os.path.getsize(file_name) == 4096:\n",
    "        print(file_name)"
   ]
  },
  {
   "cell_type": "code",
   "execution_count": 75,
   "id": "94c4202e-7429-4c35-8989-9b91382e6f46",
   "metadata": {},
   "outputs": [],
   "source": [
    "os.chdir('/home/hambz/remote-python-course/session-4')"
   ]
  },
  {
   "cell_type": "code",
   "execution_count": 76,
   "id": "abd5d0c0-ad27-4cb3-b949-fd10fe7b88cb",
   "metadata": {},
   "outputs": [],
   "source": [
    "def list_files(path):\n",
    "    for file_name in os.listdir(path):\n",
    "        if os.path.getsize(path / file_name) != 4096:\n",
    "            print(file_name)"
   ]
  },
  {
   "cell_type": "code",
   "execution_count": 78,
   "id": "353cec2b-d87b-464f-a076-09612b27062e",
   "metadata": {},
   "outputs": [
    {
     "name": "stdout",
     "output_type": "stream",
     "text": [
      "Al Sweigart - Automate The Boring Stuff With Python_ Practical Programming For Total Beginners (2019, No Starch Press) - libgen.li.pdf\n",
      "Bill Lubanovic - Introducing Python_ Modern Computing in Simple Packages (2019, O’Reilly Media) - libgen.li.epub\n",
      "oop.png\n",
      "func_practice-Copy1.ipynb\n",
      "blueprint.jpeg\n",
      "oo.png\n",
      "Scallingdata-Encoding-Copy1.ipynb\n",
      "linear_regression.html\n",
      "inheritance.png\n",
      "inheritance-2.jpeg\n",
      "corr.png\n",
      "Vikings.S01E01.Rites.Of.Passage.1080p.BluRay.x264.DD5.1-Pahe.in.mkv\n",
      "FIAG785542681.pdf\n",
      "Vikings.S01E01.Rites.Of.Passage.1080p.BluRay.x264.DD5.1-Pahe.in.zip\n",
      "LPI-Learning-Material-101-500-en.pdf\n",
      "project.ipynb-20241029T145622Z-001.zip\n",
      "Bill Lubanovic - Introducing Python_ Modern Computing in Simple Packages (2019, O'Reilly Media) - libgen.li.pdf\n",
      "Scallingdata-Encoding-Copy1(1).ipynb\n",
      "alae_cv.pdf\n",
      "Python-HomeWork-1(1).ipynb\n",
      "tailwind-css-dark.pdf\n",
      "python.pptx.pdf\n",
      "project.ipynb\n",
      "tailwind-css.pdf\n",
      "same.png\n",
      "HomeWork.ipynb\n"
     ]
    }
   ],
   "source": [
    "p = Path('/home/hambz/Downloads')\n",
    "list_files(p)"
   ]
  },
  {
   "cell_type": "code",
   "execution_count": 60,
   "id": "a20ecbeb-aa6c-40b1-8b03-203e454dd440",
   "metadata": {},
   "outputs": [],
   "source": [
    "def list_dirs():\n",
    "    for file_name in os.listdir():\n",
    "        if os.path.getsize(file_name) == 4096:\n",
    "            print(file_name)"
   ]
  },
  {
   "cell_type": "code",
   "execution_count": 62,
   "id": "1d9e5f22-8036-46e2-bdde-0426e4f23548",
   "metadata": {},
   "outputs": [
    {
     "name": "stdout",
     "output_type": "stream",
     "text": [
      "test2\n",
      ".ipynb_checkpoints\n"
     ]
    }
   ],
   "source": [
    "list_dirs()"
   ]
  },
  {
   "cell_type": "code",
   "execution_count": null,
   "id": "d9b1bd99-58fe-4692-89f7-faebc09b997d",
   "metadata": {},
   "outputs": [],
   "source": []
  },
  {
   "cell_type": "markdown",
   "id": "253bb972-062c-47b4-9ef3-94b943703c10",
   "metadata": {},
   "source": [
    "## The File Reading/Writing Process:"
   ]
  },
  {
   "cell_type": "markdown",
   "id": "ad3daa85-9028-44b4-b61e-6d1296005acf",
   "metadata": {},
   "source": [
    "### Opening Files with the open() Function:"
   ]
  },
  {
   "cell_type": "code",
   "execution_count": 75,
   "id": "ac666e36-08bf-4e74-a2c7-d3c510ac1e7e",
   "metadata": {},
   "outputs": [],
   "source": []
  },
  {
   "cell_type": "markdown",
   "id": "fc938dbf-d181-424b-ad9f-81fa0c2f6943",
   "metadata": {},
   "source": [
    "### Reading the Contents of Files:"
   ]
  },
  {
   "cell_type": "code",
   "execution_count": 76,
   "id": "7a045b99-c845-4be9-9752-8b3155b919fa",
   "metadata": {},
   "outputs": [],
   "source": []
  },
  {
   "cell_type": "code",
   "execution_count": 83,
   "id": "9cdd9e14-d65a-4489-a6d9-5cdf74168586",
   "metadata": {},
   "outputs": [
    {
     "name": "stdout",
     "output_type": "stream",
     "text": [
      "\n",
      "\n",
      "What is Lorem Ipsum?\n",
      "\n",
      "\n",
      "\n",
      "Lorem Ipsum is simply dummy text of the printing and typesetting industry. Lorem Ipsum has been the industry's standard dummy text ever since the 1500s, when an unknown printer took a galley of type and scrambled it to make a type specimen book. It has survived not only five centuries, but also the leap into electronic typesetting, remaining essentially unchanged. It was popularised in the 1960s with the release of Letraset sheets containing Lorem Ipsum passages, and more recently with desktop publishing software like Aldus PageMaker including versions of Lorem Ipsum.\n",
      "\n",
      "Why do we use it?\n",
      "\n",
      "\n",
      "\n",
      "It is a long established fact that a reader will be distracted by the readable content of a page when looking at its layout. The point of using Lorem Ipsum is that it has a more-or-less normal distribution of letters, as opposed to using 'Content here, content here', making it look like readable English. Many desktop publishing packages and web page editors now use Lorem Ipsum as their default model text, and a search for 'lorem ipsum' will uncover many web sites still in their infancy. Various versions have evolved over the years, sometimes by accident, sometimes on purpose (injected humour and the like).\n",
      "\n",
      "\n",
      "\n",
      "Where does it come from?\n",
      "\n",
      "\n",
      "\n",
      "Contrary to popular belief, Lorem Ipsum is not simply random text. It has roots in a piece of classical Latin literature from 45 BC, making it over 2000 years old. Richard McClintock, a Latin professor at Hampden-Sydney College in Virginia, looked up one of the more obscure Latin words, consectetur, from a Lorem Ipsum passage, and going through the cites of the word in classical literature, discovered the undoubtable source. Lorem Ipsum comes from sections 1.10.32 and 1.10.33 of \"de Finibus Bonorum et Malorum\" (The Extremes of Good and Evil) by Cicero, written in 45 BC. This book is a treatise on the theory of ethics, very popular during the Renaissance. The first line of Lorem Ipsum, \"Lorem ipsum dolor sit amet..\", comes from a line in section 1.10.32.\n",
      "\n",
      "\n",
      "\n",
      "The standard chunk of Lorem Ipsum used since the 1500s is reproduced below for those interested. Sections 1.10.32 and 1.10.33 from \"de Finibus Bonorum et Malorum\" by Cicero are also reproduced in their exact original form, accompanied by English versions from the 1914 translation by H. Rackham.\n",
      "\n",
      "\n",
      "\n"
     ]
    }
   ],
   "source": []
  },
  {
   "cell_type": "markdown",
   "id": "91c5b8fe-77ec-4ce8-b1b5-7c98f9533a1e",
   "metadata": {},
   "source": [
    "### Writing to Files:"
   ]
  },
  {
   "cell_type": "code",
   "execution_count": 112,
   "id": "6e4aa20f-7273-4cc7-94af-3b50c2d3a1b4",
   "metadata": {},
   "outputs": [],
   "source": []
  },
  {
   "cell_type": "code",
   "execution_count": 113,
   "id": "3db77b39-4859-4eee-8d84-d0ab2f56367a",
   "metadata": {},
   "outputs": [
    {
     "name": "stdout",
     "output_type": "stream",
     "text": [
      "Hello, world!\n",
      "\n",
      "Hello, world!\n",
      "\n",
      "Hello, world!\n",
      "\n",
      "Hello, world!\n",
      "\n"
     ]
    }
   ],
   "source": []
  },
  {
   "cell_type": "markdown",
   "id": "9fa3eee1-64ea-4463-857d-01e7e4ad53c0",
   "metadata": {},
   "source": [
    "# Exercices-1: Write a program that reads the contents of a file and displays it on the screen."
   ]
  },
  {
   "cell_type": "code",
   "execution_count": null,
   "id": "cbc5c570-546f-46f9-a44b-ea8e0b412fd8",
   "metadata": {},
   "outputs": [],
   "source": []
  },
  {
   "cell_type": "markdown",
   "id": "1788c48d-d237-4681-ba76-70d10d92e5bb",
   "metadata": {},
   "source": [
    "# Exercices-2: Write a program that writes a list of names to a file, then reads and displays the contents of that file."
   ]
  },
  {
   "cell_type": "code",
   "execution_count": null,
   "id": "93bd44eb-6a19-41b0-87a3-3b80fc13b614",
   "metadata": {},
   "outputs": [],
   "source": []
  },
  {
   "cell_type": "markdown",
   "id": "63f1c419-cb13-402a-8cfc-d4b4373d05dd",
   "metadata": {},
   "source": [
    "# Error Handeling:"
   ]
  },
  {
   "cell_type": "code",
   "execution_count": 117,
   "id": "562cf16f-d274-4373-8314-4c52ec7bc235",
   "metadata": {},
   "outputs": [
    {
     "name": "stdout",
     "output_type": "stream",
     "text": [
      "relativity already exists!. That was a close one.\n"
     ]
    }
   ],
   "source": [
    "try:\n",
    "    fout = open('relativity', 'xt')\n",
    "    fout.write('stomp stomp stomp')\n",
    "except FileExistsError:\n",
    "    print('relativity already exists!. That was a close one.')\n",
    "except:\n",
    "    print(\"unexpected\")\n"
   ]
  }
 ],
 "metadata": {
  "kernelspec": {
   "display_name": "Python 3 (ipykernel)",
   "language": "python",
   "name": "python3"
  },
  "language_info": {
   "codemirror_mode": {
    "name": "ipython",
    "version": 3
   },
   "file_extension": ".py",
   "mimetype": "text/x-python",
   "name": "python",
   "nbconvert_exporter": "python",
   "pygments_lexer": "ipython3",
   "version": "3.11.2"
  }
 },
 "nbformat": 4,
 "nbformat_minor": 5
}
