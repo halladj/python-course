{
 "cells": [
  {
   "cell_type": "markdown",
   "id": "a433ccca-d3ab-4cc5-9769-6fe23bc349c8",
   "metadata": {},
   "source": [
    "# 1. Exercise-1: \n",
    "\n",
    " * **Write a Python program that takes a list of numbers as input and prints the sum of all the numbers in the list.**\n",
    "\n"
   ]
  },
  {
   "cell_type": "code",
   "execution_count": 12,
   "id": "088e2798-cfe7-4958-be66-2ae93a444b32",
   "metadata": {
    "scrolled": true
   },
   "outputs": [
    {
     "name": "stdin",
     "output_type": "stream",
     "text": [
      "len of the list 3\n",
      "enter the element of : 0 index 4\n",
      "enter the element of : 1 index 6\n",
      "enter the element of : 2 index 8\n"
     ]
    }
   ],
   "source": [
    "length = input(\"len of the list\")\n",
    "length = int(length)\n",
    "\n",
    "elements = []\n",
    "for i in range(length):\n",
    " elements.append( int(input(f\"enter the element of : {i} index\")) )"
   ]
  },
  {
   "cell_type": "code",
   "execution_count": 13,
   "id": "ffcf5cda-ed4f-4064-a122-5914efdf2e39",
   "metadata": {},
   "outputs": [
    {
     "name": "stdout",
     "output_type": "stream",
     "text": [
      "[4, 6, 8]\n"
     ]
    }
   ],
   "source": [
    "print(elements)"
   ]
  },
  {
   "cell_type": "code",
   "execution_count": 18,
   "id": "ae06f2fd-76a3-44ad-8f5b-d9acdc2562cb",
   "metadata": {},
   "outputs": [],
   "source": [
    "def list_sum(l):\n",
    "    sumation = 0\n",
    "    for i in range(len(l)):\n",
    "        print(f\"iteration number{i+1}: current element={l[i]}, current sum={sumation}\")\n",
    "        sumation = sumation + l[i]"
   ]
  },
  {
   "cell_type": "code",
   "execution_count": 19,
   "id": "d91a82fc-f876-49e2-9b47-f2f0a484f700",
   "metadata": {},
   "outputs": [
    {
     "name": "stdout",
     "output_type": "stream",
     "text": [
      "iteration number1: current element=50, current sum=0\n",
      "iteration number2: current element=42, current sum=50\n",
      "iteration number3: current element=62, current sum=92\n",
      "iteration number4: current element=11, current sum=154\n"
     ]
    }
   ],
   "source": [
    "list_sum([50, 42, 62, 11])"
   ]
  },
  {
   "cell_type": "code",
   "execution_count": 10,
   "id": "42bb0018-a093-4233-bab1-22c24d544f10",
   "metadata": {},
   "outputs": [
    {
     "name": "stdout",
     "output_type": "stream",
     "text": [
      "the sum of the list 58\n"
     ]
    }
   ],
   "source": [
    "list = [3, 5, 8, 10, 32 ]\n",
    "sum = 0\n",
    "for i in list:\n",
    "    sum = sum + i\n",
    "print(\"the sum of the list\", sum)"
   ]
  },
  {
   "cell_type": "code",
   "execution_count": 47,
   "id": "69befecb-d68c-4bcf-af6d-a42273d01bc8",
   "metadata": {},
   "outputs": [],
   "source": [
    "def list_multi(l):\n",
    "    multiplication = 1\n",
    "    for i in range(len(l)):\n",
    "        print(f\"iteration number{i+1}: current element={l[i]}, current mul={multiplication}\")\n",
    "        multiplication = multiplication * l[i]"
   ]
  },
  {
   "cell_type": "code",
   "execution_count": 49,
   "id": "3f95e506-c02e-4474-a8d1-8acc30f484d5",
   "metadata": {},
   "outputs": [
    {
     "name": "stdout",
     "output_type": "stream",
     "text": [
      "iteration number1: current element=2, current mul=1\n",
      "iteration number2: current element=4, current mul=2\n",
      "iteration number3: current element=10, current mul=8\n",
      "iteration number4: current element=12, current mul=80\n"
     ]
    }
   ],
   "source": [
    "list_multi([2, 4, 10, 12])"
   ]
  },
  {
   "cell_type": "markdown",
   "id": "199f27d9-5e1d-4a75-aef3-79410540d474",
   "metadata": {},
   "source": [
    "# 2. Exercise-2: \n",
    "\n",
    " * **Write a Python program that takes a list of numbers and prints only the even numbers from the list.**\n",
    "\n"
   ]
  },
  {
   "cell_type": "code",
   "execution_count": 1,
   "id": "ebe3c2dc-e6ef-490e-98dd-4841a67b1a7e",
   "metadata": {},
   "outputs": [],
   "source": [
    "list = [ 5, 8, 9, 10, 12, 23, 40 ]"
   ]
  },
  {
   "cell_type": "code",
   "execution_count": 2,
   "id": "4dfa6287-8160-42b8-9ba5-44928158e76b",
   "metadata": {},
   "outputs": [
    {
     "name": "stdout",
     "output_type": "stream",
     "text": [
      "5 is odd\n",
      "8 is even\n",
      "9 is odd\n",
      "10 is even\n",
      "12 is even\n",
      "23 is odd\n",
      "40 is even\n"
     ]
    }
   ],
   "source": [
    "for i in list:\n",
    "    if (i%2 == 0):\n",
    "        print (i, \"is even\")\n",
    "    else: \n",
    "        print (i, \"is odd\")"
   ]
  },
  {
   "cell_type": "code",
   "execution_count": 51,
   "id": "62174a99-39f8-4f7a-9c37-d937c2b66408",
   "metadata": {},
   "outputs": [
    {
     "name": "stdout",
     "output_type": "stream",
     "text": [
      "20\n",
      "40\n",
      "60\n"
     ]
    }
   ],
   "source": [
    "numlist = [20, 40, 55, 60]\n",
    "for i in range( len(numlist) ):\n",
    "    if numlist[i] % 2 == 0:\n",
    "        print(numlist[i])"
   ]
  },
  {
   "cell_type": "code",
   "execution_count": 64,
   "id": "eebc8a05-47f1-495f-aeb8-7974c3d60d5c",
   "metadata": {},
   "outputs": [],
   "source": [
    "def even_nums(l):\n",
    "    for i in range( len(l) ):\n",
    "        if l[i] % 2 == 0:\n",
    "            print(l[i])"
   ]
  },
  {
   "cell_type": "code",
   "execution_count": 66,
   "id": "2ef480f0-3d94-4d82-b23e-3a8f365bb4a1",
   "metadata": {},
   "outputs": [
    {
     "name": "stdout",
     "output_type": "stream",
     "text": [
      "2\n",
      "52\n",
      "4\n",
      "20\n",
      "60\n"
     ]
    }
   ],
   "source": [
    "even_nums( [2, 52, 4,41, 20, 60] )"
   ]
  },
  {
   "cell_type": "markdown",
   "id": "af24cb84-6037-45f4-85b6-3cb9475685da",
   "metadata": {},
   "source": [
    "# 3. Exercise-3: \n",
    "\n",
    " * **Write a programe that takes a list of numbers and creates a dictionary where the keys are the numbers and the values are the squares of those numbers**\n",
    "\n"
   ]
  },
  {
   "cell_type": "code",
   "execution_count": null,
   "id": "e260362d-14c4-4623-916b-55baa80f0889",
   "metadata": {},
   "outputs": [],
   "source": []
  },
  {
   "cell_type": "markdown",
   "id": "96f0b7b8-0d6a-4147-9917-1dda174fcfc0",
   "metadata": {},
   "source": [
    "# 4. Exercise-4: \n",
    "\n",
    " * **Write a programe that takes a list and creates a dictionary where the keys are the elements from the list and the values are the number of times each element appears in the list.**\n",
    "\n"
   ]
  },
  {
   "cell_type": "code",
   "execution_count": null,
   "id": "65ab4ef8-4ff6-4301-abf1-d173c69ae180",
   "metadata": {},
   "outputs": [],
   "source": []
  },
  {
   "cell_type": "code",
   "execution_count": null,
   "id": "a26e61a3-8a14-4e98-b855-7cf5c8685ae2",
   "metadata": {},
   "outputs": [],
   "source": []
  },
  {
   "cell_type": "markdown",
   "id": "6b61846f-2a41-4c72-8ad5-d3310bf75826",
   "metadata": {},
   "source": [
    "# 5. Exercise-5: \n",
    "\n",
    " * **Write a program that takes a list of numbers and prints the maximum value from that list without using Python’s built-in max() function. Use a for loop and if statements to compare the elements.**\n",
    "\n"
   ]
  },
  {
   "cell_type": "code",
   "execution_count": 20,
   "id": "69c0f0fe-00c5-4260-bc17-4eb7397d836d",
   "metadata": {},
   "outputs": [],
   "source": [
    "list = [40, 55, 23, 10]"
   ]
  },
  {
   "cell_type": "code",
   "execution_count": 72,
   "id": "7643088d-c3ba-4f04-88b3-3891ab96bed7",
   "metadata": {},
   "outputs": [],
   "source": [
    "def max_in_list(l):\n",
    "    for i in range( len(l) ):\n",
    "        if i > max_in_list:\n",
    "            print(max in list)"
   ]
  },
  {
   "cell_type": "code",
   "execution_count": 73,
   "id": "89ba2d9a-c404-434a-868e-db4fc67f3361",
   "metadata": {},
   "outputs": [
    {
     "ename": "TypeError",
     "evalue": "'>' not supported between instances of 'int' and 'function'",
     "output_type": "error",
     "traceback": [
      "\u001b[1;31m---------------------------------------------------------------------------\u001b[0m",
      "\u001b[1;31mTypeError\u001b[0m                                 Traceback (most recent call last)",
      "Cell \u001b[1;32mIn[73], line 1\u001b[0m\n\u001b[1;32m----> 1\u001b[0m \u001b[43mmax_in_list\u001b[49m\u001b[43m(\u001b[49m\u001b[43m \u001b[49m\u001b[43m[\u001b[49m\u001b[38;5;241;43m10\u001b[39;49m\u001b[43m,\u001b[49m\u001b[43m \u001b[49m\u001b[38;5;241;43m12\u001b[39;49m\u001b[43m,\u001b[49m\u001b[43m \u001b[49m\u001b[38;5;241;43m40\u001b[39;49m\u001b[43m,\u001b[49m\u001b[43m \u001b[49m\u001b[38;5;241;43m55\u001b[39;49m\u001b[43m,\u001b[49m\u001b[43m \u001b[49m\u001b[38;5;241;43m70\u001b[39;49m\u001b[43m]\u001b[49m\u001b[43m \u001b[49m\u001b[43m)\u001b[49m\n",
      "Cell \u001b[1;32mIn[72], line 3\u001b[0m, in \u001b[0;36mmax_in_list\u001b[1;34m(l)\u001b[0m\n\u001b[0;32m      1\u001b[0m \u001b[38;5;28;01mdef\u001b[39;00m \u001b[38;5;21mmax_in_list\u001b[39m(l):\n\u001b[0;32m      2\u001b[0m     \u001b[38;5;28;01mfor\u001b[39;00m i \u001b[38;5;129;01min\u001b[39;00m \u001b[38;5;28mrange\u001b[39m( \u001b[38;5;28mlen\u001b[39m(l) ):\n\u001b[1;32m----> 3\u001b[0m         \u001b[38;5;28;01mif\u001b[39;00m \u001b[43mi\u001b[49m\u001b[43m \u001b[49m\u001b[38;5;241;43m>\u001b[39;49m\u001b[43m \u001b[49m\u001b[43mmax_in_list\u001b[49m:\n\u001b[0;32m      4\u001b[0m             \u001b[38;5;28mprint\u001b[39m(\u001b[38;5;28mmax\u001b[39m \u001b[38;5;129;01min\u001b[39;00m \u001b[38;5;28mlist\u001b[39m)\n",
      "\u001b[1;31mTypeError\u001b[0m: '>' not supported between instances of 'int' and 'function'"
     ]
    }
   ],
   "source": [
    "max_in_list( [10, 12, 40, 55, 70] )"
   ]
  },
  {
   "cell_type": "markdown",
   "id": "d94030a6-d60a-442a-b8e8-678f3a4fe3eb",
   "metadata": {},
   "source": [
    "# 6. Exercise-6: \n",
    "\n",
    " * **Write a program that takes two lists and creates a list of elements that are present in both lists (i.e., the intersection of two lists).**\n",
    "\n"
   ]
  },
  {
   "cell_type": "code",
   "execution_count": null,
   "id": "8712b88e-9721-46cb-86f5-d83510ad0878",
   "metadata": {},
   "outputs": [],
   "source": []
  },
  {
   "cell_type": "markdown",
   "id": "fe5fe892-fe4e-4ab8-8bc0-cbf6419d16e3",
   "metadata": {},
   "source": [
    "# 7. Exercise-7: \n",
    "\n",
    " * **Write a program that takes two dictionaries and creates a new dictionary that combines both. If a key appears in both dictionaries, the values should be added together.**\n",
    "\n"
   ]
  },
  {
   "cell_type": "code",
   "execution_count": null,
   "id": "2a1f9375-c4fc-4847-937d-815896ce8ec3",
   "metadata": {},
   "outputs": [],
   "source": []
  },
  {
   "cell_type": "markdown",
   "id": "63a2730d-fe6f-4493-ba29-b575f678968d",
   "metadata": {},
   "source": [
    "# While Loop"
   ]
  },
  {
   "cell_type": "code",
   "execution_count": null,
   "id": "566d6518-9bb2-47cf-85c8-91e9f8e2cc18",
   "metadata": {},
   "outputs": [],
   "source": []
  },
  {
   "cell_type": "code",
   "execution_count": null,
   "id": "fb949252-8fad-4e46-93e6-09b148ee99fe",
   "metadata": {},
   "outputs": [],
   "source": []
  },
  {
   "cell_type": "code",
   "execution_count": null,
   "id": "9a0154fb-8dba-4a5c-9f71-1406409af975",
   "metadata": {},
   "outputs": [],
   "source": []
  }
 ],
 "metadata": {
  "kernelspec": {
   "display_name": "Python 3 (ipykernel)",
   "language": "python",
   "name": "python3"
  },
  "language_info": {
   "codemirror_mode": {
    "name": "ipython",
    "version": 3
   },
   "file_extension": ".py",
   "mimetype": "text/x-python",
   "name": "python",
   "nbconvert_exporter": "python",
   "pygments_lexer": "ipython3",
   "version": "3.13.0"
  }
 },
 "nbformat": 4,
 "nbformat_minor": 5
}
