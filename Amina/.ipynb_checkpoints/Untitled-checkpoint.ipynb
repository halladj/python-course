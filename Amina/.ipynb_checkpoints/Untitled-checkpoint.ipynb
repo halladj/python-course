{
 "cells": [
  {
   "cell_type": "code",
   "execution_count": 19,
   "id": "e615cbe2-7288-4b16-85af-5c44875fedcc",
   "metadata": {},
   "outputs": [
    {
     "name": "stdin",
     "output_type": "stream",
     "text": [
      " 100\n"
     ]
    }
   ],
   "source": [
    "num1 = input()"
   ]
  },
  {
   "cell_type": "code",
   "execution_count": 23,
   "id": "69c3eb07-ab8c-4fe6-99be-f9d2bb64abe1",
   "metadata": {},
   "outputs": [
    {
     "name": "stdin",
     "output_type": "stream",
     "text": [
      " 100\n"
     ]
    }
   ],
   "source": [
    "num2 = input()"
   ]
  },
  {
   "cell_type": "code",
   "execution_count": 9,
   "id": "d885dab3-4f5f-4779-b1b0-c596cf30532c",
   "metadata": {},
   "outputs": [
    {
     "name": "stdout",
     "output_type": "stream",
     "text": [
      "num1 is not equal num2\n"
     ]
    }
   ],
   "source": [
    "if num1 == num2:\n",
    "    print(\"num1 is equal num2\")\n",
    "else: \n",
    "    print(\"num1 is not equal num2\")"
   ]
  },
  {
   "cell_type": "code",
   "execution_count": 26,
   "id": "1c4b4407-bfcc-4cdd-add1-8f68be026546",
   "metadata": {},
   "outputs": [
    {
     "name": "stdout",
     "output_type": "stream",
     "text": [
      "they are equal\n"
     ]
    }
   ],
   "source": [
    "if (num1 == num2) and (num1 < num2): \n",
    "    print(\"num1 is equal num2, and num1 is greater than num2\")\n",
    "elif num1 == 100:\n",
    "    print(\"num1 == 100\")\n",
    "elif num1 == num2:\n",
    "    print(\"they are equal\")\n",
    "else: \n",
    "    print(\"he is lying\")"
   ]
  },
  {
   "cell_type": "code",
   "execution_count": 29,
   "id": "0c333193-a539-40c1-b78e-bcc1c6692e2d",
   "metadata": {},
   "outputs": [
    {
     "name": "stdout",
     "output_type": "stream",
     "text": [
      "0\n",
      "1\n",
      "2\n",
      "3\n",
      "4\n",
      "5\n",
      "6\n",
      "7\n",
      "8\n",
      "9\n"
     ]
    }
   ],
   "source": [
    "for k in range(10):# [0, 10[\n",
    "    print(k)"
   ]
  },
  {
   "cell_type": "code",
   "execution_count": 35,
   "id": "c69c808c-dbf8-4f84-af1e-58702f3a2819",
   "metadata": {},
   "outputs": [
    {
     "name": "stdout",
     "output_type": "stream",
     "text": [
      "0\n",
      "7\n",
      "14\n",
      "21\n",
      "28\n",
      "35\n",
      "42\n",
      "49\n",
      "56\n",
      "63\n"
     ]
    }
   ],
   "source": [
    "for g in range(10):\n",
    "    print(g*7)"
   ]
  },
  {
   "cell_type": "code",
   "execution_count": 37,
   "id": "6ff34db5-67ac-494a-97ff-d1b19a005364",
   "metadata": {},
   "outputs": [
    {
     "name": "stdout",
     "output_type": "stream",
     "text": [
      "7 x 0  ==  0\n",
      "7 x 1  ==  7\n",
      "7 x 2  ==  14\n",
      "7 x 3  ==  21\n",
      "7 x 4  ==  28\n",
      "7 x 5  ==  35\n",
      "7 x 6  ==  42\n",
      "7 x 7  ==  49\n",
      "7 x 8  ==  56\n",
      "7 x 9  ==  63\n",
      "7 x 10  ==  70\n",
      "7 x 11  ==  77\n",
      "7 x 12  ==  84\n",
      "7 x 13  ==  91\n",
      "7 x 14  ==  98\n",
      "7 x 15  ==  105\n",
      "7 x 16  ==  112\n",
      "7 x 17  ==  119\n",
      "7 x 18  ==  126\n",
      "7 x 19  ==  133\n",
      "7 x 20  ==  140\n",
      "7 x 21  ==  147\n",
      "7 x 22  ==  154\n",
      "7 x 23  ==  161\n",
      "7 x 24  ==  168\n",
      "7 x 25  ==  175\n",
      "7 x 26  ==  182\n",
      "7 x 27  ==  189\n",
      "7 x 28  ==  196\n",
      "7 x 29  ==  203\n",
      "7 x 30  ==  210\n",
      "7 x 31  ==  217\n",
      "7 x 32  ==  224\n",
      "7 x 33  ==  231\n",
      "7 x 34  ==  238\n",
      "7 x 35  ==  245\n",
      "7 x 36  ==  252\n",
      "7 x 37  ==  259\n",
      "7 x 38  ==  266\n",
      "7 x 39  ==  273\n",
      "7 x 40  ==  280\n",
      "7 x 41  ==  287\n",
      "7 x 42  ==  294\n",
      "7 x 43  ==  301\n",
      "7 x 44  ==  308\n",
      "7 x 45  ==  315\n",
      "7 x 46  ==  322\n",
      "7 x 47  ==  329\n",
      "7 x 48  ==  336\n",
      "7 x 49  ==  343\n"
     ]
    }
   ],
   "source": [
    "for i in range(50):\n",
    "    print(\"7 x\",i, \" == \",i*7)"
   ]
  },
  {
   "cell_type": "code",
   "execution_count": 64,
   "id": "c56d0fb9-5dc3-46d0-bcec-09ed43fcd615",
   "metadata": {},
   "outputs": [
    {
     "name": "stdin",
     "output_type": "stream",
     "text": [
      " %\n"
     ]
    }
   ],
   "source": [
    "operation = input()"
   ]
  },
  {
   "cell_type": "code",
   "execution_count": 59,
   "id": "0f7b9b95-70c9-47e4-9f8c-ba20b3963227",
   "metadata": {},
   "outputs": [
    {
     "name": "stdin",
     "output_type": "stream",
     "text": [
      " 5\n",
      " 2\n"
     ]
    }
   ],
   "source": [
    "num1 = input()\n",
    "num1 = int(num1)\n",
    "num2 = input()\n",
    "num2 = int(num2)"
   ]
  },
  {
   "cell_type": "code",
   "execution_count": 117,
   "id": "3c706e47-7d9c-42b9-9fe3-5e4dffa297e3",
   "metadata": {},
   "outputs": [],
   "source": [
    "def calculator(operation, num1, num2):\n",
    "    if (operation == \"*\"):\n",
    "       print(num1,operation,num2, \"==\",num1*num2)\n",
    "    elif (operation == \"+\"):\n",
    "       print (num1,operation,num2, \"==\",num1+num2)\n",
    "    elif (operation == \"-\"):\n",
    "       print (num1,operation,num2, \"==\",num1-num2)\n",
    "    elif (operation == \"/\"):\n",
    "       print(num1,operation,num2, \"==\",num1/num2)\n",
    "    elif (operation == \"//\"):\n",
    "       print(num1,operation,num2, \"==\",num1//num2)\n",
    "    elif (operation == \"%\"):\n",
    "       print(num1,operation,num2, \"==\",num1%num2)\n",
    "    elif (operation == \"**\"):\n",
    "       print(num1,operation,num2, \"==\",num1**num2)\n",
    "    else:\n",
    "       print(\"invalid operation\")"
   ]
  },
  {
   "cell_type": "markdown",
   "id": "c845d8ef-5b17-4183-8029-06ae3394217d",
   "metadata": {},
   "source": [
    "## lists"
   ]
  },
  {
   "cell_type": "code",
   "execution_count": 67,
   "id": "73d76888-f75c-4c11-b186-082edc2f578a",
   "metadata": {},
   "outputs": [],
   "source": [
    "my_list = [ 2, 7, 10, 14, 20, 44, 50 ]"
   ]
  },
  {
   "cell_type": "code",
   "execution_count": 72,
   "id": "c548e476-e36a-44d6-8107-2fa175b1c4b5",
   "metadata": {},
   "outputs": [
    {
     "data": {
      "text/plain": [
       "2"
      ]
     },
     "execution_count": 72,
     "metadata": {},
     "output_type": "execute_result"
    }
   ],
   "source": [
    "my_list [ 0 ]"
   ]
  },
  {
   "cell_type": "code",
   "execution_count": 74,
   "id": "cbe0b212-fd59-4be5-bfe8-a35f0da27970",
   "metadata": {},
   "outputs": [],
   "source": [
    "my_list.append(55)"
   ]
  },
  {
   "cell_type": "code",
   "execution_count": 76,
   "id": "a949274e-4b80-4793-a9ef-749978534966",
   "metadata": {},
   "outputs": [],
   "source": [
    "my_list.insert(3, \"mina\")"
   ]
  },
  {
   "cell_type": "code",
   "execution_count": 77,
   "id": "ded37047-f376-4a12-a394-7fe3118c3398",
   "metadata": {},
   "outputs": [
    {
     "name": "stdout",
     "output_type": "stream",
     "text": [
      "[2, 7, 10, 'mina', 14, 20, 44, 50, 55, 55]\n"
     ]
    }
   ],
   "source": [
    "print(my_list)"
   ]
  },
  {
   "cell_type": "code",
   "execution_count": 78,
   "id": "77c8decd-aca3-4d39-9657-d85bc918fd2d",
   "metadata": {},
   "outputs": [
    {
     "data": {
      "text/plain": [
       "10"
      ]
     },
     "execution_count": 78,
     "metadata": {},
     "output_type": "execute_result"
    }
   ],
   "source": [
    "len(my_list)"
   ]
  },
  {
   "cell_type": "code",
   "execution_count": 79,
   "id": "afcd733c-d0f4-4a9f-8d22-680e8cf8dc24",
   "metadata": {},
   "outputs": [
    {
     "data": {
      "text/plain": [
       "55"
      ]
     },
     "execution_count": 79,
     "metadata": {},
     "output_type": "execute_result"
    }
   ],
   "source": [
    "my_list[-1]"
   ]
  },
  {
   "cell_type": "code",
   "execution_count": 82,
   "id": "1d72299b-7d6a-4c2e-b9e9-308753d0726c",
   "metadata": {},
   "outputs": [
    {
     "data": {
      "text/plain": [
       "20"
      ]
     },
     "execution_count": 82,
     "metadata": {},
     "output_type": "execute_result"
    }
   ],
   "source": [
    "my_list[-5]"
   ]
  },
  {
   "cell_type": "code",
   "execution_count": 83,
   "id": "4b19b16c-054f-4706-8757-e89606b6924d",
   "metadata": {},
   "outputs": [
    {
     "data": {
      "text/plain": [
       "55"
      ]
     },
     "execution_count": 83,
     "metadata": {},
     "output_type": "execute_result"
    }
   ],
   "source": [
    "my_list[-2]"
   ]
  },
  {
   "cell_type": "code",
   "execution_count": 84,
   "id": "f76676c8-4e0e-404d-a809-6e1fc4489f03",
   "metadata": {},
   "outputs": [],
   "source": [
    "my_list.remove(55)"
   ]
  },
  {
   "cell_type": "code",
   "execution_count": 85,
   "id": "7c3246e4-c56e-4fd6-9cfc-d9ce0d2bb5cf",
   "metadata": {},
   "outputs": [
    {
     "name": "stdout",
     "output_type": "stream",
     "text": [
      "[2, 7, 10, 'mina', 14, 20, 44, 50, 55]\n"
     ]
    }
   ],
   "source": [
    "print(my_list)"
   ]
  },
  {
   "cell_type": "code",
   "execution_count": 86,
   "id": "8ef3feed-9a10-4ab8-9204-567cece04746",
   "metadata": {},
   "outputs": [
    {
     "data": {
      "text/plain": [
       "9"
      ]
     },
     "execution_count": 86,
     "metadata": {},
     "output_type": "execute_result"
    }
   ],
   "source": [
    "len(my_list)"
   ]
  },
  {
   "cell_type": "code",
   "execution_count": 87,
   "id": "6fa72bae-85c3-4b10-8745-a9027e6a5095",
   "metadata": {},
   "outputs": [
    {
     "data": {
      "text/plain": [
       "14"
      ]
     },
     "execution_count": 87,
     "metadata": {},
     "output_type": "execute_result"
    }
   ],
   "source": [
    "my_list[-5]"
   ]
  },
  {
   "cell_type": "code",
   "execution_count": 88,
   "id": "ebae314d-2ea0-4938-a857-dc0cf78ad7f3",
   "metadata": {},
   "outputs": [],
   "source": [
    "my_list.remove(\"mina\")"
   ]
  },
  {
   "cell_type": "code",
   "execution_count": 89,
   "id": "1d2601cb-9a14-4eea-af47-55a3fe6d017f",
   "metadata": {},
   "outputs": [
    {
     "name": "stdout",
     "output_type": "stream",
     "text": [
      "[2, 7, 10, 14, 20, 44, 50, 55]\n"
     ]
    }
   ],
   "source": [
    "print(my_list)"
   ]
  },
  {
   "cell_type": "code",
   "execution_count": 90,
   "id": "0774cbba-73c4-4e3d-9f10-5a81da7bd77a",
   "metadata": {},
   "outputs": [
    {
     "data": {
      "text/plain": [
       "8"
      ]
     },
     "execution_count": 90,
     "metadata": {},
     "output_type": "execute_result"
    }
   ],
   "source": [
    "len(my_list)"
   ]
  },
  {
   "cell_type": "code",
   "execution_count": 91,
   "id": "ac9fa61a-0e11-442d-bd6e-b3abaa207027",
   "metadata": {},
   "outputs": [
    {
     "data": {
      "text/plain": [
       "55"
      ]
     },
     "execution_count": 91,
     "metadata": {},
     "output_type": "execute_result"
    }
   ],
   "source": [
    "my_list.pop()"
   ]
  },
  {
   "cell_type": "code",
   "execution_count": 92,
   "id": "e1ec99ed-7f53-4678-a9e0-276fd15eb007",
   "metadata": {},
   "outputs": [
    {
     "data": {
      "text/plain": [
       "10"
      ]
     },
     "execution_count": 92,
     "metadata": {},
     "output_type": "execute_result"
    }
   ],
   "source": [
    "my_list.pop(2)"
   ]
  },
  {
   "cell_type": "code",
   "execution_count": 93,
   "id": "568e90d9-0d95-499d-9722-7976188b3e43",
   "metadata": {},
   "outputs": [
    {
     "data": {
      "text/plain": [
       "6"
      ]
     },
     "execution_count": 93,
     "metadata": {},
     "output_type": "execute_result"
    }
   ],
   "source": [
    "len(my_list)"
   ]
  },
  {
   "cell_type": "code",
   "execution_count": 94,
   "id": "d70477e0-b254-4f7a-a618-e5a1d4167e95",
   "metadata": {},
   "outputs": [
    {
     "name": "stdout",
     "output_type": "stream",
     "text": [
      "[2, 7, 14, 20, 44, 50]\n"
     ]
    }
   ],
   "source": [
    "print(my_list)"
   ]
  },
  {
   "cell_type": "code",
   "execution_count": 95,
   "id": "ba3e4ba1-c45e-478d-8c5e-2eb6483062a7",
   "metadata": {},
   "outputs": [],
   "source": [
    "names_list = [\"hamza\", \"amina\", \"amir\", \"abderahmane\", \"zaki\" ]"
   ]
  },
  {
   "cell_type": "code",
   "execution_count": 96,
   "id": "58f62a5e-49ca-435e-ad6e-731f369972f6",
   "metadata": {},
   "outputs": [],
   "source": [
    "names_list.append(\"ronaldo\")"
   ]
  },
  {
   "cell_type": "code",
   "execution_count": 98,
   "id": "c7d602f6-3a98-432d-9857-bb558a0775b4",
   "metadata": {},
   "outputs": [],
   "source": [
    "names_list.remove(\"amina\")"
   ]
  },
  {
   "cell_type": "code",
   "execution_count": 99,
   "id": "9ce7bdbb-5f15-4c6b-8aab-f0033aaad94d",
   "metadata": {},
   "outputs": [
    {
     "name": "stdout",
     "output_type": "stream",
     "text": [
      "['hamza', 'amir', 'abderahmane', 'zaki', 'ronaldo']\n"
     ]
    }
   ],
   "source": [
    "print(names_list)"
   ]
  },
  {
   "cell_type": "code",
   "execution_count": 101,
   "id": "1b219f8a-5465-4628-8ce6-4cfede8ef90d",
   "metadata": {},
   "outputs": [],
   "source": [
    "names_list.insert(3, \"mina\")"
   ]
  },
  {
   "cell_type": "code",
   "execution_count": 102,
   "id": "c574f454-0a77-442f-8aca-d9af24dfba64",
   "metadata": {},
   "outputs": [
    {
     "data": {
      "text/plain": [
       "'ronaldo'"
      ]
     },
     "execution_count": 102,
     "metadata": {},
     "output_type": "execute_result"
    }
   ],
   "source": [
    "names_list.pop()"
   ]
  },
  {
   "cell_type": "code",
   "execution_count": 103,
   "id": "cf7b4f8b-19db-4809-88c9-67ccb4f11705",
   "metadata": {},
   "outputs": [
    {
     "name": "stdout",
     "output_type": "stream",
     "text": [
      "['hamza', 'amir', 'abderahmane', 'mina', 'zaki']\n"
     ]
    }
   ],
   "source": [
    "print(names_list)"
   ]
  },
  {
   "cell_type": "code",
   "execution_count": 109,
   "id": "3a766342-c2c9-4a47-a177-e5207ab1754b",
   "metadata": {},
   "outputs": [
    {
     "name": "stdout",
     "output_type": "stream",
     "text": [
      "5 % 2 == 1\n"
     ]
    }
   ],
   "source": [
    "calculator()"
   ]
  },
  {
   "cell_type": "code",
   "execution_count": 118,
   "id": "9ab001b2-f7b4-4ab3-a252-d1d6350634df",
   "metadata": {},
   "outputs": [
    {
     "name": "stdout",
     "output_type": "stream",
     "text": [
      "50 % 2 == 0\n"
     ]
    }
   ],
   "source": [
    "calculator(\"%\", 50, 2)"
   ]
  },
  {
   "cell_type": "code",
   "execution_count": null,
   "id": "ad38b66a-1968-4c32-bb6d-2feb14508ecc",
   "metadata": {},
   "outputs": [],
   "source": []
  }
 ],
 "metadata": {
  "kernelspec": {
   "display_name": "Python 3 (ipykernel)",
   "language": "python",
   "name": "python3"
  },
  "language_info": {
   "codemirror_mode": {
    "name": "ipython",
    "version": 3
   },
   "file_extension": ".py",
   "mimetype": "text/x-python",
   "name": "python",
   "nbconvert_exporter": "python",
   "pygments_lexer": "ipython3",
   "version": "3.13.0"
  }
 },
 "nbformat": 4,
 "nbformat_minor": 5
}
