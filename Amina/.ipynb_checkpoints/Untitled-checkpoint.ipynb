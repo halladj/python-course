{
 "cells": [
  {
   "cell_type": "code",
   "execution_count": 19,
   "id": "e615cbe2-7288-4b16-85af-5c44875fedcc",
   "metadata": {},
   "outputs": [
    {
     "name": "stdin",
     "output_type": "stream",
     "text": [
      " 100\n"
     ]
    }
   ],
   "source": [
    "num1 = input()"
   ]
  },
  {
   "cell_type": "code",
   "execution_count": 23,
   "id": "69c3eb07-ab8c-4fe6-99be-f9d2bb64abe1",
   "metadata": {},
   "outputs": [
    {
     "name": "stdin",
     "output_type": "stream",
     "text": [
      " 100\n"
     ]
    }
   ],
   "source": [
    "num2 = input()"
   ]
  },
  {
   "cell_type": "code",
   "execution_count": 9,
   "id": "d885dab3-4f5f-4779-b1b0-c596cf30532c",
   "metadata": {},
   "outputs": [
    {
     "name": "stdout",
     "output_type": "stream",
     "text": [
      "num1 is not equal num2\n"
     ]
    }
   ],
   "source": [
    "if num1 == num2:\n",
    "    print(\"num1 is equal num2\")\n",
    "else: \n",
    "    print(\"num1 is not equal num2\")"
   ]
  },
  {
   "cell_type": "code",
   "execution_count": 26,
   "id": "1c4b4407-bfcc-4cdd-add1-8f68be026546",
   "metadata": {},
   "outputs": [
    {
     "name": "stdout",
     "output_type": "stream",
     "text": [
      "they are equal\n"
     ]
    }
   ],
   "source": [
    "if (num1 == num2) and (num1 < num2): \n",
    "    print(\"num1 is equal num2, and num1 is greater than num2\")\n",
    "elif num1 == 100:\n",
    "    print(\"num1 == 100\")\n",
    "elif num1 == num2:\n",
    "    print(\"they are equal\")\n",
    "else: \n",
    "    print(\"he is lying\")"
   ]
  },
  {
   "cell_type": "code",
   "execution_count": 29,
   "id": "0c333193-a539-40c1-b78e-bcc1c6692e2d",
   "metadata": {},
   "outputs": [
    {
     "name": "stdout",
     "output_type": "stream",
     "text": [
      "0\n",
      "1\n",
      "2\n",
      "3\n",
      "4\n",
      "5\n",
      "6\n",
      "7\n",
      "8\n",
      "9\n"
     ]
    }
   ],
   "source": [
    "for k in range(10):# [0, 10[\n",
    "    print(k)"
   ]
  },
  {
   "cell_type": "code",
   "execution_count": 35,
   "id": "c69c808c-dbf8-4f84-af1e-58702f3a2819",
   "metadata": {},
   "outputs": [
    {
     "name": "stdout",
     "output_type": "stream",
     "text": [
      "0\n",
      "7\n",
      "14\n",
      "21\n",
      "28\n",
      "35\n",
      "42\n",
      "49\n",
      "56\n",
      "63\n"
     ]
    }
   ],
   "source": [
    "for g in range(10):\n",
    "    print(g*7)"
   ]
  },
  {
   "cell_type": "code",
   "execution_count": 37,
   "id": "6ff34db5-67ac-494a-97ff-d1b19a005364",
   "metadata": {},
   "outputs": [
    {
     "name": "stdout",
     "output_type": "stream",
     "text": [
      "7 x 0  ==  0\n",
      "7 x 1  ==  7\n",
      "7 x 2  ==  14\n",
      "7 x 3  ==  21\n",
      "7 x 4  ==  28\n",
      "7 x 5  ==  35\n",
      "7 x 6  ==  42\n",
      "7 x 7  ==  49\n",
      "7 x 8  ==  56\n",
      "7 x 9  ==  63\n",
      "7 x 10  ==  70\n",
      "7 x 11  ==  77\n",
      "7 x 12  ==  84\n",
      "7 x 13  ==  91\n",
      "7 x 14  ==  98\n",
      "7 x 15  ==  105\n",
      "7 x 16  ==  112\n",
      "7 x 17  ==  119\n",
      "7 x 18  ==  126\n",
      "7 x 19  ==  133\n",
      "7 x 20  ==  140\n",
      "7 x 21  ==  147\n",
      "7 x 22  ==  154\n",
      "7 x 23  ==  161\n",
      "7 x 24  ==  168\n",
      "7 x 25  ==  175\n",
      "7 x 26  ==  182\n",
      "7 x 27  ==  189\n",
      "7 x 28  ==  196\n",
      "7 x 29  ==  203\n",
      "7 x 30  ==  210\n",
      "7 x 31  ==  217\n",
      "7 x 32  ==  224\n",
      "7 x 33  ==  231\n",
      "7 x 34  ==  238\n",
      "7 x 35  ==  245\n",
      "7 x 36  ==  252\n",
      "7 x 37  ==  259\n",
      "7 x 38  ==  266\n",
      "7 x 39  ==  273\n",
      "7 x 40  ==  280\n",
      "7 x 41  ==  287\n",
      "7 x 42  ==  294\n",
      "7 x 43  ==  301\n",
      "7 x 44  ==  308\n",
      "7 x 45  ==  315\n",
      "7 x 46  ==  322\n",
      "7 x 47  ==  329\n",
      "7 x 48  ==  336\n",
      "7 x 49  ==  343\n"
     ]
    }
   ],
   "source": [
    "for i in range(50):\n",
    "    print(\"7 x\",i, \" == \",i*7)"
   ]
  },
  {
   "cell_type": "code",
   "execution_count": 64,
   "id": "c56d0fb9-5dc3-46d0-bcec-09ed43fcd615",
   "metadata": {},
   "outputs": [
    {
     "name": "stdin",
     "output_type": "stream",
     "text": [
      " %\n"
     ]
    }
   ],
   "source": [
    "operation = input()"
   ]
  },
  {
   "cell_type": "code",
   "execution_count": 59,
   "id": "0f7b9b95-70c9-47e4-9f8c-ba20b3963227",
   "metadata": {},
   "outputs": [
    {
     "name": "stdin",
     "output_type": "stream",
     "text": [
      " 5\n",
      " 2\n"
     ]
    }
   ],
   "source": [
    "num1 = input()\n",
    "num1 = int(num1)\n",
    "num2 = input()\n",
    "num2 = int(num2)"
   ]
  },
  {
   "cell_type": "code",
   "execution_count": 66,
   "id": "3c706e47-7d9c-42b9-9fe3-5e4dffa297e3",
   "metadata": {},
   "outputs": [
    {
     "name": "stdout",
     "output_type": "stream",
     "text": [
      "5 % 2 == 1\n"
     ]
    }
   ],
   "source": [
    "if (operation == \"*\"):\n",
    "    print(num1,operation,num2, \"==\",num1*num2)\n",
    "elif (operation == \"+\"):\n",
    "    print (num1,operation,num2, \"==\",num1+num2)\n",
    "elif (operation == \"-\"):\n",
    "    print (num1,operation,num2, \"==\",num1-num2)\n",
    "elif (operation == \"/\"):\n",
    "    print(num1,operation,num2, \"==\",num1/num2)\n",
    "elif (operation == \"//\"):\n",
    "    print(num1,operation,num2, \"==\",num1//num2)\n",
    "elif (operation == \"%\"):\n",
    "    print(num1,operation,num2, \"==\",num1%num2)\n",
    "elif (operation == \"**\"):\n",
    "    print(num1,operation,num2, \"==\",num1**num2)\n",
    "else:\n",
    "    print(\"invalid operation\")"
   ]
  },
  {
   "cell_type": "code",
   "execution_count": null,
   "id": "84b227d7-35f2-4096-a5a5-e87e975acd30",
   "metadata": {},
   "outputs": [],
   "source": []
  }
 ],
 "metadata": {
  "kernelspec": {
   "display_name": "Python 3 (ipykernel)",
   "language": "python",
   "name": "python3"
  },
  "language_info": {
   "codemirror_mode": {
    "name": "ipython",
    "version": 3
   },
   "file_extension": ".py",
   "mimetype": "text/x-python",
   "name": "python",
   "nbconvert_exporter": "python",
   "pygments_lexer": "ipython3",
   "version": "3.13.0"
  }
 },
 "nbformat": 4,
 "nbformat_minor": 5
}
